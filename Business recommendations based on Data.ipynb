{
 "cells": [
  {
   "cell_type": "markdown",
   "metadata": {},
   "source": [
    "# Making Business recommendations based on Data Project"
   ]
  },
  {
   "cell_type": "markdown",
   "metadata": {},
   "source": [
    "As an analyst at a big online store, in this project my task is to prioritize the hypotheses that were made, launch an A/B test, and analyze the results."
   ]
  },
  {
   "cell_type": "markdown",
   "metadata": {},
   "source": [
    "## Data preparation "
   ]
  },
  {
   "cell_type": "code",
   "execution_count": 49,
   "metadata": {},
   "outputs": [
    {
     "data": {
      "text/html": [
       "        <script type=\"text/javascript\">\n",
       "        window.PlotlyConfig = {MathJaxConfig: 'local'};\n",
       "        if (window.MathJax) {MathJax.Hub.Config({SVG: {font: \"STIX-Web\"}});}\n",
       "        if (typeof require !== 'undefined') {\n",
       "        require.undef(\"plotly\");\n",
       "        requirejs.config({\n",
       "            paths: {\n",
       "                'plotly': ['https://cdn.plot.ly/plotly-2.11.1.min']\n",
       "            }\n",
       "        });\n",
       "        require(['plotly'], function(Plotly) {\n",
       "            window._Plotly = Plotly;\n",
       "        });\n",
       "        }\n",
       "        </script>\n",
       "        "
      ]
     },
     "metadata": {},
     "output_type": "display_data"
    }
   ],
   "source": [
    "# Loading all the libraries i will use:\n",
    "import pandas as pd\n",
    "import pandas as pd\n",
    "import numpy as np\n",
    "import matplotlib.pyplot as plt\n",
    "import datetime\n",
    "import seaborn as sns\n",
    "import math \n",
    "from functools import reduce\n",
    "from scipy import stats as st\n",
    "import warnings\n",
    "warnings.filterwarnings(\"ignore\")\n",
    "import plotly.express as px\n",
    "\n",
    "import plotly.graph_objects as go\n",
    "import plotly.offline\n",
    "import requests\n",
    "import io\n",
    "plotly.offline.init_notebook_mode(connected=True)"
   ]
  },
  {
   "cell_type": "markdown",
   "metadata": {},
   "source": [
    "The file hypotheses_us.csv contains nine hypotheses on boosting an online store's revenue with Reach, Impact, Confidence, and Effort specified for each.\n",
    "My goal is to: \n",
    "1. Apply the ICE framework to prioritize hypotheses and sort them in descending order of priority.\n",
    "2. Apply the RICE framework to prioritize hypotheses and sort them in descending order of priority.\n",
    "3. Show how the prioritization of hypotheses changes when using RICE instead of ICE. "
   ]
  },
  {
   "cell_type": "markdown",
   "metadata": {},
   "source": [
    "## Prioritizing Hypotheses"
   ]
  },
  {
   "cell_type": "code",
   "execution_count": 50,
   "metadata": {
    "scrolled": true
   },
   "outputs": [
    {
     "data": {
      "text/html": [
       "<div>\n",
       "<style scoped>\n",
       "    .dataframe tbody tr th:only-of-type {\n",
       "        vertical-align: middle;\n",
       "    }\n",
       "\n",
       "    .dataframe tbody tr th {\n",
       "        vertical-align: top;\n",
       "    }\n",
       "\n",
       "    .dataframe thead th {\n",
       "        text-align: right;\n",
       "    }\n",
       "</style>\n",
       "<table border=\"1\" class=\"dataframe\">\n",
       "  <thead>\n",
       "    <tr style=\"text-align: right;\">\n",
       "      <th></th>\n",
       "      <th>Hypothesis</th>\n",
       "      <th>Reach</th>\n",
       "      <th>Impact</th>\n",
       "      <th>Confidence</th>\n",
       "      <th>Effort</th>\n",
       "    </tr>\n",
       "  </thead>\n",
       "  <tbody>\n",
       "    <tr>\n",
       "      <th>0</th>\n",
       "      <td>Add two new channels for attracting traffic. This will bring 30% more users</td>\n",
       "      <td>3</td>\n",
       "      <td>10</td>\n",
       "      <td>8</td>\n",
       "      <td>6</td>\n",
       "    </tr>\n",
       "    <tr>\n",
       "      <th>1</th>\n",
       "      <td>Launch your own delivery service. This will shorten delivery time</td>\n",
       "      <td>2</td>\n",
       "      <td>5</td>\n",
       "      <td>4</td>\n",
       "      <td>10</td>\n",
       "    </tr>\n",
       "    <tr>\n",
       "      <th>2</th>\n",
       "      <td>Add product recommendation blocks to the store's site. This will increase conversion and average purchase size</td>\n",
       "      <td>8</td>\n",
       "      <td>3</td>\n",
       "      <td>7</td>\n",
       "      <td>3</td>\n",
       "    </tr>\n",
       "    <tr>\n",
       "      <th>3</th>\n",
       "      <td>Change the category structure. This will increase conversion since users will find the products they want more quickly</td>\n",
       "      <td>8</td>\n",
       "      <td>3</td>\n",
       "      <td>3</td>\n",
       "      <td>8</td>\n",
       "    </tr>\n",
       "    <tr>\n",
       "      <th>4</th>\n",
       "      <td>Change the background color on the main page. This will increase user engagement</td>\n",
       "      <td>3</td>\n",
       "      <td>1</td>\n",
       "      <td>1</td>\n",
       "      <td>1</td>\n",
       "    </tr>\n",
       "    <tr>\n",
       "      <th>5</th>\n",
       "      <td>Add a customer review page. This will increase the number of orders</td>\n",
       "      <td>3</td>\n",
       "      <td>2</td>\n",
       "      <td>2</td>\n",
       "      <td>3</td>\n",
       "    </tr>\n",
       "    <tr>\n",
       "      <th>6</th>\n",
       "      <td>Show banners with current offers and sales on the main page. This will boost conversion</td>\n",
       "      <td>5</td>\n",
       "      <td>3</td>\n",
       "      <td>8</td>\n",
       "      <td>3</td>\n",
       "    </tr>\n",
       "    <tr>\n",
       "      <th>7</th>\n",
       "      <td>Add a subscription form to all the main pages. This will help you compile a mailing list</td>\n",
       "      <td>10</td>\n",
       "      <td>7</td>\n",
       "      <td>8</td>\n",
       "      <td>5</td>\n",
       "    </tr>\n",
       "    <tr>\n",
       "      <th>8</th>\n",
       "      <td>Launch a promotion that gives users discounts on their birthdays</td>\n",
       "      <td>1</td>\n",
       "      <td>9</td>\n",
       "      <td>9</td>\n",
       "      <td>5</td>\n",
       "    </tr>\n",
       "  </tbody>\n",
       "</table>\n",
       "</div>"
      ],
      "text/plain": [
       "                                                                                                               Hypothesis  \\\n",
       "0  Add two new channels for attracting traffic. This will bring 30% more users                                              \n",
       "1  Launch your own delivery service. This will shorten delivery time                                                        \n",
       "2  Add product recommendation blocks to the store's site. This will increase conversion and average purchase size           \n",
       "3  Change the category structure. This will increase conversion since users will find the products they want more quickly   \n",
       "4  Change the background color on the main page. This will increase user engagement                                         \n",
       "5  Add a customer review page. This will increase the number of orders                                                      \n",
       "6  Show banners with current offers and sales on the main page. This will boost conversion                                  \n",
       "7  Add a subscription form to all the main pages. This will help you compile a mailing list                                 \n",
       "8  Launch a promotion that gives users discounts on their birthdays                                                         \n",
       "\n",
       "   Reach  Impact  Confidence  Effort  \n",
       "0  3      10      8           6       \n",
       "1  2      5       4           10      \n",
       "2  8      3       7           3       \n",
       "3  8      3       3           8       \n",
       "4  3      1       1           1       \n",
       "5  3      2       2           3       \n",
       "6  5      3       8           3       \n",
       "7  10     7       8           5       \n",
       "8  1      9       9           5       "
      ]
     },
     "execution_count": 50,
     "metadata": {},
     "output_type": "execute_result"
    }
   ],
   "source": [
    "#exploring the data \n",
    "\n",
    "    \n",
    "# Downloading the csv file from my GitHub account\n",
    "\n",
    "url = \"https://raw.githubusercontent.com/yoav-karsenty/-Making-Business-Decisions-Based-On-Data-Project/main/hypotheses_us.csv\"\n",
    "download = requests.get(url).content\n",
    "\n",
    "# Reading the downloaded content and turning it into a pandas dataframe\n",
    "\n",
    "hypo = pd.read_csv(io.StringIO(download.decode('utf-8')),sep = ';')\n",
    "\n",
    "pd.set_option(\"display.max_colwidth\", -1)\n",
    "\n",
    "hypo\n"
   ]
  },
  {
   "cell_type": "code",
   "execution_count": 51,
   "metadata": {},
   "outputs": [],
   "source": [
    "hypo.columns = hypo.columns.str.lower()"
   ]
  },
  {
   "cell_type": "code",
   "execution_count": 52,
   "metadata": {},
   "outputs": [
    {
     "data": {
      "text/html": [
       "<div>\n",
       "<style scoped>\n",
       "    .dataframe tbody tr th:only-of-type {\n",
       "        vertical-align: middle;\n",
       "    }\n",
       "\n",
       "    .dataframe tbody tr th {\n",
       "        vertical-align: top;\n",
       "    }\n",
       "\n",
       "    .dataframe thead th {\n",
       "        text-align: right;\n",
       "    }\n",
       "</style>\n",
       "<table border=\"1\" class=\"dataframe\">\n",
       "  <thead>\n",
       "    <tr style=\"text-align: right;\">\n",
       "      <th></th>\n",
       "      <th>index</th>\n",
       "      <th>hypothesis</th>\n",
       "      <th>ICE</th>\n",
       "    </tr>\n",
       "  </thead>\n",
       "  <tbody>\n",
       "    <tr>\n",
       "      <th>8</th>\n",
       "      <td>8</td>\n",
       "      <td>Launch a promotion that gives users discounts on their birthdays</td>\n",
       "      <td>16.200000</td>\n",
       "    </tr>\n",
       "    <tr>\n",
       "      <th>0</th>\n",
       "      <td>0</td>\n",
       "      <td>Add two new channels for attracting traffic. This will bring 30% more users</td>\n",
       "      <td>13.333333</td>\n",
       "    </tr>\n",
       "    <tr>\n",
       "      <th>7</th>\n",
       "      <td>7</td>\n",
       "      <td>Add a subscription form to all the main pages. This will help you compile a mailing list</td>\n",
       "      <td>11.200000</td>\n",
       "    </tr>\n",
       "    <tr>\n",
       "      <th>6</th>\n",
       "      <td>6</td>\n",
       "      <td>Show banners with current offers and sales on the main page. This will boost conversion</td>\n",
       "      <td>8.000000</td>\n",
       "    </tr>\n",
       "    <tr>\n",
       "      <th>2</th>\n",
       "      <td>2</td>\n",
       "      <td>Add product recommendation blocks to the store's site. This will increase conversion and average purchase size</td>\n",
       "      <td>7.000000</td>\n",
       "    </tr>\n",
       "    <tr>\n",
       "      <th>1</th>\n",
       "      <td>1</td>\n",
       "      <td>Launch your own delivery service. This will shorten delivery time</td>\n",
       "      <td>2.000000</td>\n",
       "    </tr>\n",
       "    <tr>\n",
       "      <th>5</th>\n",
       "      <td>5</td>\n",
       "      <td>Add a customer review page. This will increase the number of orders</td>\n",
       "      <td>1.333333</td>\n",
       "    </tr>\n",
       "    <tr>\n",
       "      <th>3</th>\n",
       "      <td>3</td>\n",
       "      <td>Change the category structure. This will increase conversion since users will find the products they want more quickly</td>\n",
       "      <td>1.125000</td>\n",
       "    </tr>\n",
       "    <tr>\n",
       "      <th>4</th>\n",
       "      <td>4</td>\n",
       "      <td>Change the background color on the main page. This will increase user engagement</td>\n",
       "      <td>1.000000</td>\n",
       "    </tr>\n",
       "  </tbody>\n",
       "</table>\n",
       "</div>"
      ],
      "text/plain": [
       "   index  \\\n",
       "8  8       \n",
       "0  0       \n",
       "7  7       \n",
       "6  6       \n",
       "2  2       \n",
       "1  1       \n",
       "5  5       \n",
       "3  3       \n",
       "4  4       \n",
       "\n",
       "                                                                                                               hypothesis  \\\n",
       "8  Launch a promotion that gives users discounts on their birthdays                                                         \n",
       "0  Add two new channels for attracting traffic. This will bring 30% more users                                              \n",
       "7  Add a subscription form to all the main pages. This will help you compile a mailing list                                 \n",
       "6  Show banners with current offers and sales on the main page. This will boost conversion                                  \n",
       "2  Add product recommendation blocks to the store's site. This will increase conversion and average purchase size           \n",
       "1  Launch your own delivery service. This will shorten delivery time                                                        \n",
       "5  Add a customer review page. This will increase the number of orders                                                      \n",
       "3  Change the category structure. This will increase conversion since users will find the products they want more quickly   \n",
       "4  Change the background color on the main page. This will increase user engagement                                         \n",
       "\n",
       "         ICE  \n",
       "8  16.200000  \n",
       "0  13.333333  \n",
       "7  11.200000  \n",
       "6  8.000000   \n",
       "2  7.000000   \n",
       "1  2.000000   \n",
       "5  1.333333   \n",
       "3  1.125000   \n",
       "4  1.000000   "
      ]
     },
     "execution_count": 52,
     "metadata": {},
     "output_type": "execute_result"
    }
   ],
   "source": [
    "\n",
    "hypo['ICE'] = (hypo['impact']*hypo['confidence']) / hypo['effort']\n",
    "hypo[['hypothesis','ICE']].reset_index().sort_values(by = 'ICE',ascending = False)"
   ]
  },
  {
   "cell_type": "code",
   "execution_count": 53,
   "metadata": {
    "scrolled": false
   },
   "outputs": [
    {
     "data": {
      "text/html": [
       "<div>\n",
       "<style scoped>\n",
       "    .dataframe tbody tr th:only-of-type {\n",
       "        vertical-align: middle;\n",
       "    }\n",
       "\n",
       "    .dataframe tbody tr th {\n",
       "        vertical-align: top;\n",
       "    }\n",
       "\n",
       "    .dataframe thead th {\n",
       "        text-align: right;\n",
       "    }\n",
       "</style>\n",
       "<table border=\"1\" class=\"dataframe\">\n",
       "  <thead>\n",
       "    <tr style=\"text-align: right;\">\n",
       "      <th></th>\n",
       "      <th>hypothesis</th>\n",
       "      <th>RICE</th>\n",
       "    </tr>\n",
       "  </thead>\n",
       "  <tbody>\n",
       "    <tr>\n",
       "      <th>7</th>\n",
       "      <td>Add a subscription form to all the main pages. This will help you compile a mailing list</td>\n",
       "      <td>112.0</td>\n",
       "    </tr>\n",
       "    <tr>\n",
       "      <th>2</th>\n",
       "      <td>Add product recommendation blocks to the store's site. This will increase conversion and average purchase size</td>\n",
       "      <td>56.0</td>\n",
       "    </tr>\n",
       "    <tr>\n",
       "      <th>0</th>\n",
       "      <td>Add two new channels for attracting traffic. This will bring 30% more users</td>\n",
       "      <td>40.0</td>\n",
       "    </tr>\n",
       "    <tr>\n",
       "      <th>6</th>\n",
       "      <td>Show banners with current offers and sales on the main page. This will boost conversion</td>\n",
       "      <td>40.0</td>\n",
       "    </tr>\n",
       "    <tr>\n",
       "      <th>8</th>\n",
       "      <td>Launch a promotion that gives users discounts on their birthdays</td>\n",
       "      <td>16.2</td>\n",
       "    </tr>\n",
       "    <tr>\n",
       "      <th>3</th>\n",
       "      <td>Change the category structure. This will increase conversion since users will find the products they want more quickly</td>\n",
       "      <td>9.0</td>\n",
       "    </tr>\n",
       "    <tr>\n",
       "      <th>1</th>\n",
       "      <td>Launch your own delivery service. This will shorten delivery time</td>\n",
       "      <td>4.0</td>\n",
       "    </tr>\n",
       "    <tr>\n",
       "      <th>5</th>\n",
       "      <td>Add a customer review page. This will increase the number of orders</td>\n",
       "      <td>4.0</td>\n",
       "    </tr>\n",
       "    <tr>\n",
       "      <th>4</th>\n",
       "      <td>Change the background color on the main page. This will increase user engagement</td>\n",
       "      <td>3.0</td>\n",
       "    </tr>\n",
       "  </tbody>\n",
       "</table>\n",
       "</div>"
      ],
      "text/plain": [
       "                                                                                                               hypothesis  \\\n",
       "7  Add a subscription form to all the main pages. This will help you compile a mailing list                                 \n",
       "2  Add product recommendation blocks to the store's site. This will increase conversion and average purchase size           \n",
       "0  Add two new channels for attracting traffic. This will bring 30% more users                                              \n",
       "6  Show banners with current offers and sales on the main page. This will boost conversion                                  \n",
       "8  Launch a promotion that gives users discounts on their birthdays                                                         \n",
       "3  Change the category structure. This will increase conversion since users will find the products they want more quickly   \n",
       "1  Launch your own delivery service. This will shorten delivery time                                                        \n",
       "5  Add a customer review page. This will increase the number of orders                                                      \n",
       "4  Change the background color on the main page. This will increase user engagement                                         \n",
       "\n",
       "    RICE  \n",
       "7  112.0  \n",
       "2  56.0   \n",
       "0  40.0   \n",
       "6  40.0   \n",
       "8  16.2   \n",
       "3  9.0    \n",
       "1  4.0    \n",
       "5  4.0    \n",
       "4  3.0    "
      ]
     },
     "execution_count": 53,
     "metadata": {},
     "output_type": "execute_result"
    }
   ],
   "source": [
    "hypo['RICE'] = (hypo['reach'] *hypo['impact'] * hypo['confidence'])/hypo['effort']\n",
    "hypo[['hypothesis','RICE']].sort_values(by = 'RICE',ascending = False)"
   ]
  },
  {
   "cell_type": "markdown",
   "metadata": {},
   "source": [
    "Using the ICE method of prioritising, the top hypotheses are 8,0 and 7.When using the RICE method of prioritising, the top hypotheses are 7,2 and 0. The change origins from the fact that when calculating RICE, we also multiply impact and confidence by reach, wich we dont do with the ICE method, but we still devide both by EFFORT. Hypotheses 7 and 2 have  high REACH values (10,8) so that is why they jumped ahead of the list when using RICE."
   ]
  },
  {
   "cell_type": "markdown",
   "metadata": {},
   "source": [
    "## A/B Test Analysis"
   ]
  },
  {
   "cell_type": "markdown",
   "metadata": {},
   "source": [
    "Next, i want to analyze the results of an A/B test  described in the files orders_us.csv and visits_us.csv.\n"
   ]
  },
  {
   "cell_type": "code",
   "execution_count": 54,
   "metadata": {
    "scrolled": true
   },
   "outputs": [
    {
     "data": {
      "text/html": [
       "<div>\n",
       "<style scoped>\n",
       "    .dataframe tbody tr th:only-of-type {\n",
       "        vertical-align: middle;\n",
       "    }\n",
       "\n",
       "    .dataframe tbody tr th {\n",
       "        vertical-align: top;\n",
       "    }\n",
       "\n",
       "    .dataframe thead th {\n",
       "        text-align: right;\n",
       "    }\n",
       "</style>\n",
       "<table border=\"1\" class=\"dataframe\">\n",
       "  <thead>\n",
       "    <tr style=\"text-align: right;\">\n",
       "      <th></th>\n",
       "      <th>transactionId</th>\n",
       "      <th>visitorId</th>\n",
       "      <th>date</th>\n",
       "      <th>revenue</th>\n",
       "      <th>group</th>\n",
       "    </tr>\n",
       "  </thead>\n",
       "  <tbody>\n",
       "    <tr>\n",
       "      <th>0</th>\n",
       "      <td>3667963787</td>\n",
       "      <td>3312258926</td>\n",
       "      <td>2019-08-15</td>\n",
       "      <td>30.4</td>\n",
       "      <td>B</td>\n",
       "    </tr>\n",
       "    <tr>\n",
       "      <th>1</th>\n",
       "      <td>2804400009</td>\n",
       "      <td>3642806036</td>\n",
       "      <td>2019-08-15</td>\n",
       "      <td>15.2</td>\n",
       "      <td>B</td>\n",
       "    </tr>\n",
       "    <tr>\n",
       "      <th>2</th>\n",
       "      <td>2961555356</td>\n",
       "      <td>4069496402</td>\n",
       "      <td>2019-08-15</td>\n",
       "      <td>10.2</td>\n",
       "      <td>A</td>\n",
       "    </tr>\n",
       "    <tr>\n",
       "      <th>3</th>\n",
       "      <td>3797467345</td>\n",
       "      <td>1196621759</td>\n",
       "      <td>2019-08-15</td>\n",
       "      <td>155.1</td>\n",
       "      <td>B</td>\n",
       "    </tr>\n",
       "    <tr>\n",
       "      <th>4</th>\n",
       "      <td>2282983706</td>\n",
       "      <td>2322279887</td>\n",
       "      <td>2019-08-15</td>\n",
       "      <td>40.5</td>\n",
       "      <td>B</td>\n",
       "    </tr>\n",
       "  </tbody>\n",
       "</table>\n",
       "</div>"
      ],
      "text/plain": [
       "   transactionId   visitorId        date  revenue group\n",
       "0  3667963787     3312258926  2019-08-15  30.4     B   \n",
       "1  2804400009     3642806036  2019-08-15  15.2     B   \n",
       "2  2961555356     4069496402  2019-08-15  10.2     A   \n",
       "3  3797467345     1196621759  2019-08-15  155.1    B   \n",
       "4  2282983706     2322279887  2019-08-15  40.5     B   "
      ]
     },
     "execution_count": 54,
     "metadata": {},
     "output_type": "execute_result"
    }
   ],
   "source": [
    "#exploring the orders df\n",
    "\n",
    "    \n",
    "# Downloading the csv file from my GitHub account\n",
    "\n",
    "url = \"https://raw.githubusercontent.com/yoav-karsenty/-Making-Business-Decisions-Based-On-Data-Project/main/orders_us.csv\"\n",
    "download_o = requests.get(url).content\n",
    "\n",
    "# Reading the downloaded content and turning it into a pandas dataframe\n",
    "\n",
    "orders = pd.read_csv(io.StringIO(download_o.decode('utf-8')))\n",
    "\n",
    "# Printing out the first 5 rows of the dataframe\n",
    "orders.head()"
   ]
  },
  {
   "cell_type": "code",
   "execution_count": 55,
   "metadata": {},
   "outputs": [
    {
     "name": "stdout",
     "output_type": "stream",
     "text": [
      "<class 'pandas.core.frame.DataFrame'>\n",
      "RangeIndex: 1197 entries, 0 to 1196\n",
      "Data columns (total 5 columns):\n",
      " #   Column         Non-Null Count  Dtype  \n",
      "---  ------         --------------  -----  \n",
      " 0   transactionId  1197 non-null   int64  \n",
      " 1   visitorId      1197 non-null   int64  \n",
      " 2   date           1197 non-null   object \n",
      " 3   revenue        1197 non-null   float64\n",
      " 4   group          1197 non-null   object \n",
      "dtypes: float64(1), int64(2), object(2)\n",
      "memory usage: 46.9+ KB\n"
     ]
    }
   ],
   "source": [
    "orders.info()"
   ]
  },
  {
   "cell_type": "code",
   "execution_count": 56,
   "metadata": {},
   "outputs": [
    {
     "data": {
      "text/html": [
       "<div>\n",
       "<style scoped>\n",
       "    .dataframe tbody tr th:only-of-type {\n",
       "        vertical-align: middle;\n",
       "    }\n",
       "\n",
       "    .dataframe tbody tr th {\n",
       "        vertical-align: top;\n",
       "    }\n",
       "\n",
       "    .dataframe thead th {\n",
       "        text-align: right;\n",
       "    }\n",
       "</style>\n",
       "<table border=\"1\" class=\"dataframe\">\n",
       "  <thead>\n",
       "    <tr style=\"text-align: right;\">\n",
       "      <th></th>\n",
       "      <th>date</th>\n",
       "      <th>group</th>\n",
       "      <th>visits</th>\n",
       "    </tr>\n",
       "  </thead>\n",
       "  <tbody>\n",
       "    <tr>\n",
       "      <th>0</th>\n",
       "      <td>2019-08-01</td>\n",
       "      <td>A</td>\n",
       "      <td>719</td>\n",
       "    </tr>\n",
       "    <tr>\n",
       "      <th>1</th>\n",
       "      <td>2019-08-02</td>\n",
       "      <td>A</td>\n",
       "      <td>619</td>\n",
       "    </tr>\n",
       "    <tr>\n",
       "      <th>2</th>\n",
       "      <td>2019-08-03</td>\n",
       "      <td>A</td>\n",
       "      <td>507</td>\n",
       "    </tr>\n",
       "    <tr>\n",
       "      <th>3</th>\n",
       "      <td>2019-08-04</td>\n",
       "      <td>A</td>\n",
       "      <td>717</td>\n",
       "    </tr>\n",
       "    <tr>\n",
       "      <th>4</th>\n",
       "      <td>2019-08-05</td>\n",
       "      <td>A</td>\n",
       "      <td>756</td>\n",
       "    </tr>\n",
       "  </tbody>\n",
       "</table>\n",
       "</div>"
      ],
      "text/plain": [
       "         date group  visits\n",
       "0  2019-08-01  A     719   \n",
       "1  2019-08-02  A     619   \n",
       "2  2019-08-03  A     507   \n",
       "3  2019-08-04  A     717   \n",
       "4  2019-08-05  A     756   "
      ]
     },
     "execution_count": 56,
     "metadata": {},
     "output_type": "execute_result"
    }
   ],
   "source": [
    "#exploring the visits df\n",
    " \n",
    "# Downloading the csv file from my GitHub account\n",
    "\n",
    "url = \"https://raw.githubusercontent.com/yoav-karsenty/-Making-Business-Decisions-Based-On-Data-Project/main/visits_us.csv\"\n",
    "download_v = requests.get(url).content\n",
    "\n",
    "# Reading the downloaded content and turning it into a pandas dataframe\n",
    "\n",
    "visits = pd.read_csv(io.StringIO(download_v.decode('utf-8')))\n",
    "\n",
    "# Printing out the first 5 rows of the dataframe\n",
    "\n",
    "visits.head()"
   ]
  },
  {
   "cell_type": "code",
   "execution_count": 57,
   "metadata": {},
   "outputs": [
    {
     "name": "stdout",
     "output_type": "stream",
     "text": [
      "<class 'pandas.core.frame.DataFrame'>\n",
      "RangeIndex: 62 entries, 0 to 61\n",
      "Data columns (total 3 columns):\n",
      " #   Column  Non-Null Count  Dtype \n",
      "---  ------  --------------  ----- \n",
      " 0   date    62 non-null     object\n",
      " 1   group   62 non-null     object\n",
      " 2   visits  62 non-null     int64 \n",
      "dtypes: int64(1), object(2)\n",
      "memory usage: 1.6+ KB\n"
     ]
    }
   ],
   "source": [
    "visits.info()"
   ]
  },
  {
   "cell_type": "code",
   "execution_count": 58,
   "metadata": {},
   "outputs": [],
   "source": [
    "#changing the date column into the right datetime type.\n",
    "orders['date']= pd.to_datetime(orders['date'],dayfirst = True)\n",
    "visits['date']= pd.to_datetime(visits['date'],dayfirst = True)"
   ]
  },
  {
   "cell_type": "code",
   "execution_count": 59,
   "metadata": {
    "scrolled": true
   },
   "outputs": [
    {
     "data": {
      "text/html": [
       "<div>\n",
       "<style scoped>\n",
       "    .dataframe tbody tr th:only-of-type {\n",
       "        vertical-align: middle;\n",
       "    }\n",
       "\n",
       "    .dataframe tbody tr th {\n",
       "        vertical-align: top;\n",
       "    }\n",
       "\n",
       "    .dataframe thead th {\n",
       "        text-align: right;\n",
       "    }\n",
       "</style>\n",
       "<table border=\"1\" class=\"dataframe\">\n",
       "  <thead>\n",
       "    <tr style=\"text-align: right;\">\n",
       "      <th></th>\n",
       "      <th>visitorId</th>\n",
       "      <th>group</th>\n",
       "    </tr>\n",
       "  </thead>\n",
       "  <tbody>\n",
       "    <tr>\n",
       "      <th>639</th>\n",
       "      <td>2654030115</td>\n",
       "      <td>2</td>\n",
       "    </tr>\n",
       "    <tr>\n",
       "      <th>932</th>\n",
       "      <td>3891541246</td>\n",
       "      <td>2</td>\n",
       "    </tr>\n",
       "    <tr>\n",
       "      <th>950</th>\n",
       "      <td>3941795274</td>\n",
       "      <td>2</td>\n",
       "    </tr>\n",
       "    <tr>\n",
       "      <th>340</th>\n",
       "      <td>1404934699</td>\n",
       "      <td>2</td>\n",
       "    </tr>\n",
       "    <tr>\n",
       "      <th>84</th>\n",
       "      <td>351125977</td>\n",
       "      <td>2</td>\n",
       "    </tr>\n",
       "    <tr>\n",
       "      <th>954</th>\n",
       "      <td>3951559397</td>\n",
       "      <td>2</td>\n",
       "    </tr>\n",
       "    <tr>\n",
       "      <th>710</th>\n",
       "      <td>2927087541</td>\n",
       "      <td>2</td>\n",
       "    </tr>\n",
       "    <tr>\n",
       "      <th>958</th>\n",
       "      <td>3963646447</td>\n",
       "      <td>2</td>\n",
       "    </tr>\n",
       "    <tr>\n",
       "      <th>591</th>\n",
       "      <td>2458001652</td>\n",
       "      <td>2</td>\n",
       "    </tr>\n",
       "    <tr>\n",
       "      <th>960</th>\n",
       "      <td>3972127743</td>\n",
       "      <td>2</td>\n",
       "    </tr>\n",
       "    <tr>\n",
       "      <th>963</th>\n",
       "      <td>3984495233</td>\n",
       "      <td>2</td>\n",
       "    </tr>\n",
       "    <tr>\n",
       "      <th>715</th>\n",
       "      <td>2949041841</td>\n",
       "      <td>2</td>\n",
       "    </tr>\n",
       "    <tr>\n",
       "      <th>469</th>\n",
       "      <td>1959144690</td>\n",
       "      <td>2</td>\n",
       "    </tr>\n",
       "    <tr>\n",
       "      <th>66</th>\n",
       "      <td>276558944</td>\n",
       "      <td>2</td>\n",
       "    </tr>\n",
       "    <tr>\n",
       "      <th>718</th>\n",
       "      <td>2954449915</td>\n",
       "      <td>2</td>\n",
       "    </tr>\n",
       "    <tr>\n",
       "      <th>55</th>\n",
       "      <td>237748145</td>\n",
       "      <td>2</td>\n",
       "    </tr>\n",
       "    <tr>\n",
       "      <th>236</th>\n",
       "      <td>963407295</td>\n",
       "      <td>2</td>\n",
       "    </tr>\n",
       "    <tr>\n",
       "      <th>318</th>\n",
       "      <td>1333886533</td>\n",
       "      <td>2</td>\n",
       "    </tr>\n",
       "    <tr>\n",
       "      <th>51</th>\n",
       "      <td>232979603</td>\n",
       "      <td>2</td>\n",
       "    </tr>\n",
       "    <tr>\n",
       "      <th>984</th>\n",
       "      <td>4069496402</td>\n",
       "      <td>2</td>\n",
       "    </tr>\n",
       "    <tr>\n",
       "      <th>569</th>\n",
       "      <td>2378935119</td>\n",
       "      <td>2</td>\n",
       "    </tr>\n",
       "    <tr>\n",
       "      <th>97</th>\n",
       "      <td>393266494</td>\n",
       "      <td>2</td>\n",
       "    </tr>\n",
       "    <tr>\n",
       "      <th>614</th>\n",
       "      <td>2579882178</td>\n",
       "      <td>2</td>\n",
       "    </tr>\n",
       "    <tr>\n",
       "      <th>316</th>\n",
       "      <td>1316129916</td>\n",
       "      <td>2</td>\n",
       "    </tr>\n",
       "    <tr>\n",
       "      <th>436</th>\n",
       "      <td>1801183820</td>\n",
       "      <td>2</td>\n",
       "    </tr>\n",
       "    <tr>\n",
       "      <th>884</th>\n",
       "      <td>3656415546</td>\n",
       "      <td>2</td>\n",
       "    </tr>\n",
       "    <tr>\n",
       "      <th>393</th>\n",
       "      <td>1614305549</td>\n",
       "      <td>2</td>\n",
       "    </tr>\n",
       "    <tr>\n",
       "      <th>402</th>\n",
       "      <td>1648269707</td>\n",
       "      <td>2</td>\n",
       "    </tr>\n",
       "    <tr>\n",
       "      <th>648</th>\n",
       "      <td>2686716486</td>\n",
       "      <td>2</td>\n",
       "    </tr>\n",
       "    <tr>\n",
       "      <th>661</th>\n",
       "      <td>2712142231</td>\n",
       "      <td>2</td>\n",
       "    </tr>\n",
       "    <tr>\n",
       "      <th>662</th>\n",
       "      <td>2716752286</td>\n",
       "      <td>2</td>\n",
       "    </tr>\n",
       "    <tr>\n",
       "      <th>406</th>\n",
       "      <td>1668030113</td>\n",
       "      <td>2</td>\n",
       "    </tr>\n",
       "    <tr>\n",
       "      <th>386</th>\n",
       "      <td>1602967004</td>\n",
       "      <td>2</td>\n",
       "    </tr>\n",
       "    <tr>\n",
       "      <th>897</th>\n",
       "      <td>3717692402</td>\n",
       "      <td>2</td>\n",
       "    </tr>\n",
       "    <tr>\n",
       "      <th>909</th>\n",
       "      <td>3766097110</td>\n",
       "      <td>2</td>\n",
       "    </tr>\n",
       "    <tr>\n",
       "      <th>422</th>\n",
       "      <td>1738359350</td>\n",
       "      <td>2</td>\n",
       "    </tr>\n",
       "    <tr>\n",
       "      <th>677</th>\n",
       "      <td>2780786433</td>\n",
       "      <td>2</td>\n",
       "    </tr>\n",
       "    <tr>\n",
       "      <th>917</th>\n",
       "      <td>3803269165</td>\n",
       "      <td>2</td>\n",
       "    </tr>\n",
       "    <tr>\n",
       "      <th>122</th>\n",
       "      <td>477780734</td>\n",
       "      <td>2</td>\n",
       "    </tr>\n",
       "    <tr>\n",
       "      <th>119</th>\n",
       "      <td>471551937</td>\n",
       "      <td>2</td>\n",
       "    </tr>\n",
       "    <tr>\n",
       "      <th>622</th>\n",
       "      <td>2600415354</td>\n",
       "      <td>2</td>\n",
       "    </tr>\n",
       "    <tr>\n",
       "      <th>192</th>\n",
       "      <td>818047933</td>\n",
       "      <td>2</td>\n",
       "    </tr>\n",
       "    <tr>\n",
       "      <th>114</th>\n",
       "      <td>457167155</td>\n",
       "      <td>2</td>\n",
       "    </tr>\n",
       "    <tr>\n",
       "      <th>619</th>\n",
       "      <td>2587333274</td>\n",
       "      <td>2</td>\n",
       "    </tr>\n",
       "    <tr>\n",
       "      <th>487</th>\n",
       "      <td>2038680547</td>\n",
       "      <td>2</td>\n",
       "    </tr>\n",
       "    <tr>\n",
       "      <th>957</th>\n",
       "      <td>3957174400</td>\n",
       "      <td>2</td>\n",
       "    </tr>\n",
       "    <tr>\n",
       "      <th>792</th>\n",
       "      <td>3234906277</td>\n",
       "      <td>2</td>\n",
       "    </tr>\n",
       "    <tr>\n",
       "      <th>311</th>\n",
       "      <td>1294878855</td>\n",
       "      <td>2</td>\n",
       "    </tr>\n",
       "    <tr>\n",
       "      <th>44</th>\n",
       "      <td>199603092</td>\n",
       "      <td>2</td>\n",
       "    </tr>\n",
       "    <tr>\n",
       "      <th>784</th>\n",
       "      <td>3202540741</td>\n",
       "      <td>2</td>\n",
       "    </tr>\n",
       "    <tr>\n",
       "      <th>299</th>\n",
       "      <td>1230306981</td>\n",
       "      <td>2</td>\n",
       "    </tr>\n",
       "    <tr>\n",
       "      <th>744</th>\n",
       "      <td>3062433592</td>\n",
       "      <td>2</td>\n",
       "    </tr>\n",
       "    <tr>\n",
       "      <th>1023</th>\n",
       "      <td>4256040402</td>\n",
       "      <td>2</td>\n",
       "    </tr>\n",
       "    <tr>\n",
       "      <th>1026</th>\n",
       "      <td>4266935830</td>\n",
       "      <td>2</td>\n",
       "    </tr>\n",
       "    <tr>\n",
       "      <th>1009</th>\n",
       "      <td>4186807279</td>\n",
       "      <td>2</td>\n",
       "    </tr>\n",
       "    <tr>\n",
       "      <th>2</th>\n",
       "      <td>8300375</td>\n",
       "      <td>2</td>\n",
       "    </tr>\n",
       "    <tr>\n",
       "      <th>992</th>\n",
       "      <td>4120364173</td>\n",
       "      <td>2</td>\n",
       "    </tr>\n",
       "    <tr>\n",
       "      <th>491</th>\n",
       "      <td>2044997962</td>\n",
       "      <td>2</td>\n",
       "    </tr>\n",
       "  </tbody>\n",
       "</table>\n",
       "</div>"
      ],
      "text/plain": [
       "       visitorId  group\n",
       "639   2654030115  2    \n",
       "932   3891541246  2    \n",
       "950   3941795274  2    \n",
       "340   1404934699  2    \n",
       "84    351125977   2    \n",
       "954   3951559397  2    \n",
       "710   2927087541  2    \n",
       "958   3963646447  2    \n",
       "591   2458001652  2    \n",
       "960   3972127743  2    \n",
       "963   3984495233  2    \n",
       "715   2949041841  2    \n",
       "469   1959144690  2    \n",
       "66    276558944   2    \n",
       "718   2954449915  2    \n",
       "55    237748145   2    \n",
       "236   963407295   2    \n",
       "318   1333886533  2    \n",
       "51    232979603   2    \n",
       "984   4069496402  2    \n",
       "569   2378935119  2    \n",
       "97    393266494   2    \n",
       "614   2579882178  2    \n",
       "316   1316129916  2    \n",
       "436   1801183820  2    \n",
       "884   3656415546  2    \n",
       "393   1614305549  2    \n",
       "402   1648269707  2    \n",
       "648   2686716486  2    \n",
       "661   2712142231  2    \n",
       "662   2716752286  2    \n",
       "406   1668030113  2    \n",
       "386   1602967004  2    \n",
       "897   3717692402  2    \n",
       "909   3766097110  2    \n",
       "422   1738359350  2    \n",
       "677   2780786433  2    \n",
       "917   3803269165  2    \n",
       "122   477780734   2    \n",
       "119   471551937   2    \n",
       "622   2600415354  2    \n",
       "192   818047933   2    \n",
       "114   457167155   2    \n",
       "619   2587333274  2    \n",
       "487   2038680547  2    \n",
       "957   3957174400  2    \n",
       "792   3234906277  2    \n",
       "311   1294878855  2    \n",
       "44    199603092   2    \n",
       "784   3202540741  2    \n",
       "299   1230306981  2    \n",
       "744   3062433592  2    \n",
       "1023  4256040402  2    \n",
       "1026  4266935830  2    \n",
       "1009  4186807279  2    \n",
       "2     8300375     2    \n",
       "992   4120364173  2    \n",
       "491   2044997962  2    "
      ]
     },
     "execution_count": 59,
     "metadata": {},
     "output_type": "execute_result"
    }
   ],
   "source": [
    "#checking if there are any users that were assigned to both A and B groups. Those users needs to be removed  \n",
    "##as they will not help us get clean results for the A/B test\n",
    "find = orders.groupby(['visitorId'])['group'].nunique().reset_index().sort_values(by ='group',ascending = False)\n",
    "find_2 = find[find['group'] ==2]\n",
    "find_2"
   ]
  },
  {
   "cell_type": "code",
   "execution_count": 60,
   "metadata": {},
   "outputs": [
    {
     "data": {
      "text/html": [
       "<div>\n",
       "<style scoped>\n",
       "    .dataframe tbody tr th:only-of-type {\n",
       "        vertical-align: middle;\n",
       "    }\n",
       "\n",
       "    .dataframe tbody tr th {\n",
       "        vertical-align: top;\n",
       "    }\n",
       "\n",
       "    .dataframe thead th {\n",
       "        text-align: right;\n",
       "    }\n",
       "</style>\n",
       "<table border=\"1\" class=\"dataframe\">\n",
       "  <thead>\n",
       "    <tr style=\"text-align: right;\">\n",
       "      <th></th>\n",
       "      <th>transactionId</th>\n",
       "      <th>visitorId</th>\n",
       "      <th>date</th>\n",
       "      <th>revenue</th>\n",
       "      <th>group</th>\n",
       "    </tr>\n",
       "  </thead>\n",
       "  <tbody>\n",
       "    <tr>\n",
       "      <th>133</th>\n",
       "      <td>3060563671</td>\n",
       "      <td>2458001652</td>\n",
       "      <td>2019-08-22</td>\n",
       "      <td>80.8</td>\n",
       "      <td>A</td>\n",
       "    </tr>\n",
       "    <tr>\n",
       "      <th>380</th>\n",
       "      <td>1177690313</td>\n",
       "      <td>2458001652</td>\n",
       "      <td>2019-08-25</td>\n",
       "      <td>40.7</td>\n",
       "      <td>B</td>\n",
       "    </tr>\n",
       "    <tr>\n",
       "      <th>454</th>\n",
       "      <td>3755354294</td>\n",
       "      <td>2458001652</td>\n",
       "      <td>2019-08-06</td>\n",
       "      <td>115.1</td>\n",
       "      <td>B</td>\n",
       "    </tr>\n",
       "    <tr>\n",
       "      <th>456</th>\n",
       "      <td>543654048</td>\n",
       "      <td>2458001652</td>\n",
       "      <td>2019-08-06</td>\n",
       "      <td>25.9</td>\n",
       "      <td>A</td>\n",
       "    </tr>\n",
       "    <tr>\n",
       "      <th>483</th>\n",
       "      <td>2280027650</td>\n",
       "      <td>2458001652</td>\n",
       "      <td>2019-08-06</td>\n",
       "      <td>105.8</td>\n",
       "      <td>B</td>\n",
       "    </tr>\n",
       "    <tr>\n",
       "      <th>611</th>\n",
       "      <td>1244084011</td>\n",
       "      <td>2458001652</td>\n",
       "      <td>2019-08-04</td>\n",
       "      <td>10.2</td>\n",
       "      <td>A</td>\n",
       "    </tr>\n",
       "    <tr>\n",
       "      <th>692</th>\n",
       "      <td>3586870909</td>\n",
       "      <td>2458001652</td>\n",
       "      <td>2019-08-09</td>\n",
       "      <td>85.4</td>\n",
       "      <td>B</td>\n",
       "    </tr>\n",
       "    <tr>\n",
       "      <th>727</th>\n",
       "      <td>3959083601</td>\n",
       "      <td>2458001652</td>\n",
       "      <td>2019-08-07</td>\n",
       "      <td>270.4</td>\n",
       "      <td>A</td>\n",
       "    </tr>\n",
       "    <tr>\n",
       "      <th>883</th>\n",
       "      <td>2412219836</td>\n",
       "      <td>2458001652</td>\n",
       "      <td>2019-08-05</td>\n",
       "      <td>40.2</td>\n",
       "      <td>B</td>\n",
       "    </tr>\n",
       "    <tr>\n",
       "      <th>916</th>\n",
       "      <td>527333943</td>\n",
       "      <td>2458001652</td>\n",
       "      <td>2019-08-08</td>\n",
       "      <td>85.4</td>\n",
       "      <td>B</td>\n",
       "    </tr>\n",
       "    <tr>\n",
       "      <th>1062</th>\n",
       "      <td>1817215137</td>\n",
       "      <td>2458001652</td>\n",
       "      <td>2019-08-11</td>\n",
       "      <td>130.4</td>\n",
       "      <td>A</td>\n",
       "    </tr>\n",
       "  </tbody>\n",
       "</table>\n",
       "</div>"
      ],
      "text/plain": [
       "      transactionId   visitorId       date  revenue group\n",
       "133   3060563671     2458001652 2019-08-22  80.8     A   \n",
       "380   1177690313     2458001652 2019-08-25  40.7     B   \n",
       "454   3755354294     2458001652 2019-08-06  115.1    B   \n",
       "456   543654048      2458001652 2019-08-06  25.9     A   \n",
       "483   2280027650     2458001652 2019-08-06  105.8    B   \n",
       "611   1244084011     2458001652 2019-08-04  10.2     A   \n",
       "692   3586870909     2458001652 2019-08-09  85.4     B   \n",
       "727   3959083601     2458001652 2019-08-07  270.4    A   \n",
       "883   2412219836     2458001652 2019-08-05  40.2     B   \n",
       "916   527333943      2458001652 2019-08-08  85.4     B   \n",
       "1062  1817215137     2458001652 2019-08-11  130.4    A   "
      ]
     },
     "execution_count": 60,
     "metadata": {},
     "output_type": "execute_result"
    }
   ],
   "source": [
    "orders[orders['visitorId'] == 2458001652]"
   ]
  },
  {
   "cell_type": "code",
   "execution_count": 61,
   "metadata": {},
   "outputs": [
    {
     "data": {
      "text/html": [
       "<div>\n",
       "<style scoped>\n",
       "    .dataframe tbody tr th:only-of-type {\n",
       "        vertical-align: middle;\n",
       "    }\n",
       "\n",
       "    .dataframe tbody tr th {\n",
       "        vertical-align: top;\n",
       "    }\n",
       "\n",
       "    .dataframe thead th {\n",
       "        text-align: right;\n",
       "    }\n",
       "</style>\n",
       "<table border=\"1\" class=\"dataframe\">\n",
       "  <thead>\n",
       "    <tr style=\"text-align: right;\">\n",
       "      <th></th>\n",
       "      <th>transactionId</th>\n",
       "      <th>visitorId</th>\n",
       "      <th>date</th>\n",
       "      <th>revenue</th>\n",
       "      <th>group</th>\n",
       "    </tr>\n",
       "  </thead>\n",
       "  <tbody>\n",
       "    <tr>\n",
       "      <th>0</th>\n",
       "      <td>3667963787</td>\n",
       "      <td>3312258926</td>\n",
       "      <td>2019-08-15</td>\n",
       "      <td>30.4</td>\n",
       "      <td>B</td>\n",
       "    </tr>\n",
       "    <tr>\n",
       "      <th>1</th>\n",
       "      <td>2804400009</td>\n",
       "      <td>3642806036</td>\n",
       "      <td>2019-08-15</td>\n",
       "      <td>15.2</td>\n",
       "      <td>B</td>\n",
       "    </tr>\n",
       "    <tr>\n",
       "      <th>3</th>\n",
       "      <td>3797467345</td>\n",
       "      <td>1196621759</td>\n",
       "      <td>2019-08-15</td>\n",
       "      <td>155.1</td>\n",
       "      <td>B</td>\n",
       "    </tr>\n",
       "    <tr>\n",
       "      <th>4</th>\n",
       "      <td>2282983706</td>\n",
       "      <td>2322279887</td>\n",
       "      <td>2019-08-15</td>\n",
       "      <td>40.5</td>\n",
       "      <td>B</td>\n",
       "    </tr>\n",
       "    <tr>\n",
       "      <th>5</th>\n",
       "      <td>182168103</td>\n",
       "      <td>935554773</td>\n",
       "      <td>2019-08-15</td>\n",
       "      <td>35.0</td>\n",
       "      <td>B</td>\n",
       "    </tr>\n",
       "  </tbody>\n",
       "</table>\n",
       "</div>"
      ],
      "text/plain": [
       "   transactionId   visitorId       date  revenue group\n",
       "0  3667963787     3312258926 2019-08-15  30.4     B   \n",
       "1  2804400009     3642806036 2019-08-15  15.2     B   \n",
       "3  3797467345     1196621759 2019-08-15  155.1    B   \n",
       "4  2282983706     2322279887 2019-08-15  40.5     B   \n",
       "5  182168103      935554773  2019-08-15  35.0     B   "
      ]
     },
     "execution_count": 61,
     "metadata": {},
     "output_type": "execute_result"
    }
   ],
   "source": [
    "#Filtering out those users\n",
    "clean_orders = orders[~orders['visitorId'].isin(find_2['visitorId'])] \n",
    "\n",
    "clean_orders.head()"
   ]
  },
  {
   "cell_type": "code",
   "execution_count": 62,
   "metadata": {
    "scrolled": true
   },
   "outputs": [
    {
     "data": {
      "text/html": [
       "<div>\n",
       "<style scoped>\n",
       "    .dataframe tbody tr th:only-of-type {\n",
       "        vertical-align: middle;\n",
       "    }\n",
       "\n",
       "    .dataframe tbody tr th {\n",
       "        vertical-align: top;\n",
       "    }\n",
       "\n",
       "    .dataframe thead th {\n",
       "        text-align: right;\n",
       "    }\n",
       "</style>\n",
       "<table border=\"1\" class=\"dataframe\">\n",
       "  <thead>\n",
       "    <tr style=\"text-align: right;\">\n",
       "      <th></th>\n",
       "      <th>date</th>\n",
       "      <th>group</th>\n",
       "      <th>revenue</th>\n",
       "      <th>orders_per_day</th>\n",
       "      <th>users_per_day</th>\n",
       "    </tr>\n",
       "  </thead>\n",
       "  <tbody>\n",
       "    <tr>\n",
       "      <th>0</th>\n",
       "      <td>2019-08-01</td>\n",
       "      <td>A</td>\n",
       "      <td>2266.6</td>\n",
       "      <td>23</td>\n",
       "      <td>19</td>\n",
       "    </tr>\n",
       "    <tr>\n",
       "      <th>1</th>\n",
       "      <td>2019-08-01</td>\n",
       "      <td>B</td>\n",
       "      <td>967.2</td>\n",
       "      <td>17</td>\n",
       "      <td>17</td>\n",
       "    </tr>\n",
       "    <tr>\n",
       "      <th>2</th>\n",
       "      <td>2019-08-02</td>\n",
       "      <td>A</td>\n",
       "      <td>1468.3</td>\n",
       "      <td>19</td>\n",
       "      <td>18</td>\n",
       "    </tr>\n",
       "    <tr>\n",
       "      <th>3</th>\n",
       "      <td>2019-08-02</td>\n",
       "      <td>B</td>\n",
       "      <td>2568.1</td>\n",
       "      <td>23</td>\n",
       "      <td>22</td>\n",
       "    </tr>\n",
       "    <tr>\n",
       "      <th>4</th>\n",
       "      <td>2019-08-03</td>\n",
       "      <td>A</td>\n",
       "      <td>1815.2</td>\n",
       "      <td>24</td>\n",
       "      <td>24</td>\n",
       "    </tr>\n",
       "    <tr>\n",
       "      <th>...</th>\n",
       "      <td>...</td>\n",
       "      <td>...</td>\n",
       "      <td>...</td>\n",
       "      <td>...</td>\n",
       "      <td>...</td>\n",
       "    </tr>\n",
       "    <tr>\n",
       "      <th>57</th>\n",
       "      <td>2019-08-29</td>\n",
       "      <td>B</td>\n",
       "      <td>1681.2</td>\n",
       "      <td>15</td>\n",
       "      <td>15</td>\n",
       "    </tr>\n",
       "    <tr>\n",
       "      <th>58</th>\n",
       "      <td>2019-08-30</td>\n",
       "      <td>A</td>\n",
       "      <td>1228.9</td>\n",
       "      <td>9</td>\n",
       "      <td>8</td>\n",
       "    </tr>\n",
       "    <tr>\n",
       "      <th>59</th>\n",
       "      <td>2019-08-30</td>\n",
       "      <td>B</td>\n",
       "      <td>3286.8</td>\n",
       "      <td>21</td>\n",
       "      <td>21</td>\n",
       "    </tr>\n",
       "    <tr>\n",
       "      <th>60</th>\n",
       "      <td>2019-08-31</td>\n",
       "      <td>A</td>\n",
       "      <td>848.3</td>\n",
       "      <td>8</td>\n",
       "      <td>8</td>\n",
       "    </tr>\n",
       "    <tr>\n",
       "      <th>61</th>\n",
       "      <td>2019-08-31</td>\n",
       "      <td>B</td>\n",
       "      <td>1787.7</td>\n",
       "      <td>17</td>\n",
       "      <td>17</td>\n",
       "    </tr>\n",
       "  </tbody>\n",
       "</table>\n",
       "<p>62 rows × 5 columns</p>\n",
       "</div>"
      ],
      "text/plain": [
       "         date group  revenue  orders_per_day  users_per_day\n",
       "0  2019-08-01  A     2266.6   23              19           \n",
       "1  2019-08-01  B     967.2    17              17           \n",
       "2  2019-08-02  A     1468.3   19              18           \n",
       "3  2019-08-02  B     2568.1   23              22           \n",
       "4  2019-08-03  A     1815.2   24              24           \n",
       "..        ... ..        ...   ..              ..           \n",
       "57 2019-08-29  B     1681.2   15              15           \n",
       "58 2019-08-30  A     1228.9   9               8            \n",
       "59 2019-08-30  B     3286.8   21              21           \n",
       "60 2019-08-31  A     848.3    8               8            \n",
       "61 2019-08-31  B     1787.7   17              17           \n",
       "\n",
       "[62 rows x 5 columns]"
      ]
     },
     "execution_count": 62,
     "metadata": {},
     "output_type": "execute_result"
    }
   ],
   "source": [
    "#grouping the data by date and group and getting the number of users and orders per day. this will help me later \n",
    "## with further calculations.\n",
    "clean_orders =clean_orders.drop_duplicates()\n",
    "grouped_data = clean_orders.groupby(['date','group']).agg({'revenue' : 'sum','transactionId' : pd.Series.nunique,'visitorId' : pd.Series.nunique}).reset_index()\n",
    "grouped_data.columns = ['date','group','revenue','orders_per_day','users_per_day']\n",
    "grouped_data"
   ]
  },
  {
   "cell_type": "code",
   "execution_count": 63,
   "metadata": {},
   "outputs": [],
   "source": [
    "grouped_data = grouped_data.merge(visits, on = ['date','group'])"
   ]
  },
  {
   "cell_type": "markdown",
   "metadata": {},
   "source": [
    "Next, I want to :\n",
    "1. graph cumulative revenue by group. Make conclusions and conjectures.\n",
    "2. Graph cumulative average order size by group\n",
    "3. Graph the relative difference in cumulative average order size for group B compared with group A."
   ]
  },
  {
   "cell_type": "code",
   "execution_count": 64,
   "metadata": {},
   "outputs": [],
   "source": [
    "#Creating a df with cumulative data in order to plot\n",
    "datesGroups = clean_orders[['date','group']].drop_duplicates()\n",
    "\n",
    "\n",
    "ordersAggregated = datesGroups.apply(lambda x: clean_orders[np.logical_and(clean_orders['date'] <= x['date'], clean_orders['group'] == x['group'])].agg({'date' : 'max', 'group' : 'max', 'transactionId' : pd.Series.nunique, 'visitorId' : pd.Series.nunique, 'revenue' : 'sum'}), axis=1).sort_values(by=['date','group'])\n",
    "\n",
    "visitorsAggregated = datesGroups.apply(lambda x: visits[np.logical_and(visits['date'] <= x['date'], visits['group'] == x['group'])].agg({'date' : 'max', 'group' : 'max', 'visits' : 'sum'}), axis=1).sort_values(by=['date','group'])\n",
    "\n",
    "cumulativeData = ordersAggregated.merge(visitorsAggregated, left_on=['date', 'group'], right_on=['date', 'group'])\n",
    "\n",
    "cumulativeData.columns = ['date', 'group', 'orders', 'buyers', 'cumul_rev', 'cumul_visits']\n",
    "cumulativeData.head(5)\n",
    "cumulativeData['conversion'] = cumulativeData['orders'] / cumulativeData['cumul_visits']\n",
    "\n",
    "cumulativeData['cum_avg_purchase_size'] = cumulativeData['cumul_rev'] / cumulativeData['orders']\n"
   ]
  },
  {
   "cell_type": "code",
   "execution_count": 65,
   "metadata": {
    "scrolled": true
   },
   "outputs": [
    {
     "data": {
      "text/html": [
       "<div>\n",
       "<style scoped>\n",
       "    .dataframe tbody tr th:only-of-type {\n",
       "        vertical-align: middle;\n",
       "    }\n",
       "\n",
       "    .dataframe tbody tr th {\n",
       "        vertical-align: top;\n",
       "    }\n",
       "\n",
       "    .dataframe thead th {\n",
       "        text-align: right;\n",
       "    }\n",
       "</style>\n",
       "<table border=\"1\" class=\"dataframe\">\n",
       "  <thead>\n",
       "    <tr style=\"text-align: right;\">\n",
       "      <th></th>\n",
       "      <th>date</th>\n",
       "      <th>group</th>\n",
       "      <th>orders</th>\n",
       "      <th>buyers</th>\n",
       "      <th>cumul_rev</th>\n",
       "      <th>cumul_visits</th>\n",
       "      <th>conversion</th>\n",
       "      <th>cum_avg_purchase_size</th>\n",
       "    </tr>\n",
       "  </thead>\n",
       "  <tbody>\n",
       "    <tr>\n",
       "      <th>0</th>\n",
       "      <td>2019-08-01</td>\n",
       "      <td>A</td>\n",
       "      <td>23</td>\n",
       "      <td>19</td>\n",
       "      <td>2266.6</td>\n",
       "      <td>719</td>\n",
       "      <td>0.031989</td>\n",
       "      <td>98.547826</td>\n",
       "    </tr>\n",
       "    <tr>\n",
       "      <th>1</th>\n",
       "      <td>2019-08-01</td>\n",
       "      <td>B</td>\n",
       "      <td>17</td>\n",
       "      <td>17</td>\n",
       "      <td>967.2</td>\n",
       "      <td>713</td>\n",
       "      <td>0.023843</td>\n",
       "      <td>56.894118</td>\n",
       "    </tr>\n",
       "    <tr>\n",
       "      <th>2</th>\n",
       "      <td>2019-08-02</td>\n",
       "      <td>A</td>\n",
       "      <td>42</td>\n",
       "      <td>36</td>\n",
       "      <td>3734.9</td>\n",
       "      <td>1338</td>\n",
       "      <td>0.031390</td>\n",
       "      <td>88.926190</td>\n",
       "    </tr>\n",
       "    <tr>\n",
       "      <th>3</th>\n",
       "      <td>2019-08-02</td>\n",
       "      <td>B</td>\n",
       "      <td>40</td>\n",
       "      <td>39</td>\n",
       "      <td>3535.3</td>\n",
       "      <td>1294</td>\n",
       "      <td>0.030912</td>\n",
       "      <td>88.382500</td>\n",
       "    </tr>\n",
       "    <tr>\n",
       "      <th>4</th>\n",
       "      <td>2019-08-03</td>\n",
       "      <td>A</td>\n",
       "      <td>66</td>\n",
       "      <td>60</td>\n",
       "      <td>5550.1</td>\n",
       "      <td>1845</td>\n",
       "      <td>0.035772</td>\n",
       "      <td>84.092424</td>\n",
       "    </tr>\n",
       "    <tr>\n",
       "      <th>5</th>\n",
       "      <td>2019-08-03</td>\n",
       "      <td>B</td>\n",
       "      <td>54</td>\n",
       "      <td>53</td>\n",
       "      <td>4606.9</td>\n",
       "      <td>1803</td>\n",
       "      <td>0.029950</td>\n",
       "      <td>85.312963</td>\n",
       "    </tr>\n",
       "    <tr>\n",
       "      <th>6</th>\n",
       "      <td>2019-08-04</td>\n",
       "      <td>A</td>\n",
       "      <td>77</td>\n",
       "      <td>71</td>\n",
       "      <td>6225.6</td>\n",
       "      <td>2562</td>\n",
       "      <td>0.030055</td>\n",
       "      <td>80.851948</td>\n",
       "    </tr>\n",
       "    <tr>\n",
       "      <th>7</th>\n",
       "      <td>2019-08-04</td>\n",
       "      <td>B</td>\n",
       "      <td>68</td>\n",
       "      <td>66</td>\n",
       "      <td>6138.5</td>\n",
       "      <td>2573</td>\n",
       "      <td>0.026428</td>\n",
       "      <td>90.272059</td>\n",
       "    </tr>\n",
       "  </tbody>\n",
       "</table>\n",
       "</div>"
      ],
      "text/plain": [
       "        date group  orders  buyers  cumul_rev  cumul_visits  conversion  \\\n",
       "0 2019-08-01  A     23      19      2266.6     719           0.031989     \n",
       "1 2019-08-01  B     17      17      967.2      713           0.023843     \n",
       "2 2019-08-02  A     42      36      3734.9     1338          0.031390     \n",
       "3 2019-08-02  B     40      39      3535.3     1294          0.030912     \n",
       "4 2019-08-03  A     66      60      5550.1     1845          0.035772     \n",
       "5 2019-08-03  B     54      53      4606.9     1803          0.029950     \n",
       "6 2019-08-04  A     77      71      6225.6     2562          0.030055     \n",
       "7 2019-08-04  B     68      66      6138.5     2573          0.026428     \n",
       "\n",
       "   cum_avg_purchase_size  \n",
       "0  98.547826              \n",
       "1  56.894118              \n",
       "2  88.926190              \n",
       "3  88.382500              \n",
       "4  84.092424              \n",
       "5  85.312963              \n",
       "6  80.851948              \n",
       "7  90.272059              "
      ]
     },
     "execution_count": 65,
     "metadata": {},
     "output_type": "execute_result"
    }
   ],
   "source": [
    "cumulativeData.head(8)"
   ]
  },
  {
   "cell_type": "code",
   "execution_count": 66,
   "metadata": {
    "scrolled": false
   },
   "outputs": [
    {
     "data": {
      "text/html": [
       "<div>\n",
       "<style scoped>\n",
       "    .dataframe tbody tr th:only-of-type {\n",
       "        vertical-align: middle;\n",
       "    }\n",
       "\n",
       "    .dataframe tbody tr th {\n",
       "        vertical-align: top;\n",
       "    }\n",
       "\n",
       "    .dataframe thead th {\n",
       "        text-align: right;\n",
       "    }\n",
       "</style>\n",
       "<table border=\"1\" class=\"dataframe\">\n",
       "  <thead>\n",
       "    <tr style=\"text-align: right;\">\n",
       "      <th></th>\n",
       "      <th>date</th>\n",
       "      <th>group</th>\n",
       "      <th>orders</th>\n",
       "      <th>buyers</th>\n",
       "      <th>cumul_rev</th>\n",
       "      <th>cumul_visits</th>\n",
       "      <th>conversion</th>\n",
       "      <th>cum_avg_purchase_size</th>\n",
       "      <th>revenue</th>\n",
       "      <th>orders_per_day</th>\n",
       "      <th>users_per_day</th>\n",
       "      <th>visits</th>\n",
       "    </tr>\n",
       "  </thead>\n",
       "  <tbody>\n",
       "    <tr>\n",
       "      <th>0</th>\n",
       "      <td>2019-08-01</td>\n",
       "      <td>A</td>\n",
       "      <td>23</td>\n",
       "      <td>19</td>\n",
       "      <td>2266.6</td>\n",
       "      <td>719</td>\n",
       "      <td>0.031989</td>\n",
       "      <td>98.547826</td>\n",
       "      <td>2266.6</td>\n",
       "      <td>23</td>\n",
       "      <td>19</td>\n",
       "      <td>719</td>\n",
       "    </tr>\n",
       "    <tr>\n",
       "      <th>1</th>\n",
       "      <td>2019-08-01</td>\n",
       "      <td>B</td>\n",
       "      <td>17</td>\n",
       "      <td>17</td>\n",
       "      <td>967.2</td>\n",
       "      <td>713</td>\n",
       "      <td>0.023843</td>\n",
       "      <td>56.894118</td>\n",
       "      <td>967.2</td>\n",
       "      <td>17</td>\n",
       "      <td>17</td>\n",
       "      <td>713</td>\n",
       "    </tr>\n",
       "    <tr>\n",
       "      <th>2</th>\n",
       "      <td>2019-08-02</td>\n",
       "      <td>A</td>\n",
       "      <td>42</td>\n",
       "      <td>36</td>\n",
       "      <td>3734.9</td>\n",
       "      <td>1338</td>\n",
       "      <td>0.031390</td>\n",
       "      <td>88.926190</td>\n",
       "      <td>1468.3</td>\n",
       "      <td>19</td>\n",
       "      <td>18</td>\n",
       "      <td>619</td>\n",
       "    </tr>\n",
       "    <tr>\n",
       "      <th>3</th>\n",
       "      <td>2019-08-02</td>\n",
       "      <td>B</td>\n",
       "      <td>40</td>\n",
       "      <td>39</td>\n",
       "      <td>3535.3</td>\n",
       "      <td>1294</td>\n",
       "      <td>0.030912</td>\n",
       "      <td>88.382500</td>\n",
       "      <td>2568.1</td>\n",
       "      <td>23</td>\n",
       "      <td>22</td>\n",
       "      <td>581</td>\n",
       "    </tr>\n",
       "    <tr>\n",
       "      <th>4</th>\n",
       "      <td>2019-08-03</td>\n",
       "      <td>A</td>\n",
       "      <td>66</td>\n",
       "      <td>60</td>\n",
       "      <td>5550.1</td>\n",
       "      <td>1845</td>\n",
       "      <td>0.035772</td>\n",
       "      <td>84.092424</td>\n",
       "      <td>1815.2</td>\n",
       "      <td>24</td>\n",
       "      <td>24</td>\n",
       "      <td>507</td>\n",
       "    </tr>\n",
       "    <tr>\n",
       "      <th>5</th>\n",
       "      <td>2019-08-03</td>\n",
       "      <td>B</td>\n",
       "      <td>54</td>\n",
       "      <td>53</td>\n",
       "      <td>4606.9</td>\n",
       "      <td>1803</td>\n",
       "      <td>0.029950</td>\n",
       "      <td>85.312963</td>\n",
       "      <td>1071.6</td>\n",
       "      <td>14</td>\n",
       "      <td>14</td>\n",
       "      <td>509</td>\n",
       "    </tr>\n",
       "    <tr>\n",
       "      <th>6</th>\n",
       "      <td>2019-08-04</td>\n",
       "      <td>A</td>\n",
       "      <td>77</td>\n",
       "      <td>71</td>\n",
       "      <td>6225.6</td>\n",
       "      <td>2562</td>\n",
       "      <td>0.030055</td>\n",
       "      <td>80.851948</td>\n",
       "      <td>675.5</td>\n",
       "      <td>11</td>\n",
       "      <td>11</td>\n",
       "      <td>717</td>\n",
       "    </tr>\n",
       "    <tr>\n",
       "      <th>7</th>\n",
       "      <td>2019-08-04</td>\n",
       "      <td>B</td>\n",
       "      <td>68</td>\n",
       "      <td>66</td>\n",
       "      <td>6138.5</td>\n",
       "      <td>2573</td>\n",
       "      <td>0.026428</td>\n",
       "      <td>90.272059</td>\n",
       "      <td>1531.6</td>\n",
       "      <td>14</td>\n",
       "      <td>13</td>\n",
       "      <td>770</td>\n",
       "    </tr>\n",
       "    <tr>\n",
       "      <th>8</th>\n",
       "      <td>2019-08-05</td>\n",
       "      <td>A</td>\n",
       "      <td>99</td>\n",
       "      <td>92</td>\n",
       "      <td>7623.6</td>\n",
       "      <td>3318</td>\n",
       "      <td>0.029837</td>\n",
       "      <td>77.006061</td>\n",
       "      <td>1398.0</td>\n",
       "      <td>22</td>\n",
       "      <td>22</td>\n",
       "      <td>756</td>\n",
       "    </tr>\n",
       "    <tr>\n",
       "      <th>9</th>\n",
       "      <td>2019-08-05</td>\n",
       "      <td>B</td>\n",
       "      <td>89</td>\n",
       "      <td>87</td>\n",
       "      <td>7587.8</td>\n",
       "      <td>3280</td>\n",
       "      <td>0.027134</td>\n",
       "      <td>85.256180</td>\n",
       "      <td>1449.3</td>\n",
       "      <td>21</td>\n",
       "      <td>21</td>\n",
       "      <td>707</td>\n",
       "    </tr>\n",
       "  </tbody>\n",
       "</table>\n",
       "</div>"
      ],
      "text/plain": [
       "        date group  orders  buyers  cumul_rev  cumul_visits  conversion  \\\n",
       "0 2019-08-01  A     23      19      2266.6     719           0.031989     \n",
       "1 2019-08-01  B     17      17      967.2      713           0.023843     \n",
       "2 2019-08-02  A     42      36      3734.9     1338          0.031390     \n",
       "3 2019-08-02  B     40      39      3535.3     1294          0.030912     \n",
       "4 2019-08-03  A     66      60      5550.1     1845          0.035772     \n",
       "5 2019-08-03  B     54      53      4606.9     1803          0.029950     \n",
       "6 2019-08-04  A     77      71      6225.6     2562          0.030055     \n",
       "7 2019-08-04  B     68      66      6138.5     2573          0.026428     \n",
       "8 2019-08-05  A     99      92      7623.6     3318          0.029837     \n",
       "9 2019-08-05  B     89      87      7587.8     3280          0.027134     \n",
       "\n",
       "   cum_avg_purchase_size  revenue  orders_per_day  users_per_day  visits  \n",
       "0  98.547826              2266.6   23              19             719     \n",
       "1  56.894118              967.2    17              17             713     \n",
       "2  88.926190              1468.3   19              18             619     \n",
       "3  88.382500              2568.1   23              22             581     \n",
       "4  84.092424              1815.2   24              24             507     \n",
       "5  85.312963              1071.6   14              14             509     \n",
       "6  80.851948              675.5    11              11             717     \n",
       "7  90.272059              1531.6   14              13             770     \n",
       "8  77.006061              1398.0   22              22             756     \n",
       "9  85.256180              1449.3   21              21             707     "
      ]
     },
     "execution_count": 66,
     "metadata": {},
     "output_type": "execute_result"
    }
   ],
   "source": [
    "#merging all the data inro into one df\n",
    "cumulativeData = cumulativeData.merge(grouped_data,on = ['date','group'],how = 'outer')\n",
    "cumulativeData.head(10)"
   ]
  },
  {
   "cell_type": "code",
   "execution_count": 67,
   "metadata": {},
   "outputs": [],
   "source": [
    "cumulativeData['conversion_per_day'] = cumulativeData.orders_per_day / cumulativeData.visits"
   ]
  },
  {
   "cell_type": "code",
   "execution_count": 68,
   "metadata": {},
   "outputs": [],
   "source": [
    "#Getting a df for each group\n",
    "group_a = cumulativeData[cumulativeData['group']== 'A']\n",
    "group_b = cumulativeData[cumulativeData['group']== 'B']"
   ]
  },
  {
   "cell_type": "code",
   "execution_count": 69,
   "metadata": {},
   "outputs": [
    {
     "data": {
      "text/html": [
       "<div>\n",
       "<style scoped>\n",
       "    .dataframe tbody tr th:only-of-type {\n",
       "        vertical-align: middle;\n",
       "    }\n",
       "\n",
       "    .dataframe tbody tr th {\n",
       "        vertical-align: top;\n",
       "    }\n",
       "\n",
       "    .dataframe thead th {\n",
       "        text-align: right;\n",
       "    }\n",
       "</style>\n",
       "<table border=\"1\" class=\"dataframe\">\n",
       "  <thead>\n",
       "    <tr style=\"text-align: right;\">\n",
       "      <th></th>\n",
       "      <th>date</th>\n",
       "      <th>group</th>\n",
       "      <th>orders</th>\n",
       "      <th>buyers</th>\n",
       "      <th>cumul_rev</th>\n",
       "      <th>cumul_visits</th>\n",
       "      <th>conversion</th>\n",
       "      <th>cum_avg_purchase_size</th>\n",
       "      <th>revenue</th>\n",
       "      <th>orders_per_day</th>\n",
       "      <th>users_per_day</th>\n",
       "      <th>visits</th>\n",
       "      <th>conversion_per_day</th>\n",
       "      <th>avg_purchase_size</th>\n",
       "    </tr>\n",
       "  </thead>\n",
       "  <tbody>\n",
       "    <tr>\n",
       "      <th>53</th>\n",
       "      <td>2019-08-27</td>\n",
       "      <td>B</td>\n",
       "      <td>473</td>\n",
       "      <td>456</td>\n",
       "      <td>71885.0</td>\n",
       "      <td>16523</td>\n",
       "      <td>0.028627</td>\n",
       "      <td>151.976744</td>\n",
       "      <td>1746.9</td>\n",
       "      <td>11</td>\n",
       "      <td>11</td>\n",
       "      <td>720</td>\n",
       "      <td>0.015278</td>\n",
       "      <td>2.426250</td>\n",
       "    </tr>\n",
       "    <tr>\n",
       "      <th>55</th>\n",
       "      <td>2019-08-28</td>\n",
       "      <td>B</td>\n",
       "      <td>495</td>\n",
       "      <td>476</td>\n",
       "      <td>72895.5</td>\n",
       "      <td>17177</td>\n",
       "      <td>0.028818</td>\n",
       "      <td>147.263636</td>\n",
       "      <td>1010.5</td>\n",
       "      <td>22</td>\n",
       "      <td>22</td>\n",
       "      <td>654</td>\n",
       "      <td>0.033639</td>\n",
       "      <td>1.545107</td>\n",
       "    </tr>\n",
       "    <tr>\n",
       "      <th>57</th>\n",
       "      <td>2019-08-29</td>\n",
       "      <td>B</td>\n",
       "      <td>510</td>\n",
       "      <td>490</td>\n",
       "      <td>74576.7</td>\n",
       "      <td>17708</td>\n",
       "      <td>0.028801</td>\n",
       "      <td>146.228824</td>\n",
       "      <td>1681.2</td>\n",
       "      <td>15</td>\n",
       "      <td>15</td>\n",
       "      <td>531</td>\n",
       "      <td>0.028249</td>\n",
       "      <td>3.166102</td>\n",
       "    </tr>\n",
       "    <tr>\n",
       "      <th>59</th>\n",
       "      <td>2019-08-30</td>\n",
       "      <td>B</td>\n",
       "      <td>531</td>\n",
       "      <td>511</td>\n",
       "      <td>77863.5</td>\n",
       "      <td>18198</td>\n",
       "      <td>0.029179</td>\n",
       "      <td>146.635593</td>\n",
       "      <td>3286.8</td>\n",
       "      <td>21</td>\n",
       "      <td>21</td>\n",
       "      <td>490</td>\n",
       "      <td>0.042857</td>\n",
       "      <td>6.707755</td>\n",
       "    </tr>\n",
       "    <tr>\n",
       "      <th>61</th>\n",
       "      <td>2019-08-31</td>\n",
       "      <td>B</td>\n",
       "      <td>548</td>\n",
       "      <td>528</td>\n",
       "      <td>79651.2</td>\n",
       "      <td>18916</td>\n",
       "      <td>0.028970</td>\n",
       "      <td>145.348905</td>\n",
       "      <td>1787.7</td>\n",
       "      <td>17</td>\n",
       "      <td>17</td>\n",
       "      <td>718</td>\n",
       "      <td>0.023677</td>\n",
       "      <td>2.489833</td>\n",
       "    </tr>\n",
       "  </tbody>\n",
       "</table>\n",
       "</div>"
      ],
      "text/plain": [
       "         date group  orders  buyers  cumul_rev  cumul_visits  conversion  \\\n",
       "53 2019-08-27  B     473     456     71885.0    16523         0.028627     \n",
       "55 2019-08-28  B     495     476     72895.5    17177         0.028818     \n",
       "57 2019-08-29  B     510     490     74576.7    17708         0.028801     \n",
       "59 2019-08-30  B     531     511     77863.5    18198         0.029179     \n",
       "61 2019-08-31  B     548     528     79651.2    18916         0.028970     \n",
       "\n",
       "    cum_avg_purchase_size  revenue  orders_per_day  users_per_day  visits  \\\n",
       "53  151.976744             1746.9   11              11             720      \n",
       "55  147.263636             1010.5   22              22             654      \n",
       "57  146.228824             1681.2   15              15             531      \n",
       "59  146.635593             3286.8   21              21             490      \n",
       "61  145.348905             1787.7   17              17             718      \n",
       "\n",
       "    conversion_per_day  avg_purchase_size  \n",
       "53  0.015278            2.426250           \n",
       "55  0.033639            1.545107           \n",
       "57  0.028249            3.166102           \n",
       "59  0.042857            6.707755           \n",
       "61  0.023677            2.489833           "
      ]
     },
     "execution_count": 69,
     "metadata": {},
     "output_type": "execute_result"
    }
   ],
   "source": [
    "#Adding an average purchase size column for each group for each day, this will help me later.\n",
    "group_a['avg_purchase_size'] = group_a.revenue / group_a.visits\n",
    "group_b['avg_purchase_size'] = group_b.revenue / group_b.visits\n",
    "\n",
    "group_b.tail()"
   ]
  },
  {
   "cell_type": "code",
   "execution_count": 70,
   "metadata": {
    "scrolled": false
   },
   "outputs": [
    {
     "data": {
      "image/png": "[encoded data removed]",
      "text/plain": [
       "<Figure size 1080x432 with 1 Axes>"
      ]
     },
     "metadata": {
      "needs_background": "light"
     },
     "output_type": "display_data"
    }
   ],
   "source": [
    "#Graphing cumulative revenue by group.\n",
    "plt.rcParams[\"figure.figsize\"] = (15,6)\n",
    "plt.plot(group_a['date'],group_a['cumul_rev'],label = 'Group A')\n",
    "plt.plot(group_b['date'],group_b['cumul_rev'],label = 'Group B')\n",
    "plt.legend()\n",
    "plt.show()"
   ]
  },
  {
   "cell_type": "markdown",
   "metadata": {},
   "source": [
    "The cumulative metrics of group A  are consistently lower than those of group B. We can also see a big leap for group B after 17.8.21. This could be a resoult of an outlier - a visitor that made big purcheses for group B and distorted the graph. Lets see if that happens on the average purchase size graph too"
   ]
  },
  {
   "cell_type": "code",
   "execution_count": 71,
   "metadata": {
    "scrolled": false
   },
   "outputs": [
    {
     "data": {
      "text/plain": [
       "<matplotlib.legend.Legend at 0x7ffe62b400d0>"
      ]
     },
     "execution_count": 71,
     "metadata": {},
     "output_type": "execute_result"
    },
    {
     "data": {
      "image/png": "[encoded data removed]",
      "text/plain": [
       "<Figure size 1080x432 with 1 Axes>"
      ]
     },
     "metadata": {
      "needs_background": "light"
     },
     "output_type": "display_data"
    }
   ],
   "source": [
    "#Graphing cumulative average order size by group.\n",
    "\n",
    "plt.plot(group_a['date'], group_a['cumul_rev']/group_a['orders'], label='Group A')\n",
    "plt.plot(group_b['date'], group_b['cumul_rev']/group_b['orders'], label='Group B')\n",
    "plt.axhline(y=0, color='black', linestyle='--') \n",
    "plt.legend() \n"
   ]
  },
  {
   "cell_type": "markdown",
   "metadata": {},
   "source": [
    "Average purchase size becomes steady after 13.08, expect for the huge bump fot group B of course. . The surge in group B in the second half of the test may have been due to the presence of large, expensive orders. We need more data on this group to make the right conclusions."
   ]
  },
  {
   "cell_type": "code",
   "execution_count": 72,
   "metadata": {
    "scrolled": false
   },
   "outputs": [
    {
     "data": {
      "text/plain": [
       "<matplotlib.lines.Line2D at 0x7ffe615ace20>"
      ]
     },
     "execution_count": 72,
     "metadata": {},
     "output_type": "execute_result"
    },
    {
     "data": {
      "image/png": "[encoded data removed]",
      "text/plain": [
       "<Figure size 1080x432 with 1 Axes>"
      ]
     },
     "metadata": {
      "needs_background": "light"
     },
     "output_type": "display_data"
    }
   ],
   "source": [
    "#Graphing the relative difference in cumulative average order size for group B compared with group A.\n",
    "\n",
    "\n",
    "mergedCumulativeRevenue = group_a.merge(group_b, left_on='date', right_on='date', how='left', suffixes=['A', 'B'])\n",
    "mergedCumulativeRevenue\n",
    "plt.plot(mergedCumulativeRevenue['date'], (mergedCumulativeRevenue['cumul_revB']/mergedCumulativeRevenue['ordersB'])/(mergedCumulativeRevenue['cumul_revA']/mergedCumulativeRevenue['ordersA'])-1)\n",
    "\n",
    "plt.axhline(y=0, color='black', linestyle='--') "
   ]
  },
  {
   "cell_type": "markdown",
   "metadata": {},
   "source": [
    "We can see that at several points the difference between the segments spikes. This means there must be some big orders and outliers. We'll find them later and adress them before making conclusions on the resuts of the A/B test \n"
   ]
  },
  {
   "cell_type": "markdown",
   "metadata": {},
   "source": [
    "Next, i want to calculate the conversion of each group as the ratio of orders to the number of visits for each day."
   ]
  },
  {
   "cell_type": "code",
   "execution_count": 73,
   "metadata": {
    "scrolled": false
   },
   "outputs": [
    {
     "data": {
      "text/plain": [
       "<matplotlib.legend.Legend at 0x7ffe634511c0>"
      ]
     },
     "execution_count": 73,
     "metadata": {},
     "output_type": "execute_result"
    },
    {
     "data": {
      "image/png": "[encoded data removed]",
      "text/plain": [
       "<Figure size 1080x432 with 1 Axes>"
      ]
     },
     "metadata": {
      "needs_background": "light"
     },
     "output_type": "display_data"
    }
   ],
   "source": [
    "#calculating each group's conversion rate. \n",
    "##Plotting the daily conversion rates of the two groups. \n",
    "\n",
    "plt.plot(group_a['date'], group_a['conversion_per_day'], label='A')\n",
    "plt.plot(group_b['date'], group_b['conversion_per_day'], label='B')\n",
    "plt.axhline(y=0, color='black', linestyle='--') \n",
    "plt.legend()\n"
   ]
  },
  {
   "cell_type": "markdown",
   "metadata": {},
   "source": [
    "As we can see, it is very difficult to read this graph and make assumptions about it, so ill use the cumulative conversion calculations instead."
   ]
  },
  {
   "cell_type": "code",
   "execution_count": 74,
   "metadata": {
    "scrolled": false
   },
   "outputs": [
    {
     "data": {
      "text/plain": [
       "<matplotlib.legend.Legend at 0x7ffe6363e910>"
      ]
     },
     "execution_count": 74,
     "metadata": {},
     "output_type": "execute_result"
    },
    {
     "data": {
      "image/png": "[encoded data removed]",
      "text/plain": [
       "<Figure size 1080x432 with 1 Axes>"
      ]
     },
     "metadata": {
      "needs_background": "light"
     },
     "output_type": "display_data"
    }
   ],
   "source": [
    "#calculating each group's cumulative conversion rate  \n",
    "##Plotting the daily conversion rates of the two groups. \n",
    "\n",
    "plt.plot(group_a['date'], group_a['conversion'], label='A')\n",
    "plt.plot(group_b['date'], group_b['conversion'], label='B')\n",
    "plt.axhline(y=0.0, color='black', linestyle='--') \n",
    "plt.legend()\n",
    "\n"
   ]
  },
  {
   "cell_type": "code",
   "execution_count": 75,
   "metadata": {},
   "outputs": [
    {
     "data": {
      "text/plain": [
       "<matplotlib.lines.Line2D at 0x7ffe6392e460>"
      ]
     },
     "execution_count": 75,
     "metadata": {},
     "output_type": "execute_result"
    },
    {
     "data": {
      "image/png": "[encoded data removed]",
      "text/plain": [
       "<Figure size 1080x432 with 1 Axes>"
      ]
     },
     "metadata": {
      "needs_background": "light"
     },
     "output_type": "display_data"
    }
   ],
   "source": [
    "#Graphing the relative difference in cumulative conversion  for group B compared with group A.\n",
    "\n",
    "plt.plot(mergedCumulativeRevenue['date'], (mergedCumulativeRevenue['conversionB']/(mergedCumulativeRevenue['conversionA'])-1))\n",
    "\n",
    "plt.axhline(y=cumulativeData['conversion'].mean(), color='black', linestyle='--') "
   ]
  },
  {
   "cell_type": "markdown",
   "metadata": {},
   "source": [
    "We can see from this graph that after both groups convertion rates Stabilise, groups B convertion rates are higher then group A all the way till the end of the test. "
   ]
  },
  {
   "cell_type": "markdown",
   "metadata": {},
   "source": [
    "Next, I want to plot a scatter chart of orders per user, and order prices. I will also use thge percentile method to detrmine who are the outliers in those fields so i could filter them out later and see what changed."
   ]
  },
  {
   "cell_type": "code",
   "execution_count": 76,
   "metadata": {},
   "outputs": [
    {
     "name": "stdout",
     "output_type": "stream",
     "text": [
      "      visitorId  orders\n",
      "908  3967698036  3     \n",
      "55   249864742   3     \n",
      "478  2108163459  3     \n",
      "687  2988190573  3     \n",
      "890  3908431265  3     \n",
      "138  611059232   3     \n",
      "632  2742574263  3     \n",
      "157  678354126   2     \n",
      "323  1404560065  2     \n",
      "452  1985475298  2     \n",
      "The outliers are : [1. 2.] orders per user\n"
     ]
    }
   ],
   "source": [
    "##calculating the 95th and 99th percentiles for the number of orders per user.\n",
    "\n",
    "orders_per_user = (\n",
    "    clean_orders.drop(['group', 'revenue', 'date'], axis=1)\n",
    "    .groupby('visitorId', as_index=False)\n",
    "    .agg({'transactionId': pd.Series.nunique})\n",
    ")\n",
    "orders_per_user.columns = ['visitorId', 'orders']\n",
    "\n",
    "print(orders_per_user.sort_values(by='orders', ascending=False).head(10))\n",
    "print(\"The outliers are :\",np.percentile(orders_per_user['orders'], [ 95,99]),\"orders per user\")\n",
    "\n"
   ]
  },
  {
   "cell_type": "code",
   "execution_count": 77,
   "metadata": {},
   "outputs": [],
   "source": [
    "orders_per_outliers = 1.9\n"
   ]
  },
  {
   "cell_type": "code",
   "execution_count": 78,
   "metadata": {
    "scrolled": false
   },
   "outputs": [
    {
     "data": {
      "text/plain": [
       "<matplotlib.collections.PathCollection at 0x7ffe63abde20>"
      ]
     },
     "execution_count": 78,
     "metadata": {},
     "output_type": "execute_result"
    },
    {
     "data": {
      "image/png": "[encoded data removed]",
      "text/plain": [
       "<Figure size 1080x432 with 1 Axes>"
      ]
     },
     "metadata": {
      "needs_background": "light"
     },
     "output_type": "display_data"
    }
   ],
   "source": [
    "#Plotting a scatter chart of the number of orders per user\n",
    "\n",
    "scat_o = pd.Series(range(0,len(orders_per_user)))\n",
    "\n",
    "plt.scatter(scat_o, orders_per_user['orders']) \n"
   ]
  },
  {
   "cell_type": "markdown",
   "metadata": {},
   "source": [
    "We can see the vast majority of the users made less then 4 orders. The users that made more then 4 orders will be considered as outliers."
   ]
  },
  {
   "cell_type": "code",
   "execution_count": 79,
   "metadata": {},
   "outputs": [
    {
     "data": {
      "text/plain": [
       "<matplotlib.collections.PathCollection at 0x7ffe63b234c0>"
      ]
     },
     "execution_count": 79,
     "metadata": {},
     "output_type": "execute_result"
    },
    {
     "data": {
      "image/png": "[encoded data removed]",
      "text/plain": [
       "<Figure size 1080x432 with 1 Axes>"
      ]
     },
     "metadata": {
      "needs_background": "light"
     },
     "output_type": "display_data"
    }
   ],
   "source": [
    "#Plotting a scatter chart of order prices.\n",
    "scat_price = pd.Series(range(0,len(clean_orders)))\n",
    "\n",
    "plt.scatter(scat_price, clean_orders['revenue']) "
   ]
  },
  {
   "cell_type": "code",
   "execution_count": 80,
   "metadata": {},
   "outputs": [
    {
     "name": "stdout",
     "output_type": "stream",
     "text": [
      "The orders price outliers are : [435.54  550.9   900.904]\n"
     ]
    }
   ],
   "source": [
    "#Calculating the 95th and 99th percentiles of order prices\n",
    "print(\"The orders price outliers are :\",np.percentile(orders['revenue'], [95,97, 99])) \n"
   ]
  },
  {
   "cell_type": "code",
   "execution_count": 81,
   "metadata": {},
   "outputs": [],
   "source": [
    "orders_price_outliers = 900.903"
   ]
  },
  {
   "cell_type": "markdown",
   "metadata": {},
   "source": [
    "We can see the vast majority of the orders price less  550 orders. The users that made orders higher than that will be considered as outliers."
   ]
  },
  {
   "cell_type": "markdown",
   "metadata": {},
   "source": [
    "Next, I want to get the user ids with too many orders and users with too expensive orders. I will use this to filter the outliers i just found"
   ]
  },
  {
   "cell_type": "code",
   "execution_count": 33,
   "metadata": {
    "scrolled": true
   },
   "outputs": [
    {
     "data": {
      "text/plain": [
       "1099    148427295\n",
       "33      249864742\n",
       "36      366673373\n",
       "51      406208401\n",
       "67      522292794\n",
       "Name: visitorId, dtype: int64"
      ]
     },
     "execution_count": 33,
     "metadata": {},
     "output_type": "execute_result"
    }
   ],
   "source": [
    "#Splitting the users into groups \n",
    "ordersByUsersA = (\n",
    "    clean_orders[clean_orders['group'] == 'A']\n",
    "    .groupby('visitorId', as_index=False)\n",
    "    .agg({'transactionId': pd.Series.nunique})\n",
    ")\n",
    "ordersByUsersA.columns = ['visitorId', 'orders']\n",
    "\n",
    "ordersByUsersB = (\n",
    "    clean_orders[clean_orders['group'] == 'B']\n",
    "    .groupby('visitorId', as_index=False)\n",
    "    .agg({'transactionId': pd.Series.nunique})\n",
    ")\n",
    "ordersByUsersB.columns = ['visitorId', 'orders']\n",
    "#getting users with too many orders \n",
    "usersWithManyOrders = pd.concat(\n",
    "    [\n",
    "        ordersByUsersA[ordersByUsersA['orders'] > orders_per_outliers]['visitorId'],\n",
    "        ordersByUsersB[ordersByUsersB['orders'] > orders_per_outliers]['visitorId'],\n",
    "    ],\n",
    "    axis=0,\n",
    ")\n",
    "#getting the users with pricy orders\n",
    "usersWithExpensiveOrders = clean_orders[clean_orders['revenue'] > orders_price_outliers]['visitorId']\n",
    "#getting all of the users i found into one list  \n",
    "abnormalUsers = (\n",
    "    pd.concat([usersWithManyOrders, usersWithExpensiveOrders], axis=0)\n",
    "    .drop_duplicates()\n",
    "    .sort_values()\n",
    ")\n",
    "\n",
    "abnormalUsers.head(5)"
   ]
  },
  {
   "cell_type": "code",
   "execution_count": 34,
   "metadata": {},
   "outputs": [
    {
     "data": {
      "text/html": [
       "<div>\n",
       "<style scoped>\n",
       "    .dataframe tbody tr th:only-of-type {\n",
       "        vertical-align: middle;\n",
       "    }\n",
       "\n",
       "    .dataframe tbody tr th {\n",
       "        vertical-align: top;\n",
       "    }\n",
       "\n",
       "    .dataframe thead th {\n",
       "        text-align: right;\n",
       "    }\n",
       "</style>\n",
       "<table border=\"1\" class=\"dataframe\">\n",
       "  <thead>\n",
       "    <tr style=\"text-align: right;\">\n",
       "      <th></th>\n",
       "      <th>transactionId</th>\n",
       "      <th>visitorId</th>\n",
       "      <th>date</th>\n",
       "      <th>revenue</th>\n",
       "      <th>group</th>\n",
       "    </tr>\n",
       "  </thead>\n",
       "  <tbody>\n",
       "    <tr>\n",
       "      <th>0</th>\n",
       "      <td>3667963787</td>\n",
       "      <td>3312258926</td>\n",
       "      <td>2019-08-15</td>\n",
       "      <td>30.4</td>\n",
       "      <td>B</td>\n",
       "    </tr>\n",
       "    <tr>\n",
       "      <th>1</th>\n",
       "      <td>2804400009</td>\n",
       "      <td>3642806036</td>\n",
       "      <td>2019-08-15</td>\n",
       "      <td>15.2</td>\n",
       "      <td>B</td>\n",
       "    </tr>\n",
       "    <tr>\n",
       "      <th>3</th>\n",
       "      <td>3797467345</td>\n",
       "      <td>1196621759</td>\n",
       "      <td>2019-08-15</td>\n",
       "      <td>155.1</td>\n",
       "      <td>B</td>\n",
       "    </tr>\n",
       "    <tr>\n",
       "      <th>4</th>\n",
       "      <td>2282983706</td>\n",
       "      <td>2322279887</td>\n",
       "      <td>2019-08-15</td>\n",
       "      <td>40.5</td>\n",
       "      <td>B</td>\n",
       "    </tr>\n",
       "    <tr>\n",
       "      <th>5</th>\n",
       "      <td>182168103</td>\n",
       "      <td>935554773</td>\n",
       "      <td>2019-08-15</td>\n",
       "      <td>35.0</td>\n",
       "      <td>B</td>\n",
       "    </tr>\n",
       "  </tbody>\n",
       "</table>\n",
       "</div>"
      ],
      "text/plain": [
       "   transactionId   visitorId       date  revenue group\n",
       "0  3667963787     3312258926 2019-08-15  30.4     B   \n",
       "1  2804400009     3642806036 2019-08-15  15.2     B   \n",
       "3  3797467345     1196621759 2019-08-15  155.1    B   \n",
       "4  2282983706     2322279887 2019-08-15  40.5     B   \n",
       "5  182168103      935554773  2019-08-15  35.0     B   "
      ]
     },
     "execution_count": 34,
     "metadata": {},
     "output_type": "execute_result"
    }
   ],
   "source": [
    "clean_orders.head()"
   ]
  },
  {
   "cell_type": "code",
   "execution_count": 35,
   "metadata": {
    "scrolled": true
   },
   "outputs": [
    {
     "name": "stdout",
     "output_type": "stream",
     "text": [
      "      visitorId  orders\n",
      "0    5114589     1     \n",
      "646  2846507753  1     \n",
      "634  2776274025  1     \n",
      "635  2785040378  1     \n",
      "636  2785527055  1     \n",
      "637  2801638130  1     \n",
      "638  2803209166  1     \n",
      "639  2805132315  1     \n",
      "640  2819072957  1     \n",
      "641  2819363575  1     \n"
     ]
    }
   ],
   "source": [
    "clean_orders_per_user = (\n",
    "    clean_orders.query('revenue < @orders_price_outliers').drop(['group', 'date','revenue'], axis=1)\n",
    "    .groupby('visitorId', as_index=False)\n",
    "    .agg({'transactionId': pd.Series.nunique})\n",
    ")\n",
    "clean_orders_per_user.columns = ['visitorId', 'orders']\n",
    "clean_orders_per_user = clean_orders_per_user.query('orders < @orders_per_outliers')\n",
    "\n",
    "print(clean_orders_per_user.sort_values(by='orders', ascending=False).head(10))\n",
    "\n"
   ]
  },
  {
   "cell_type": "code",
   "execution_count": 36,
   "metadata": {},
   "outputs": [
    {
     "data": {
      "text/plain": [
       "<matplotlib.collections.PathCollection at 0x7ffe627d6d60>"
      ]
     },
     "execution_count": 36,
     "metadata": {},
     "output_type": "execute_result"
    },
    {
     "data": {
      "image/png": "[encoded data removed]",
      "text/plain": [
       "<Figure size 1080x432 with 1 Axes>"
      ]
     },
     "metadata": {
      "needs_background": "light"
     },
     "output_type": "display_data"
    }
   ],
   "source": [
    "#Plotting a scatter chart of the number of orders per user without outliers\n",
    "\n",
    "clean_orders_per_user_scat = pd.Series(range(0,len(clean_orders_per_user)))\n",
    "\n",
    "plt.scatter(clean_orders_per_user_scat, clean_orders_per_user['orders']) \n"
   ]
  },
  {
   "cell_type": "code",
   "execution_count": 37,
   "metadata": {},
   "outputs": [
    {
     "data": {
      "text/plain": [
       "<matplotlib.collections.PathCollection at 0x7ffe6296ad00>"
      ]
     },
     "execution_count": 37,
     "metadata": {},
     "output_type": "execute_result"
    },
    {
     "data": {
      "image/png": "[encoded data removed]",
      "text/plain": [
       "<Figure size 1080x432 with 1 Axes>"
      ]
     },
     "metadata": {
      "needs_background": "light"
     },
     "output_type": "display_data"
    }
   ],
   "source": [
    "#Plotting a scatter chart of order prices without outliers\n",
    "clean_scat_price = pd.Series(range(0,len(clean_orders.query('revenue < @orders_price_outliers'))))\n",
    "\n",
    "plt.scatter(clean_scat_price, clean_orders.query('revenue < @orders_price_outliers')['revenue'])"
   ]
  },
  {
   "cell_type": "markdown",
   "metadata": {},
   "source": [
    "Next, I want to find the statistical significance of the difference in conversion between the groups using the raw data and compare the findings to the statistical significance of the difference in conversion between the groups using the filterd data.\n",
    "\n",
    "\n",
    "In order to do that will formulate two hypotheses - A null hypitheses H0, and the alternative hypothesis- H1, and will perform a Wilcoxon–Mann–Whitney  test. \n",
    "\n",
    "A Mann-Whitney U test is used to compare the differences between two samples when the sample distributions are not normally distribute.\n",
    "\n",
    "In order to determine whether to reject the null hypothesis or not\n",
    "We set a threshold for statistical significance - critical statistical significance level alpha, wich will be 0.05.\n",
    "if the p-value is less than alpha, we reject the null hypothesis -H0\n",
    "\n",
    "The hypotheses:\n",
    "\n",
    "H0: The difference between group A conversion rate and group B conversion rate is statistically significant.\n",
    "\n",
    "H1: We cant say that the difference between group A conversion rate and group B conversion rate is statistically significant.\n",
    "\n",
    "\n"
   ]
  },
  {
   "cell_type": "code",
   "execution_count": 38,
   "metadata": {},
   "outputs": [
    {
     "name": "stdout",
     "output_type": "stream",
     "text": [
      "p-value:  7.248330876119314e-06\n",
      "Null hypothesis rejected: the difference is statistically significant\n",
      "the relative differnce between group B and group A group_b is : 0.148\n"
     ]
    }
   ],
   "source": [
    "\n",
    "alpha = 0.05 \n",
    "\n",
    "\n",
    "results = st.mannwhitneyu(group_a['conversion'], group_b['conversion'])\n",
    "\n",
    "print('p-value: ', results.pvalue)\n",
    "\n",
    "if (results.pvalue < alpha):\n",
    "    print(\"Null hypothesis rejected: the difference is statistically significant\")\n",
    "else:\n",
    "    print(\"Failed to reject the null hypothesis: we can't make conclusions about the difference\") \n",
    "print('the relative differnce between group B and group A group_b is : {0:.3f}'.format(group_b['conversion'].median()/group_a['conversion'].median()-1)) \n"
   ]
  },
  {
   "cell_type": "markdown",
   "metadata": {},
   "source": [
    "From the test we just performed on thw raw data, we can say that H0 s correct - the difference is statistically significant between the conversion of the two groups.\n",
    "\n",
    "The first row of the output gives us the p-value, 1.4496661752238628e-05, which is much smaller than 0.05. So we can reject the null hypothesis that there's not a statistically significant difference in conversion between the groups.  The relative gain of group B is 14.8% (the third row of the output).\n",
    "\n",
    "Next, i want to perform the same test on the filterd data, and see if something changes.\n",
    "\n"
   ]
  },
  {
   "cell_type": "code",
   "execution_count": 39,
   "metadata": {},
   "outputs": [
    {
     "data": {
      "text/html": [
       "<div>\n",
       "<style scoped>\n",
       "    .dataframe tbody tr th:only-of-type {\n",
       "        vertical-align: middle;\n",
       "    }\n",
       "\n",
       "    .dataframe tbody tr th {\n",
       "        vertical-align: top;\n",
       "    }\n",
       "\n",
       "    .dataframe thead th {\n",
       "        text-align: right;\n",
       "    }\n",
       "</style>\n",
       "<table border=\"1\" class=\"dataframe\">\n",
       "  <thead>\n",
       "    <tr style=\"text-align: right;\">\n",
       "      <th></th>\n",
       "      <th>transactionId</th>\n",
       "      <th>visitorId</th>\n",
       "      <th>date</th>\n",
       "      <th>revenue</th>\n",
       "      <th>group</th>\n",
       "    </tr>\n",
       "  </thead>\n",
       "  <tbody>\n",
       "    <tr>\n",
       "      <th>7</th>\n",
       "      <td>2626614568</td>\n",
       "      <td>78758296</td>\n",
       "      <td>2019-08-15</td>\n",
       "      <td>20.1</td>\n",
       "      <td>A</td>\n",
       "    </tr>\n",
       "    <tr>\n",
       "      <th>8</th>\n",
       "      <td>1576988021</td>\n",
       "      <td>295230930</td>\n",
       "      <td>2019-08-15</td>\n",
       "      <td>215.9</td>\n",
       "      <td>A</td>\n",
       "    </tr>\n",
       "    <tr>\n",
       "      <th>10</th>\n",
       "      <td>3649131742</td>\n",
       "      <td>879864040</td>\n",
       "      <td>2019-08-15</td>\n",
       "      <td>65.7</td>\n",
       "      <td>A</td>\n",
       "    </tr>\n",
       "    <tr>\n",
       "      <th>12</th>\n",
       "      <td>2809384911</td>\n",
       "      <td>3213223594</td>\n",
       "      <td>2019-08-15</td>\n",
       "      <td>115.4</td>\n",
       "      <td>A</td>\n",
       "    </tr>\n",
       "    <tr>\n",
       "      <th>14</th>\n",
       "      <td>3859315276</td>\n",
       "      <td>1565034404</td>\n",
       "      <td>2019-08-15</td>\n",
       "      <td>170.9</td>\n",
       "      <td>A</td>\n",
       "    </tr>\n",
       "  </tbody>\n",
       "</table>\n",
       "</div>"
      ],
      "text/plain": [
       "    transactionId   visitorId       date  revenue group\n",
       "7   2626614568     78758296   2019-08-15  20.1     A   \n",
       "8   1576988021     295230930  2019-08-15  215.9    A   \n",
       "10  3649131742     879864040  2019-08-15  65.7     A   \n",
       "12  2809384911     3213223594 2019-08-15  115.4    A   \n",
       "14  3859315276     1565034404 2019-08-15  170.9    A   "
      ]
     },
     "execution_count": 39,
     "metadata": {},
     "output_type": "execute_result"
    }
   ],
   "source": [
    "#filtering the data \n",
    "filtered_orders =clean_orders[~clean_orders['visitorId'].isin(abnormalUsers)]\n",
    "\n",
    "#splitting the filtered data inrto groups \n",
    "filtered_a = filtered_orders[filtered_orders['group'] =='A']\n",
    "filtered_b = filtered_orders[filtered_orders['group'] =='B']\n",
    "\n",
    "filtered_a.head()\n",
    "\n"
   ]
  },
  {
   "cell_type": "code",
   "execution_count": 40,
   "metadata": {},
   "outputs": [
    {
     "data": {
      "text/html": [
       "<div>\n",
       "<style scoped>\n",
       "    .dataframe tbody tr th:only-of-type {\n",
       "        vertical-align: middle;\n",
       "    }\n",
       "\n",
       "    .dataframe tbody tr th {\n",
       "        vertical-align: top;\n",
       "    }\n",
       "\n",
       "    .dataframe thead th {\n",
       "        text-align: right;\n",
       "    }\n",
       "</style>\n",
       "<table border=\"1\" class=\"dataframe\">\n",
       "  <thead>\n",
       "    <tr style=\"text-align: right;\">\n",
       "      <th></th>\n",
       "      <th>date</th>\n",
       "      <th>revenue</th>\n",
       "      <th>orders_per_day</th>\n",
       "      <th>users_per_day</th>\n",
       "    </tr>\n",
       "  </thead>\n",
       "  <tbody>\n",
       "    <tr>\n",
       "      <th>0</th>\n",
       "      <td>2019-08-01</td>\n",
       "      <td>1427.4</td>\n",
       "      <td>15</td>\n",
       "      <td>15</td>\n",
       "    </tr>\n",
       "    <tr>\n",
       "      <th>1</th>\n",
       "      <td>2019-08-02</td>\n",
       "      <td>762.2</td>\n",
       "      <td>15</td>\n",
       "      <td>15</td>\n",
       "    </tr>\n",
       "    <tr>\n",
       "      <th>2</th>\n",
       "      <td>2019-08-03</td>\n",
       "      <td>1815.2</td>\n",
       "      <td>24</td>\n",
       "      <td>24</td>\n",
       "    </tr>\n",
       "    <tr>\n",
       "      <th>3</th>\n",
       "      <td>2019-08-04</td>\n",
       "      <td>669.8</td>\n",
       "      <td>10</td>\n",
       "      <td>10</td>\n",
       "    </tr>\n",
       "    <tr>\n",
       "      <th>4</th>\n",
       "      <td>2019-08-05</td>\n",
       "      <td>1287.5</td>\n",
       "      <td>20</td>\n",
       "      <td>20</td>\n",
       "    </tr>\n",
       "  </tbody>\n",
       "</table>\n",
       "</div>"
      ],
      "text/plain": [
       "        date  revenue  orders_per_day  users_per_day\n",
       "0 2019-08-01  1427.4   15              15           \n",
       "1 2019-08-02  762.2    15              15           \n",
       "2 2019-08-03  1815.2   24              24           \n",
       "3 2019-08-04  669.8    10              10           \n",
       "4 2019-08-05  1287.5   20              20           "
      ]
     },
     "execution_count": 40,
     "metadata": {},
     "output_type": "execute_result"
    }
   ],
   "source": [
    "#getting the data  into the grouped version of it so i could make comparisons between the groups\n",
    "grouped_filterd_a = filtered_a.groupby(['date']).agg({'revenue' : 'sum','transactionId' : pd.Series.nunique,'visitorId' : pd.Series.nunique}).reset_index()\n",
    "grouped_filterd_a.columns = ['date','revenue','orders_per_day','users_per_day']\n",
    "grouped_filterd_a.head()\n",
    "\n"
   ]
  },
  {
   "cell_type": "code",
   "execution_count": 41,
   "metadata": {},
   "outputs": [
    {
     "data": {
      "text/html": [
       "<div>\n",
       "<style scoped>\n",
       "    .dataframe tbody tr th:only-of-type {\n",
       "        vertical-align: middle;\n",
       "    }\n",
       "\n",
       "    .dataframe tbody tr th {\n",
       "        vertical-align: top;\n",
       "    }\n",
       "\n",
       "    .dataframe thead th {\n",
       "        text-align: right;\n",
       "    }\n",
       "</style>\n",
       "<table border=\"1\" class=\"dataframe\">\n",
       "  <thead>\n",
       "    <tr style=\"text-align: right;\">\n",
       "      <th></th>\n",
       "      <th>date</th>\n",
       "      <th>revenue</th>\n",
       "      <th>orders_per_day</th>\n",
       "      <th>users_per_day</th>\n",
       "    </tr>\n",
       "  </thead>\n",
       "  <tbody>\n",
       "    <tr>\n",
       "      <th>0</th>\n",
       "      <td>2019-08-01</td>\n",
       "      <td>967.2</td>\n",
       "      <td>17</td>\n",
       "      <td>17</td>\n",
       "    </tr>\n",
       "    <tr>\n",
       "      <th>1</th>\n",
       "      <td>2019-08-02</td>\n",
       "      <td>2432.3</td>\n",
       "      <td>20</td>\n",
       "      <td>20</td>\n",
       "    </tr>\n",
       "    <tr>\n",
       "      <th>2</th>\n",
       "      <td>2019-08-03</td>\n",
       "      <td>1071.6</td>\n",
       "      <td>14</td>\n",
       "      <td>14</td>\n",
       "    </tr>\n",
       "    <tr>\n",
       "      <th>3</th>\n",
       "      <td>2019-08-04</td>\n",
       "      <td>1330.9</td>\n",
       "      <td>12</td>\n",
       "      <td>12</td>\n",
       "    </tr>\n",
       "    <tr>\n",
       "      <th>4</th>\n",
       "      <td>2019-08-05</td>\n",
       "      <td>1449.3</td>\n",
       "      <td>21</td>\n",
       "      <td>21</td>\n",
       "    </tr>\n",
       "  </tbody>\n",
       "</table>\n",
       "</div>"
      ],
      "text/plain": [
       "        date  revenue  orders_per_day  users_per_day\n",
       "0 2019-08-01  967.2    17              17           \n",
       "1 2019-08-02  2432.3   20              20           \n",
       "2 2019-08-03  1071.6   14              14           \n",
       "3 2019-08-04  1330.9   12              12           \n",
       "4 2019-08-05  1449.3   21              21           "
      ]
     },
     "execution_count": 41,
     "metadata": {},
     "output_type": "execute_result"
    }
   ],
   "source": [
    "grouped_filterd_b = filtered_b.groupby(['date']).agg({'revenue' : 'sum','transactionId' : pd.Series.nunique,'visitorId' : pd.Series.nunique}).reset_index()\n",
    "grouped_filterd_b.columns = ['date','revenue','orders_per_day','users_per_day']\n",
    "grouped_filterd_b.head()\n",
    "\n"
   ]
  },
  {
   "cell_type": "code",
   "execution_count": 42,
   "metadata": {
    "scrolled": true
   },
   "outputs": [
    {
     "data": {
      "text/html": [
       "<div>\n",
       "<style scoped>\n",
       "    .dataframe tbody tr th:only-of-type {\n",
       "        vertical-align: middle;\n",
       "    }\n",
       "\n",
       "    .dataframe tbody tr th {\n",
       "        vertical-align: top;\n",
       "    }\n",
       "\n",
       "    .dataframe thead th {\n",
       "        text-align: right;\n",
       "    }\n",
       "</style>\n",
       "<table border=\"1\" class=\"dataframe\">\n",
       "  <thead>\n",
       "    <tr style=\"text-align: right;\">\n",
       "      <th></th>\n",
       "      <th>date</th>\n",
       "      <th>revenue</th>\n",
       "      <th>orders_per_day</th>\n",
       "      <th>users_per_day</th>\n",
       "      <th>group</th>\n",
       "      <th>visits</th>\n",
       "    </tr>\n",
       "  </thead>\n",
       "  <tbody>\n",
       "    <tr>\n",
       "      <th>0</th>\n",
       "      <td>2019-08-01</td>\n",
       "      <td>1427.4</td>\n",
       "      <td>15</td>\n",
       "      <td>15</td>\n",
       "      <td>A</td>\n",
       "      <td>719</td>\n",
       "    </tr>\n",
       "    <tr>\n",
       "      <th>1</th>\n",
       "      <td>2019-08-02</td>\n",
       "      <td>762.2</td>\n",
       "      <td>15</td>\n",
       "      <td>15</td>\n",
       "      <td>A</td>\n",
       "      <td>619</td>\n",
       "    </tr>\n",
       "    <tr>\n",
       "      <th>2</th>\n",
       "      <td>2019-08-03</td>\n",
       "      <td>1815.2</td>\n",
       "      <td>24</td>\n",
       "      <td>24</td>\n",
       "      <td>A</td>\n",
       "      <td>507</td>\n",
       "    </tr>\n",
       "    <tr>\n",
       "      <th>3</th>\n",
       "      <td>2019-08-04</td>\n",
       "      <td>669.8</td>\n",
       "      <td>10</td>\n",
       "      <td>10</td>\n",
       "      <td>A</td>\n",
       "      <td>717</td>\n",
       "    </tr>\n",
       "    <tr>\n",
       "      <th>4</th>\n",
       "      <td>2019-08-05</td>\n",
       "      <td>1287.5</td>\n",
       "      <td>20</td>\n",
       "      <td>20</td>\n",
       "      <td>A</td>\n",
       "      <td>756</td>\n",
       "    </tr>\n",
       "  </tbody>\n",
       "</table>\n",
       "</div>"
      ],
      "text/plain": [
       "        date  revenue  orders_per_day  users_per_day group  visits\n",
       "0 2019-08-01  1427.4   15              15             A     719   \n",
       "1 2019-08-02  762.2    15              15             A     619   \n",
       "2 2019-08-03  1815.2   24              24             A     507   \n",
       "3 2019-08-04  669.8    10              10             A     717   \n",
       "4 2019-08-05  1287.5   20              20             A     756   "
      ]
     },
     "execution_count": 42,
     "metadata": {},
     "output_type": "execute_result"
    }
   ],
   "source": [
    "#merging the df with the visits df for further calculations \n",
    "grouped_filterd_a = grouped_filterd_a.merge(visits[visits['group'] == 'A'],on = ['date'],how = 'outer')\n",
    "grouped_filterd_b = grouped_filterd_b.merge(visits[visits['group'] == 'B'],on = ['date'],how = 'outer')\n",
    "grouped_filterd_a.head()"
   ]
  },
  {
   "cell_type": "code",
   "execution_count": 43,
   "metadata": {},
   "outputs": [
    {
     "data": {
      "text/html": [
       "<div>\n",
       "<style scoped>\n",
       "    .dataframe tbody tr th:only-of-type {\n",
       "        vertical-align: middle;\n",
       "    }\n",
       "\n",
       "    .dataframe tbody tr th {\n",
       "        vertical-align: top;\n",
       "    }\n",
       "\n",
       "    .dataframe thead th {\n",
       "        text-align: right;\n",
       "    }\n",
       "</style>\n",
       "<table border=\"1\" class=\"dataframe\">\n",
       "  <thead>\n",
       "    <tr style=\"text-align: right;\">\n",
       "      <th></th>\n",
       "      <th>date</th>\n",
       "      <th>revenue</th>\n",
       "      <th>orders_per_day</th>\n",
       "      <th>users_per_day</th>\n",
       "      <th>group</th>\n",
       "      <th>visits</th>\n",
       "      <th>conversion</th>\n",
       "    </tr>\n",
       "  </thead>\n",
       "  <tbody>\n",
       "    <tr>\n",
       "      <th>0</th>\n",
       "      <td>2019-08-01</td>\n",
       "      <td>967.2</td>\n",
       "      <td>17</td>\n",
       "      <td>17</td>\n",
       "      <td>B</td>\n",
       "      <td>713</td>\n",
       "      <td>0.023843</td>\n",
       "    </tr>\n",
       "    <tr>\n",
       "      <th>1</th>\n",
       "      <td>2019-08-02</td>\n",
       "      <td>2432.3</td>\n",
       "      <td>20</td>\n",
       "      <td>20</td>\n",
       "      <td>B</td>\n",
       "      <td>581</td>\n",
       "      <td>0.034423</td>\n",
       "    </tr>\n",
       "    <tr>\n",
       "      <th>2</th>\n",
       "      <td>2019-08-03</td>\n",
       "      <td>1071.6</td>\n",
       "      <td>14</td>\n",
       "      <td>14</td>\n",
       "      <td>B</td>\n",
       "      <td>509</td>\n",
       "      <td>0.027505</td>\n",
       "    </tr>\n",
       "    <tr>\n",
       "      <th>3</th>\n",
       "      <td>2019-08-04</td>\n",
       "      <td>1330.9</td>\n",
       "      <td>12</td>\n",
       "      <td>12</td>\n",
       "      <td>B</td>\n",
       "      <td>770</td>\n",
       "      <td>0.015584</td>\n",
       "    </tr>\n",
       "    <tr>\n",
       "      <th>4</th>\n",
       "      <td>2019-08-05</td>\n",
       "      <td>1449.3</td>\n",
       "      <td>21</td>\n",
       "      <td>21</td>\n",
       "      <td>B</td>\n",
       "      <td>707</td>\n",
       "      <td>0.029703</td>\n",
       "    </tr>\n",
       "  </tbody>\n",
       "</table>\n",
       "</div>"
      ],
      "text/plain": [
       "        date  revenue  orders_per_day  users_per_day group  visits  conversion\n",
       "0 2019-08-01  967.2    17              17             B     713     0.023843  \n",
       "1 2019-08-02  2432.3   20              20             B     581     0.034423  \n",
       "2 2019-08-03  1071.6   14              14             B     509     0.027505  \n",
       "3 2019-08-04  1330.9   12              12             B     770     0.015584  \n",
       "4 2019-08-05  1449.3   21              21             B     707     0.029703  "
      ]
     },
     "execution_count": 43,
     "metadata": {},
     "output_type": "execute_result"
    }
   ],
   "source": [
    "#adding a conversion column as the ratio of orders / visits\n",
    "grouped_filterd_a['conversion'] = grouped_filterd_a['orders_per_day'] / grouped_filterd_a['visits']\n",
    "grouped_filterd_b['conversion'] = grouped_filterd_b['orders_per_day'] / grouped_filterd_b['visits']\n",
    "grouped_filterd_b.head()"
   ]
  },
  {
   "cell_type": "markdown",
   "metadata": {},
   "source": [
    "Now after everything is set, I want to find the statistical significance of the difference in conversion between the groups using the filterd data.\n",
    "\n",
    "\n",
    "Like i did with the raw data, I  will formulate two hypotheses - A null hypitheses H0, and the alternative hypothesis- H1, and will perform a Wilcoxon–Mann–Whitney  test. \n",
    "\n",
    "\n",
    "In order to determine whether to reject the null hypothesis or not\n",
    "We set a threshold for statistical significance - critical statistical significance level alpha, wich will be 0.05.\n",
    "if the p-value is less than alpha, we reject the null hypothesis -H0\n",
    "\n",
    "The hypotheses:\n",
    "\n",
    "H0: The difference between the filterd group A conversion rate and the filterd group B conversion rate is statistically significant.\n",
    "\n",
    "H1: We cant say that the difference between the filterd group A conversion rate and the filterd group B conversion rate is statistically significant.\n"
   ]
  },
  {
   "cell_type": "code",
   "execution_count": 44,
   "metadata": {},
   "outputs": [
    {
     "name": "stdout",
     "output_type": "stream",
     "text": [
      "p-value:  0.019915482598469605\n",
      "Null hypothesis rejected: the difference is statistically significant\n",
      "the relative differnce between group B and group A group_b is : 0.385\n"
     ]
    }
   ],
   "source": [
    "\n",
    "alpha = 0.05 \n",
    "\n",
    "\n",
    "results = st.mannwhitneyu(grouped_filterd_a['conversion'], grouped_filterd_b['conversion'])\n",
    "\n",
    "print('p-value: ', results.pvalue)\n",
    "\n",
    "if (results.pvalue < alpha):\n",
    "    print(\"Null hypothesis rejected: the difference is statistically significant\")\n",
    "else:\n",
    "    print(\"Failed to reject the null hypothesis: we can't make conclusions about the difference\") \n",
    "print('the relative differnce between group B and group A group_b is : {0:.3f}'.format(grouped_filterd_b['conversion'].median()/grouped_filterd_a['conversion'].median()-1)) \n"
   ]
  },
  {
   "cell_type": "markdown",
   "metadata": {},
   "source": [
    "From the test we just performed on thw filterd data, we can say that H0 s correct - the difference is statistically significant between the conversion of the two groups.\n",
    "\n",
    "The first row of the output gives us the p-value, 0.03983096519693921, which is  smaller than 0.05. So we can reject the null hypothesis that there's not a statistically significant difference in conversion between the groups.  The relative gain of group B is 38.5% (the third row of the output).\n",
    "\n"
   ]
  },
  {
   "cell_type": "markdown",
   "metadata": {},
   "source": [
    "Next, I want to find the statistical significance of the difference in average purchase size between the groups using the raw data and compare the findings to the statistical significance of the difference in average order size between the groups using the filterd data.\n",
    "\n",
    "Raw data - The hypotheses:\n",
    "\n",
    "H0: The difference between group A average purchase size  and group B average purchase size is statistically significant.\n",
    "\n",
    "H1: We cant say that the difference between group A average purchase size and group B average purchase size is statistically significant."
   ]
  },
  {
   "cell_type": "markdown",
   "metadata": {},
   "source": [
    "in order to test those hypotheses about the groups average purchase size, i have created a function that will use the shapiro test to check if distribution of the data we are checking is normal.\n",
    "if so, a ttest will be conducted( after a t.levene test in order to detemine how to set the equal_var in the ttest). \n",
    "\n",
    "if not- a mannwhitneyu test will be conducted as beforee.\n"
   ]
  },
  {
   "cell_type": "code",
   "execution_count": 45,
   "metadata": {},
   "outputs": [],
   "source": [
    "def testing_average(sample1,sample2,alpha =0.05):\n",
    "    \n",
    "    sample1 = sample1.dropna()\n",
    "    sample2 = sample2.dropna()\n",
    "    stat1, p1_norm = st.shapiro(sample1)\n",
    "    stat2, p2_norm = st.shapiro(sample2)\n",
    "\n",
    "    if p1_norm > alpha and p2_norm > alpha:  \n",
    "        \n",
    "    \n",
    "    #then both normal, perform t-test\n",
    "    # for t test  also should check equality of  variances \n",
    "        statslev,p_levene = st.levene(sample1, sample2)\n",
    "        if p_levene < alpha:\n",
    "            \n",
    "            statist,p_value = st.ttest_ind(sample1, sample2,equal_var = False)\n",
    "        else:\n",
    "        \n",
    "             statist,p_value = st.ttest_ind(sample1, sample2,equal_var = True)\n",
    "    else:\n",
    "        statist,p_value = st.mannwhitneyu(sample1, sample2)\n",
    "                                          \n",
    "    print(p_value)\n",
    "    if p_value < alpha:\n",
    "        \n",
    "        \n",
    "        print(\"Rejecting the null hypothesis: there is a significant difference between the proportions\")                                                      \n",
    "    else:\n",
    "        \n",
    "        \n",
    "                                      \n",
    "        print(\"Failed to reject the null hypothesis: there is no reason to consider the proportions different\")\n",
    "\n",
    "    print('the relative differnce between group B and group A group_b is : {0:.3f}'.format(sample1.mean()/sample2.mean()-1)) \n",
    "\n",
    "\n"
   ]
  },
  {
   "cell_type": "code",
   "execution_count": null,
   "metadata": {},
   "outputs": [],
   "source": []
  },
  {
   "cell_type": "code",
   "execution_count": 46,
   "metadata": {},
   "outputs": [],
   "source": [
    "\n",
    "group_a['avg_purchase'] = group_a['revenue'] / group_a['orders_per_day']\n",
    "group_b['avg_purchase'] = group_b['revenue'] / group_b['orders_per_day']\n",
    "\n",
    "\n"
   ]
  },
  {
   "cell_type": "code",
   "execution_count": 47,
   "metadata": {},
   "outputs": [
    {
     "name": "stdout",
     "output_type": "stream",
     "text": [
      "0.4775457158686006\n",
      "Failed to reject the null hypothesis: there is no reason to consider the proportions different\n",
      "the relative differnce between group B and group A group_b is : -0.165\n"
     ]
    }
   ],
   "source": [
    "testing_average(group_a.avg_purchase,group_b.avg_purchase,alpha =0.05) \n",
    "\n"
   ]
  },
  {
   "cell_type": "code",
   "execution_count": 48,
   "metadata": {},
   "outputs": [
    {
     "name": "stdout",
     "output_type": "stream",
     "text": [
      "0.9261905382178917\n",
      "Failed to reject the null hypothesis: there is no reason to consider the proportions different\n",
      "the relative differnce between group B and group A group_b is : 0.009\n"
     ]
    }
   ],
   "source": [
    "\n",
    "grouped_filterd_a['avg_purchase'] = grouped_filterd_a['revenue'] / grouped_filterd_a['orders_per_day']\n",
    "grouped_filterd_b['avg_purchase'] = grouped_filterd_b['revenue'] / grouped_filterd_b['orders_per_day']\n",
    "grouped_filterd_a.head()\n",
    "\n",
    "\n",
    "testing_average(grouped_filterd_a.avg_purchase,grouped_filterd_b.avg_purchase,alpha =0.05)"
   ]
  },
  {
   "cell_type": "markdown",
   "metadata": {},
   "source": [
    "We can see that there isn't a significant differnce in averge purchase size between group A and B, using raw data or filterd data."
   ]
  },
  {
   "cell_type": "code",
   "execution_count": null,
   "metadata": {},
   "outputs": [],
   "source": []
  },
  {
   "cell_type": "markdown",
   "metadata": {},
   "source": [
    "## conclusion: \n",
    "1. There's a statistically significant difference in conversion between the groups, according to both the raw and the filtered data.\n",
    "The graph of the difference in conversion between the groups shows that group B's results are better than those of group A.\n",
    "2. The raw data and the filterd didn't show a statistically significant difference between the groups in terms of average purchase size.\n"
   ]
  },
  {
   "cell_type": "markdown",
   "metadata": {},
   "source": [
    "I would recommend to stop the test. There is no reason to think that group a will catch up to group b regarding conversion rates, and the probability of getting a significant differnce is realy small, with p_value of 0.491, way above our alpha threshold. \n",
    "\n",
    "I would call group B as the winner of the test, regarding conversion. If the company is more interested with average purchase size, there isnt a statistical way of calling a winner due to the conclusions i mentioned.  "
   ]
  }
 ],
 "metadata": {
  "ExecuteTimeLog": [
   {
    "duration": 1471,
    "start_time": "2022-04-08T09:21:38.667Z"
   },
   {
    "duration": 99,
    "start_time": "2022-04-08T09:22:04.123Z"
   },
   {
    "duration": 22,
    "start_time": "2022-04-08T09:22:07.381Z"
   },
   {
    "duration": 14,
    "start_time": "2022-04-08T09:22:13.949Z"
   },
   {
    "duration": 12,
    "start_time": "2022-04-08T09:22:49.777Z"
   },
   {
    "duration": 6,
    "start_time": "2022-04-08T09:23:37.208Z"
   },
   {
    "duration": 6,
    "start_time": "2022-04-08T09:23:56.951Z"
   },
   {
    "duration": 11,
    "start_time": "2022-04-08T09:27:30.237Z"
   },
   {
    "duration": 9,
    "start_time": "2022-04-08T09:30:50.406Z"
   },
   {
    "duration": 10,
    "start_time": "2022-04-08T09:30:57.052Z"
   },
   {
    "duration": 14,
    "start_time": "2022-04-08T09:31:07.740Z"
   },
   {
    "duration": 15,
    "start_time": "2022-04-08T09:38:35.077Z"
   },
   {
    "duration": 5,
    "start_time": "2022-04-08T09:38:51.921Z"
   },
   {
    "duration": 13,
    "start_time": "2022-04-08T09:39:02.211Z"
   },
   {
    "duration": 9,
    "start_time": "2022-04-08T09:39:12.553Z"
   },
   {
    "duration": 5,
    "start_time": "2022-04-08T09:39:35.864Z"
   },
   {
    "duration": 8,
    "start_time": "2022-04-08T09:39:40.597Z"
   },
   {
    "duration": 12,
    "start_time": "2022-04-08T09:40:24.312Z"
   },
   {
    "duration": 15,
    "start_time": "2022-04-08T09:41:02.211Z"
   },
   {
    "duration": 10,
    "start_time": "2022-04-08T09:41:18.673Z"
   },
   {
    "duration": 11,
    "start_time": "2022-04-08T09:41:31.708Z"
   },
   {
    "duration": 10,
    "start_time": "2022-04-08T09:41:49.393Z"
   },
   {
    "duration": 14,
    "start_time": "2022-04-08T09:42:35.400Z"
   },
   {
    "duration": 12,
    "start_time": "2022-04-08T09:42:52.405Z"
   },
   {
    "duration": 13,
    "start_time": "2022-04-08T09:43:19.236Z"
   },
   {
    "duration": 112,
    "start_time": "2022-04-08T09:51:11.213Z"
   },
   {
    "duration": 10,
    "start_time": "2022-04-08T09:51:16.005Z"
   },
   {
    "duration": 4,
    "start_time": "2022-04-08T09:51:24.115Z"
   },
   {
    "duration": 4,
    "start_time": "2022-04-08T09:51:36.787Z"
   },
   {
    "duration": 4,
    "start_time": "2022-04-08T09:51:44.494Z"
   },
   {
    "duration": 9,
    "start_time": "2022-04-08T09:51:51.067Z"
   },
   {
    "duration": 4,
    "start_time": "2022-04-08T09:51:56.151Z"
   },
   {
    "duration": 6,
    "start_time": "2022-04-08T09:52:47.481Z"
   },
   {
    "duration": 105,
    "start_time": "2022-04-08T13:07:30.422Z"
   },
   {
    "duration": 19,
    "start_time": "2022-04-08T13:08:33.793Z"
   },
   {
    "duration": 10,
    "start_time": "2022-04-08T13:08:55.766Z"
   },
   {
    "duration": 15,
    "start_time": "2022-04-08T13:09:06.484Z"
   },
   {
    "duration": 9,
    "start_time": "2022-04-08T13:11:11.213Z"
   },
   {
    "duration": 3,
    "start_time": "2022-04-08T13:11:17.070Z"
   },
   {
    "duration": 10,
    "start_time": "2022-04-08T13:11:35.447Z"
   },
   {
    "duration": 14,
    "start_time": "2022-04-08T13:11:45.470Z"
   },
   {
    "duration": 9,
    "start_time": "2022-04-08T13:11:54.297Z"
   },
   {
    "duration": 4,
    "start_time": "2022-04-08T13:12:00.592Z"
   },
   {
    "duration": 13,
    "start_time": "2022-04-08T13:12:04.099Z"
   },
   {
    "duration": 12,
    "start_time": "2022-04-08T13:13:22.256Z"
   },
   {
    "duration": 10,
    "start_time": "2022-04-08T13:26:36.831Z"
   },
   {
    "duration": 25,
    "start_time": "2022-04-08T13:27:00.581Z"
   },
   {
    "duration": 13,
    "start_time": "2022-04-08T13:27:10.556Z"
   },
   {
    "duration": 8,
    "start_time": "2022-04-08T13:31:09.959Z"
   },
   {
    "duration": 14,
    "start_time": "2022-04-08T13:39:04.538Z"
   },
   {
    "duration": 6,
    "start_time": "2022-04-08T13:39:49.242Z"
   },
   {
    "duration": 10,
    "start_time": "2022-04-08T13:45:01.119Z"
   },
   {
    "duration": 5,
    "start_time": "2022-04-08T13:45:06.177Z"
   },
   {
    "duration": 5,
    "start_time": "2022-04-08T13:46:33.978Z"
   },
   {
    "duration": 11,
    "start_time": "2022-04-08T13:47:24.687Z"
   },
   {
    "duration": 11,
    "start_time": "2022-04-08T13:47:27.098Z"
   },
   {
    "duration": 9,
    "start_time": "2022-04-08T13:47:57.438Z"
   },
   {
    "duration": 10,
    "start_time": "2022-04-08T13:48:25.623Z"
   },
   {
    "duration": 12,
    "start_time": "2022-04-08T13:48:34.109Z"
   },
   {
    "duration": 13,
    "start_time": "2022-04-08T13:48:39.008Z"
   },
   {
    "duration": 4,
    "start_time": "2022-04-08T13:51:17.402Z"
   },
   {
    "duration": 4,
    "start_time": "2022-04-08T13:51:56.293Z"
   },
   {
    "duration": 4,
    "start_time": "2022-04-08T13:52:11.529Z"
   },
   {
    "duration": 14,
    "start_time": "2022-04-08T13:52:31.539Z"
   },
   {
    "duration": 9,
    "start_time": "2022-04-08T13:52:41.960Z"
   },
   {
    "duration": 12,
    "start_time": "2022-04-08T13:53:20.295Z"
   },
   {
    "duration": 8,
    "start_time": "2022-04-08T13:55:19.130Z"
   },
   {
    "duration": 12,
    "start_time": "2022-04-08T13:55:21.142Z"
   },
   {
    "duration": 7,
    "start_time": "2022-04-08T13:55:50.787Z"
   },
   {
    "duration": 9,
    "start_time": "2022-04-08T13:56:03.033Z"
   },
   {
    "duration": 11,
    "start_time": "2022-04-08T13:56:32.364Z"
   },
   {
    "duration": 4,
    "start_time": "2022-04-08T13:57:22.755Z"
   },
   {
    "duration": 5,
    "start_time": "2022-04-08T13:57:30.716Z"
   },
   {
    "duration": 4,
    "start_time": "2022-04-08T13:57:39.796Z"
   },
   {
    "duration": 4,
    "start_time": "2022-04-08T13:57:42.476Z"
   },
   {
    "duration": 5,
    "start_time": "2022-04-08T13:57:45.906Z"
   },
   {
    "duration": 4,
    "start_time": "2022-04-08T13:58:15.315Z"
   },
   {
    "duration": 130,
    "start_time": "2022-04-08T13:58:51.359Z"
   },
   {
    "duration": 6,
    "start_time": "2022-04-08T13:59:01.254Z"
   },
   {
    "duration": 5,
    "start_time": "2022-04-08T13:59:09.255Z"
   },
   {
    "duration": 7,
    "start_time": "2022-04-08T14:03:54.087Z"
   },
   {
    "duration": 14,
    "start_time": "2022-04-08T14:04:01.419Z"
   },
   {
    "duration": 14,
    "start_time": "2022-04-08T14:16:36.730Z"
   },
   {
    "duration": 115,
    "start_time": "2022-04-08T14:18:27.663Z"
   },
   {
    "duration": 14,
    "start_time": "2022-04-08T14:18:32.027Z"
   },
   {
    "duration": 14,
    "start_time": "2022-04-08T14:18:55.041Z"
   },
   {
    "duration": 32,
    "start_time": "2022-04-08T14:23:43.388Z"
   },
   {
    "duration": 221,
    "start_time": "2022-04-08T14:24:01.998Z"
   },
   {
    "duration": 293,
    "start_time": "2022-04-08T14:24:22.735Z"
   },
   {
    "duration": 5,
    "start_time": "2022-04-08T14:25:59.965Z"
   },
   {
    "duration": 4,
    "start_time": "2022-04-08T14:35:47.046Z"
   },
   {
    "duration": 12,
    "start_time": "2022-04-08T14:35:59.815Z"
   },
   {
    "duration": 13,
    "start_time": "2022-04-08T14:38:10.033Z"
   },
   {
    "duration": 264,
    "start_time": "2022-04-08T14:43:33.624Z"
   },
   {
    "duration": 163,
    "start_time": "2022-04-08T14:48:45.107Z"
   },
   {
    "duration": 167,
    "start_time": "2022-04-08T14:48:54.788Z"
   },
   {
    "duration": 288,
    "start_time": "2022-04-08T15:07:08.956Z"
   },
   {
    "duration": 5,
    "start_time": "2022-04-08T15:07:27.750Z"
   },
   {
    "duration": 12,
    "start_time": "2022-04-08T15:07:34.866Z"
   },
   {
    "duration": 9,
    "start_time": "2022-04-08T15:07:41.081Z"
   },
   {
    "duration": 304,
    "start_time": "2022-04-08T15:08:34.860Z"
   },
   {
    "duration": 297,
    "start_time": "2022-04-08T15:11:37.934Z"
   },
   {
    "duration": 5,
    "start_time": "2022-04-08T15:11:44.216Z"
   },
   {
    "duration": 13,
    "start_time": "2022-04-08T15:12:02.902Z"
   },
   {
    "duration": 211,
    "start_time": "2022-04-08T15:12:10.210Z"
   },
   {
    "duration": 197,
    "start_time": "2022-04-08T15:12:17.852Z"
   },
   {
    "duration": 1733,
    "start_time": "2022-04-08T15:16:47.582Z"
   },
   {
    "duration": 23,
    "start_time": "2022-04-08T15:17:13.341Z"
   },
   {
    "duration": 322,
    "start_time": "2022-04-08T15:17:51.479Z"
   },
   {
    "duration": 1750,
    "start_time": "2022-04-08T15:21:05.396Z"
   },
   {
    "duration": 2165,
    "start_time": "2022-04-08T15:21:12.716Z"
   },
   {
    "duration": 291,
    "start_time": "2022-04-08T15:21:26.459Z"
   },
   {
    "duration": 5,
    "start_time": "2022-04-08T15:21:27.609Z"
   },
   {
    "duration": 208,
    "start_time": "2022-04-08T15:21:28.260Z"
   },
   {
    "duration": 188,
    "start_time": "2022-04-08T15:21:29.029Z"
   },
   {
    "duration": 296,
    "start_time": "2022-04-08T15:21:29.439Z"
   },
   {
    "duration": 222,
    "start_time": "2022-04-08T15:21:29.737Z"
   },
   {
    "duration": 1547,
    "start_time": "2022-04-09T12:06:21.725Z"
   },
   {
    "duration": 20,
    "start_time": "2022-04-09T12:06:24.562Z"
   },
   {
    "duration": 4,
    "start_time": "2022-04-09T12:06:24.811Z"
   },
   {
    "duration": 15,
    "start_time": "2022-04-09T12:06:25.035Z"
   },
   {
    "duration": 12,
    "start_time": "2022-04-09T12:06:25.251Z"
   },
   {
    "duration": 27,
    "start_time": "2022-04-09T12:06:26.125Z"
   },
   {
    "duration": 16,
    "start_time": "2022-04-09T12:06:26.344Z"
   },
   {
    "duration": 7,
    "start_time": "2022-04-09T12:06:26.790Z"
   },
   {
    "duration": 13,
    "start_time": "2022-04-09T12:06:26.998Z"
   },
   {
    "duration": 11,
    "start_time": "2022-04-09T12:06:27.215Z"
   },
   {
    "duration": 11,
    "start_time": "2022-04-09T12:06:27.399Z"
   },
   {
    "duration": 9,
    "start_time": "2022-04-09T12:06:27.599Z"
   },
   {
    "duration": 16,
    "start_time": "2022-04-09T12:06:27.809Z"
   },
   {
    "duration": 12,
    "start_time": "2022-04-09T12:06:27.993Z"
   },
   {
    "duration": 275,
    "start_time": "2022-04-09T12:06:28.194Z"
   },
   {
    "duration": 4,
    "start_time": "2022-04-09T12:06:28.472Z"
   },
   {
    "duration": 270,
    "start_time": "2022-04-09T12:06:28.614Z"
   },
   {
    "duration": 195,
    "start_time": "2022-04-09T12:06:28.885Z"
   },
   {
    "duration": 331,
    "start_time": "2022-04-09T12:06:29.082Z"
   },
   {
    "duration": 201,
    "start_time": "2022-04-09T12:06:29.415Z"
   },
   {
    "duration": 10,
    "start_time": "2022-04-09T12:08:19.331Z"
   },
   {
    "duration": 10,
    "start_time": "2022-04-09T12:19:33.366Z"
   },
   {
    "duration": 12,
    "start_time": "2022-04-09T12:20:24.145Z"
   },
   {
    "duration": 213,
    "start_time": "2022-04-09T12:23:02.066Z"
   },
   {
    "duration": 113,
    "start_time": "2022-04-09T12:23:18.293Z"
   },
   {
    "duration": 111,
    "start_time": "2022-04-09T12:23:28.366Z"
   },
   {
    "duration": 4,
    "start_time": "2022-04-09T12:25:06.215Z"
   },
   {
    "duration": 109,
    "start_time": "2022-04-09T12:25:10.790Z"
   },
   {
    "duration": 127,
    "start_time": "2022-04-09T12:25:23.950Z"
   },
   {
    "duration": 115,
    "start_time": "2022-04-09T12:27:52.417Z"
   },
   {
    "duration": 111,
    "start_time": "2022-04-09T12:27:59.291Z"
   },
   {
    "duration": 120,
    "start_time": "2022-04-09T12:28:06.002Z"
   },
   {
    "duration": 125,
    "start_time": "2022-04-09T12:28:10.779Z"
   },
   {
    "duration": 104,
    "start_time": "2022-04-09T12:28:15.565Z"
   },
   {
    "duration": 113,
    "start_time": "2022-04-09T12:28:19.777Z"
   },
   {
    "duration": 109,
    "start_time": "2022-04-09T12:28:24.052Z"
   },
   {
    "duration": 116,
    "start_time": "2022-04-09T12:28:44.451Z"
   },
   {
    "duration": 111,
    "start_time": "2022-04-09T12:28:49.890Z"
   },
   {
    "duration": 119,
    "start_time": "2022-04-09T12:37:38.478Z"
   },
   {
    "duration": 198,
    "start_time": "2022-04-09T12:37:49.678Z"
   },
   {
    "duration": 5,
    "start_time": "2022-04-09T12:45:53.671Z"
   },
   {
    "duration": 15,
    "start_time": "2022-04-09T12:45:54.256Z"
   },
   {
    "duration": 3,
    "start_time": "2022-04-09T12:45:54.336Z"
   },
   {
    "duration": 14,
    "start_time": "2022-04-09T12:45:54.420Z"
   },
   {
    "duration": 11,
    "start_time": "2022-04-09T12:45:54.503Z"
   },
   {
    "duration": 36,
    "start_time": "2022-04-09T12:45:54.837Z"
   },
   {
    "duration": 16,
    "start_time": "2022-04-09T12:45:54.922Z"
   },
   {
    "duration": 6,
    "start_time": "2022-04-09T12:45:55.086Z"
   },
   {
    "duration": 12,
    "start_time": "2022-04-09T12:45:55.180Z"
   },
   {
    "duration": 10,
    "start_time": "2022-04-09T12:45:55.253Z"
   },
   {
    "duration": 11,
    "start_time": "2022-04-09T12:45:55.338Z"
   },
   {
    "duration": 9,
    "start_time": "2022-04-09T12:45:55.419Z"
   },
   {
    "duration": 16,
    "start_time": "2022-04-09T12:45:55.511Z"
   },
   {
    "duration": 12,
    "start_time": "2022-04-09T12:45:55.588Z"
   },
   {
    "duration": 269,
    "start_time": "2022-04-09T12:45:55.671Z"
   },
   {
    "duration": 12,
    "start_time": "2022-04-09T12:45:55.942Z"
   },
   {
    "duration": 6,
    "start_time": "2022-04-09T12:45:55.955Z"
   },
   {
    "duration": 209,
    "start_time": "2022-04-09T12:45:55.963Z"
   },
   {
    "duration": 191,
    "start_time": "2022-04-09T12:45:56.174Z"
   },
   {
    "duration": 268,
    "start_time": "2022-04-09T12:45:56.366Z"
   },
   {
    "duration": 199,
    "start_time": "2022-04-09T12:45:56.636Z"
   },
   {
    "duration": 13,
    "start_time": "2022-04-09T12:45:56.837Z"
   },
   {
    "duration": 129,
    "start_time": "2022-04-09T12:45:56.852Z"
   },
   {
    "duration": 139,
    "start_time": "2022-04-09T12:45:56.983Z"
   },
   {
    "duration": 3,
    "start_time": "2022-04-09T12:46:02.887Z"
   },
   {
    "duration": 5,
    "start_time": "2022-04-09T12:47:07.112Z"
   },
   {
    "duration": 4,
    "start_time": "2022-04-09T12:47:15.785Z"
   },
   {
    "duration": 5,
    "start_time": "2022-04-09T12:47:40.650Z"
   },
   {
    "duration": 120,
    "start_time": "2022-04-09T12:56:45.511Z"
   },
   {
    "duration": 4,
    "start_time": "2022-04-09T12:56:54.969Z"
   },
   {
    "duration": 14,
    "start_time": "2022-04-09T12:58:48.550Z"
   },
   {
    "duration": 4,
    "start_time": "2022-04-09T12:59:17.019Z"
   },
   {
    "duration": 4,
    "start_time": "2022-04-09T12:59:18.543Z"
   },
   {
    "duration": 4,
    "start_time": "2022-04-09T13:04:20.130Z"
   },
   {
    "duration": 5,
    "start_time": "2022-04-09T13:04:20.817Z"
   },
   {
    "duration": 4,
    "start_time": "2022-04-09T13:13:33.962Z"
   },
   {
    "duration": 5,
    "start_time": "2022-04-09T13:13:34.971Z"
   },
   {
    "duration": 4,
    "start_time": "2022-04-09T13:13:49.328Z"
   },
   {
    "duration": 5,
    "start_time": "2022-04-09T13:13:51.940Z"
   },
   {
    "duration": 5,
    "start_time": "2022-04-09T13:13:52.275Z"
   },
   {
    "duration": 6,
    "start_time": "2022-04-09T13:14:05.589Z"
   },
   {
    "duration": 4,
    "start_time": "2022-04-09T13:14:06.102Z"
   },
   {
    "duration": 5,
    "start_time": "2022-04-09T13:14:09.516Z"
   },
   {
    "duration": 5,
    "start_time": "2022-04-09T13:14:10.110Z"
   },
   {
    "duration": 5,
    "start_time": "2022-04-09T13:14:16.570Z"
   },
   {
    "duration": 5,
    "start_time": "2022-04-09T13:14:17.304Z"
   },
   {
    "duration": 13,
    "start_time": "2022-04-09T13:17:55.091Z"
   },
   {
    "duration": 110,
    "start_time": "2022-04-09T14:12:35.742Z"
   },
   {
    "duration": 104,
    "start_time": "2022-04-09T14:12:44.269Z"
   },
   {
    "duration": 107,
    "start_time": "2022-04-09T14:12:51.119Z"
   },
   {
    "duration": 111,
    "start_time": "2022-04-09T14:12:58.757Z"
   },
   {
    "duration": 120,
    "start_time": "2022-04-09T14:13:24.336Z"
   },
   {
    "duration": 138,
    "start_time": "2022-04-09T14:14:28.493Z"
   },
   {
    "duration": 126,
    "start_time": "2022-04-09T14:15:05.494Z"
   },
   {
    "duration": 116,
    "start_time": "2022-04-09T14:15:37.087Z"
   },
   {
    "duration": 4,
    "start_time": "2022-04-09T14:15:45.102Z"
   },
   {
    "duration": 5,
    "start_time": "2022-04-09T14:15:57.758Z"
   },
   {
    "duration": 11,
    "start_time": "2022-04-09T14:16:36.230Z"
   },
   {
    "duration": 6,
    "start_time": "2022-04-09T14:16:51.893Z"
   },
   {
    "duration": 4,
    "start_time": "2022-04-09T14:18:04.400Z"
   },
   {
    "duration": 5,
    "start_time": "2022-04-09T14:18:05.160Z"
   },
   {
    "duration": 279,
    "start_time": "2022-04-09T14:24:05.727Z"
   },
   {
    "duration": 11,
    "start_time": "2022-04-09T14:24:06.638Z"
   },
   {
    "duration": 6,
    "start_time": "2022-04-09T14:24:15.258Z"
   },
   {
    "duration": 201,
    "start_time": "2022-04-09T14:24:15.823Z"
   },
   {
    "duration": 194,
    "start_time": "2022-04-09T14:24:16.132Z"
   },
   {
    "duration": 300,
    "start_time": "2022-04-09T14:24:16.356Z"
   },
   {
    "duration": 202,
    "start_time": "2022-04-09T14:24:16.658Z"
   },
   {
    "duration": 9,
    "start_time": "2022-04-09T14:24:17.255Z"
   },
   {
    "duration": 111,
    "start_time": "2022-04-09T14:24:17.695Z"
   },
   {
    "duration": 129,
    "start_time": "2022-04-09T14:24:17.939Z"
   },
   {
    "duration": 5,
    "start_time": "2022-04-09T14:24:19.730Z"
   },
   {
    "duration": 6,
    "start_time": "2022-04-09T14:24:20.021Z"
   },
   {
    "duration": 5,
    "start_time": "2022-04-09T14:24:20.276Z"
   },
   {
    "duration": 5,
    "start_time": "2022-04-09T14:24:20.522Z"
   },
   {
    "duration": 16,
    "start_time": "2022-04-09T14:24:21.006Z"
   },
   {
    "duration": 7,
    "start_time": "2022-04-09T14:24:21.286Z"
   },
   {
    "duration": 7,
    "start_time": "2022-04-09T14:24:21.760Z"
   },
   {
    "duration": 7,
    "start_time": "2022-04-09T14:24:40.951Z"
   },
   {
    "duration": 1999,
    "start_time": "2022-04-10T10:33:21.962Z"
   },
   {
    "duration": 24,
    "start_time": "2022-04-10T10:33:23.964Z"
   },
   {
    "duration": 5,
    "start_time": "2022-04-10T10:33:23.991Z"
   },
   {
    "duration": 19,
    "start_time": "2022-04-10T10:33:24.000Z"
   },
   {
    "duration": 16,
    "start_time": "2022-04-10T10:33:24.022Z"
   },
   {
    "duration": 56,
    "start_time": "2022-04-10T10:33:24.041Z"
   },
   {
    "duration": 17,
    "start_time": "2022-04-10T10:33:24.099Z"
   },
   {
    "duration": 10,
    "start_time": "2022-04-10T10:33:24.118Z"
   },
   {
    "duration": 20,
    "start_time": "2022-04-10T10:33:24.130Z"
   },
   {
    "duration": 44,
    "start_time": "2022-04-10T10:33:24.153Z"
   },
   {
    "duration": 15,
    "start_time": "2022-04-10T10:33:24.199Z"
   },
   {
    "duration": 11,
    "start_time": "2022-04-10T10:33:24.216Z"
   },
   {
    "duration": 56,
    "start_time": "2022-04-10T10:33:24.229Z"
   },
   {
    "duration": 16,
    "start_time": "2022-04-10T10:33:24.287Z"
   },
   {
    "duration": 541,
    "start_time": "2022-04-10T10:33:24.304Z"
   },
   {
    "duration": 17,
    "start_time": "2022-04-10T10:33:24.847Z"
   },
   {
    "duration": 21,
    "start_time": "2022-04-10T10:33:24.866Z"
   },
   {
    "duration": 495,
    "start_time": "2022-04-10T10:33:24.890Z"
   },
   {
    "duration": 351,
    "start_time": "2022-04-10T10:33:25.387Z"
   },
   {
    "duration": 512,
    "start_time": "2022-04-10T10:33:25.741Z"
   },
   {
    "duration": 508,
    "start_time": "2022-04-10T10:33:26.256Z"
   },
   {
    "duration": 20,
    "start_time": "2022-04-10T10:33:26.766Z"
   },
   {
    "duration": 280,
    "start_time": "2022-04-10T10:33:26.788Z"
   },
   {
    "duration": 249,
    "start_time": "2022-04-10T10:33:27.073Z"
   },
   {
    "duration": 7,
    "start_time": "2022-04-10T10:33:27.324Z"
   },
   {
    "duration": 8,
    "start_time": "2022-04-10T10:33:27.333Z"
   },
   {
    "duration": 7,
    "start_time": "2022-04-10T10:33:27.344Z"
   },
   {
    "duration": 35,
    "start_time": "2022-04-10T10:33:27.353Z"
   },
   {
    "duration": 26,
    "start_time": "2022-04-10T10:33:27.390Z"
   },
   {
    "duration": 110,
    "start_time": "2022-04-10T10:33:27.418Z"
   },
   {
    "duration": 10,
    "start_time": "2022-04-10T10:33:27.530Z"
   },
   {
    "duration": 10,
    "start_time": "2022-04-10T10:33:27.542Z"
   },
   {
    "duration": 8,
    "start_time": "2022-04-10T10:38:18.161Z"
   },
   {
    "duration": 24,
    "start_time": "2022-04-10T10:49:44.866Z"
   },
   {
    "duration": 4,
    "start_time": "2022-04-10T10:49:45.582Z"
   },
   {
    "duration": 17,
    "start_time": "2022-04-10T10:49:45.865Z"
   },
   {
    "duration": 17,
    "start_time": "2022-04-10T10:49:46.163Z"
   },
   {
    "duration": 6,
    "start_time": "2022-04-10T10:54:57.803Z"
   },
   {
    "duration": 7,
    "start_time": "2022-04-10T10:58:48.045Z"
   },
   {
    "duration": 156,
    "start_time": "2022-04-10T10:59:27.623Z"
   },
   {
    "duration": 19,
    "start_time": "2022-04-10T10:59:33.383Z"
   },
   {
    "duration": 17,
    "start_time": "2022-04-10T11:10:10.985Z"
   },
   {
    "duration": 16,
    "start_time": "2022-04-10T11:10:19.118Z"
   },
   {
    "duration": 31,
    "start_time": "2022-04-10T11:10:28.983Z"
   },
   {
    "duration": 32,
    "start_time": "2022-04-10T11:10:46.072Z"
   },
   {
    "duration": 7,
    "start_time": "2022-04-10T11:12:32.552Z"
   },
   {
    "duration": 20,
    "start_time": "2022-04-10T11:14:09.190Z"
   },
   {
    "duration": 18,
    "start_time": "2022-04-10T11:14:29.016Z"
   },
   {
    "duration": 6,
    "start_time": "2022-04-10T11:15:38.683Z"
   },
   {
    "duration": 5,
    "start_time": "2022-04-10T11:25:36.633Z"
   },
   {
    "duration": 16,
    "start_time": "2022-04-10T11:26:25.015Z"
   },
   {
    "duration": 27,
    "start_time": "2022-04-10T11:26:33.082Z"
   },
   {
    "duration": 5,
    "start_time": "2022-04-10T11:27:05.358Z"
   },
   {
    "duration": 6,
    "start_time": "2022-04-10T11:27:05.697Z"
   },
   {
    "duration": 14,
    "start_time": "2022-04-10T11:27:06.075Z"
   },
   {
    "duration": 17,
    "start_time": "2022-04-10T11:27:09.491Z"
   },
   {
    "duration": 22,
    "start_time": "2022-04-10T11:28:44.462Z"
   },
   {
    "duration": 5,
    "start_time": "2022-04-10T11:28:56.505Z"
   },
   {
    "duration": 6,
    "start_time": "2022-04-10T11:28:56.724Z"
   },
   {
    "duration": 32,
    "start_time": "2022-04-10T11:28:56.969Z"
   },
   {
    "duration": 31,
    "start_time": "2022-04-10T11:28:57.488Z"
   },
   {
    "duration": 22,
    "start_time": "2022-04-10T11:29:18.557Z"
   },
   {
    "duration": 22,
    "start_time": "2022-04-10T11:29:22.453Z"
   },
   {
    "duration": 15,
    "start_time": "2022-04-10T11:29:37.427Z"
   },
   {
    "duration": 25,
    "start_time": "2022-04-10T11:29:53.916Z"
   },
   {
    "duration": 502,
    "start_time": "2022-04-10T11:29:54.307Z"
   },
   {
    "duration": 17,
    "start_time": "2022-04-10T11:29:54.812Z"
   },
   {
    "duration": 6,
    "start_time": "2022-04-10T11:29:59.920Z"
   },
   {
    "duration": 8,
    "start_time": "2022-04-10T11:30:00.145Z"
   },
   {
    "duration": 32,
    "start_time": "2022-04-10T11:30:00.354Z"
   },
   {
    "duration": 37,
    "start_time": "2022-04-10T11:30:00.766Z"
   },
   {
    "duration": 10,
    "start_time": "2022-04-10T11:30:06.449Z"
   },
   {
    "duration": 117,
    "start_time": "2022-04-10T11:42:03.448Z"
   },
   {
    "duration": 316,
    "start_time": "2022-04-10T11:42:08.616Z"
   },
   {
    "duration": 259,
    "start_time": "2022-04-10T11:42:27.100Z"
   },
   {
    "duration": 279,
    "start_time": "2022-04-10T11:42:38.433Z"
   },
   {
    "duration": 16,
    "start_time": "2022-04-10T11:48:04.022Z"
   },
   {
    "duration": 17,
    "start_time": "2022-04-10T11:49:11.638Z"
   },
   {
    "duration": 17,
    "start_time": "2022-04-10T11:49:40.317Z"
   },
   {
    "duration": 7,
    "start_time": "2022-04-10T11:51:19.498Z"
   },
   {
    "duration": 15,
    "start_time": "2022-04-10T11:51:23.948Z"
   },
   {
    "duration": 18,
    "start_time": "2022-04-10T11:51:30.228Z"
   },
   {
    "duration": 24,
    "start_time": "2022-04-10T11:51:55.975Z"
   },
   {
    "duration": 25,
    "start_time": "2022-04-10T11:52:08.637Z"
   },
   {
    "duration": 11,
    "start_time": "2022-04-10T11:53:16.350Z"
   },
   {
    "duration": 11,
    "start_time": "2022-04-10T11:53:20.869Z"
   },
   {
    "duration": 33,
    "start_time": "2022-04-10T11:53:28.180Z"
   },
   {
    "duration": 17,
    "start_time": "2022-04-10T11:54:01.334Z"
   },
   {
    "duration": 28,
    "start_time": "2022-04-10T11:54:18.102Z"
   },
   {
    "duration": 714,
    "start_time": "2022-04-10T11:54:25.363Z"
   },
   {
    "duration": 29,
    "start_time": "2022-04-10T11:54:26.080Z"
   },
   {
    "duration": 28,
    "start_time": "2022-04-10T11:54:26.260Z"
   },
   {
    "duration": 16,
    "start_time": "2022-04-10T11:54:26.460Z"
   },
   {
    "duration": 25,
    "start_time": "2022-04-10T11:54:26.621Z"
   },
   {
    "duration": 7,
    "start_time": "2022-04-10T11:54:26.801Z"
   },
   {
    "duration": 15,
    "start_time": "2022-04-10T12:01:22.822Z"
   },
   {
    "duration": 7,
    "start_time": "2022-04-10T12:01:23.322Z"
   },
   {
    "duration": 25,
    "start_time": "2022-04-10T12:01:23.415Z"
   },
   {
    "duration": 10,
    "start_time": "2022-04-10T12:01:23.485Z"
   },
   {
    "duration": 6,
    "start_time": "2022-04-10T12:01:23.570Z"
   },
   {
    "duration": 25,
    "start_time": "2022-04-10T12:01:23.653Z"
   },
   {
    "duration": 25,
    "start_time": "2022-04-10T12:01:23.736Z"
   },
   {
    "duration": 510,
    "start_time": "2022-04-10T12:01:23.819Z"
   },
   {
    "duration": 19,
    "start_time": "2022-04-10T12:01:24.332Z"
   },
   {
    "duration": 40,
    "start_time": "2022-04-10T12:01:24.354Z"
   },
   {
    "duration": 49,
    "start_time": "2022-04-10T12:01:24.397Z"
   },
   {
    "duration": 45,
    "start_time": "2022-04-10T12:01:24.448Z"
   },
   {
    "duration": 45,
    "start_time": "2022-04-10T12:01:24.496Z"
   },
   {
    "duration": 388,
    "start_time": "2022-04-10T12:01:24.545Z"
   },
   {
    "duration": 368,
    "start_time": "2022-04-10T12:01:24.935Z"
   },
   {
    "duration": 416,
    "start_time": "2022-04-10T12:01:25.307Z"
   },
   {
    "duration": 353,
    "start_time": "2022-04-10T12:01:25.725Z"
   },
   {
    "duration": 266,
    "start_time": "2022-04-10T12:01:26.080Z"
   },
   {
    "duration": 251,
    "start_time": "2022-04-10T12:01:26.350Z"
   },
   {
    "duration": 7,
    "start_time": "2022-04-10T12:01:26.604Z"
   },
   {
    "duration": 14,
    "start_time": "2022-04-10T12:01:26.615Z"
   },
   {
    "duration": 11,
    "start_time": "2022-04-10T12:01:26.631Z"
   },
   {
    "duration": 41,
    "start_time": "2022-04-10T12:01:26.644Z"
   },
   {
    "duration": 17,
    "start_time": "2022-04-10T12:01:26.689Z"
   },
   {
    "duration": 29,
    "start_time": "2022-04-10T12:01:26.709Z"
   },
   {
    "duration": 26,
    "start_time": "2022-04-10T12:01:26.740Z"
   },
   {
    "duration": 43,
    "start_time": "2022-04-10T12:06:58.513Z"
   },
   {
    "duration": 61,
    "start_time": "2022-04-10T12:07:33.202Z"
   },
   {
    "duration": 10,
    "start_time": "2022-04-10T12:07:33.881Z"
   },
   {
    "duration": 5,
    "start_time": "2022-04-10T12:07:34.074Z"
   },
   {
    "duration": 24,
    "start_time": "2022-04-10T12:07:34.260Z"
   },
   {
    "duration": 25,
    "start_time": "2022-04-10T12:07:34.438Z"
   },
   {
    "duration": 513,
    "start_time": "2022-04-10T12:07:34.601Z"
   },
   {
    "duration": 20,
    "start_time": "2022-04-10T12:07:35.117Z"
   },
   {
    "duration": 22,
    "start_time": "2022-04-10T12:07:35.139Z"
   },
   {
    "duration": 27,
    "start_time": "2022-04-10T12:07:35.190Z"
   },
   {
    "duration": 31,
    "start_time": "2022-04-10T12:07:35.373Z"
   },
   {
    "duration": 8,
    "start_time": "2022-04-10T12:07:35.558Z"
   },
   {
    "duration": 363,
    "start_time": "2022-04-10T12:07:35.930Z"
   },
   {
    "duration": 354,
    "start_time": "2022-04-10T12:07:36.296Z"
   },
   {
    "duration": 448,
    "start_time": "2022-04-10T12:07:36.653Z"
   },
   {
    "duration": 333,
    "start_time": "2022-04-10T12:07:51.719Z"
   },
   {
    "duration": 287,
    "start_time": "2022-04-10T12:07:52.421Z"
   },
   {
    "duration": 257,
    "start_time": "2022-04-10T12:07:52.971Z"
   },
   {
    "duration": 7,
    "start_time": "2022-04-10T12:07:53.676Z"
   },
   {
    "duration": 8,
    "start_time": "2022-04-10T12:08:24.467Z"
   },
   {
    "duration": 30,
    "start_time": "2022-04-10T12:08:25.132Z"
   },
   {
    "duration": 5,
    "start_time": "2022-04-10T12:08:25.215Z"
   },
   {
    "duration": 24,
    "start_time": "2022-04-10T12:08:25.301Z"
   },
   {
    "duration": 28,
    "start_time": "2022-04-10T12:08:25.384Z"
   },
   {
    "duration": 38,
    "start_time": "2022-04-10T12:08:25.465Z"
   },
   {
    "duration": 23,
    "start_time": "2022-04-10T12:08:25.552Z"
   },
   {
    "duration": 9,
    "start_time": "2022-04-10T12:08:25.719Z"
   },
   {
    "duration": 20,
    "start_time": "2022-04-10T12:08:25.808Z"
   },
   {
    "duration": 18,
    "start_time": "2022-04-10T12:08:25.890Z"
   },
   {
    "duration": 21,
    "start_time": "2022-04-10T12:08:25.967Z"
   },
   {
    "duration": 9,
    "start_time": "2022-04-10T12:08:26.048Z"
   },
   {
    "duration": 57,
    "start_time": "2022-04-10T12:08:26.133Z"
   },
   {
    "duration": 8,
    "start_time": "2022-04-10T12:08:26.245Z"
   },
   {
    "duration": 6,
    "start_time": "2022-04-10T12:08:26.301Z"
   },
   {
    "duration": 24,
    "start_time": "2022-04-10T12:08:26.384Z"
   },
   {
    "duration": 26,
    "start_time": "2022-04-10T12:08:26.470Z"
   },
   {
    "duration": 596,
    "start_time": "2022-04-10T12:08:26.555Z"
   },
   {
    "duration": 41,
    "start_time": "2022-04-10T12:08:27.155Z"
   },
   {
    "duration": 29,
    "start_time": "2022-04-10T12:08:27.198Z"
   },
   {
    "duration": 17,
    "start_time": "2022-04-10T12:08:27.231Z"
   },
   {
    "duration": 58,
    "start_time": "2022-04-10T12:08:27.251Z"
   },
   {
    "duration": 21,
    "start_time": "2022-04-10T12:08:27.311Z"
   },
   {
    "duration": 390,
    "start_time": "2022-04-10T12:08:27.334Z"
   },
   {
    "duration": 498,
    "start_time": "2022-04-10T12:08:27.726Z"
   },
   {
    "duration": 474,
    "start_time": "2022-04-10T12:08:28.229Z"
   },
   {
    "duration": 411,
    "start_time": "2022-04-10T12:08:28.706Z"
   },
   {
    "duration": 400,
    "start_time": "2022-04-10T12:08:29.120Z"
   },
   {
    "duration": 262,
    "start_time": "2022-04-10T12:08:29.523Z"
   },
   {
    "duration": 14,
    "start_time": "2022-04-10T12:08:29.790Z"
   },
   {
    "duration": 18,
    "start_time": "2022-04-10T12:08:29.808Z"
   },
   {
    "duration": 8,
    "start_time": "2022-04-10T12:08:29.828Z"
   },
   {
    "duration": 16,
    "start_time": "2022-04-10T12:08:29.839Z"
   },
   {
    "duration": 30,
    "start_time": "2022-04-10T12:08:29.859Z"
   },
   {
    "duration": 21,
    "start_time": "2022-04-10T12:08:29.892Z"
   },
   {
    "duration": 10,
    "start_time": "2022-04-10T12:08:30.014Z"
   },
   {
    "duration": 8,
    "start_time": "2022-04-10T12:09:09.620Z"
   },
   {
    "duration": 7,
    "start_time": "2022-04-10T12:09:49.266Z"
   },
   {
    "duration": 5,
    "start_time": "2022-04-10T12:09:57.019Z"
   },
   {
    "duration": 6,
    "start_time": "2022-04-10T12:10:00.531Z"
   },
   {
    "duration": 7,
    "start_time": "2022-04-10T12:10:03.494Z"
   },
   {
    "duration": 6,
    "start_time": "2022-04-10T12:10:06.601Z"
   },
   {
    "duration": 7,
    "start_time": "2022-04-10T12:10:11.652Z"
   },
   {
    "duration": 7,
    "start_time": "2022-04-10T12:10:15.058Z"
   },
   {
    "duration": 19,
    "start_time": "2022-04-10T12:24:48.997Z"
   },
   {
    "duration": 7,
    "start_time": "2022-04-10T12:25:41.747Z"
   },
   {
    "duration": 20,
    "start_time": "2022-04-10T12:25:42.414Z"
   },
   {
    "duration": 4,
    "start_time": "2022-04-10T12:25:42.499Z"
   },
   {
    "duration": 19,
    "start_time": "2022-04-10T12:25:42.588Z"
   },
   {
    "duration": 23,
    "start_time": "2022-04-10T12:25:42.665Z"
   },
   {
    "duration": 31,
    "start_time": "2022-04-10T12:25:42.747Z"
   },
   {
    "duration": 18,
    "start_time": "2022-04-10T12:25:42.835Z"
   },
   {
    "duration": 9,
    "start_time": "2022-04-10T12:25:43.005Z"
   },
   {
    "duration": 23,
    "start_time": "2022-04-10T12:25:43.083Z"
   },
   {
    "duration": 20,
    "start_time": "2022-04-10T12:25:43.167Z"
   },
   {
    "duration": 15,
    "start_time": "2022-04-10T12:25:43.256Z"
   },
   {
    "duration": 8,
    "start_time": "2022-04-10T12:25:43.337Z"
   },
   {
    "duration": 42,
    "start_time": "2022-04-10T12:25:43.420Z"
   },
   {
    "duration": 6,
    "start_time": "2022-04-10T12:25:43.502Z"
   },
   {
    "duration": 9,
    "start_time": "2022-04-10T12:25:43.584Z"
   },
   {
    "duration": 28,
    "start_time": "2022-04-10T12:25:43.671Z"
   },
   {
    "duration": 27,
    "start_time": "2022-04-10T12:25:43.765Z"
   },
   {
    "duration": 761,
    "start_time": "2022-04-10T12:25:43.837Z"
   },
   {
    "duration": 19,
    "start_time": "2022-04-10T12:25:44.601Z"
   },
   {
    "duration": 20,
    "start_time": "2022-04-10T12:25:44.622Z"
   },
   {
    "duration": 50,
    "start_time": "2022-04-10T12:25:44.645Z"
   },
   {
    "duration": 26,
    "start_time": "2022-04-10T12:25:44.701Z"
   },
   {
    "duration": 8,
    "start_time": "2022-04-10T12:25:44.729Z"
   },
   {
    "duration": 383,
    "start_time": "2022-04-10T12:25:44.740Z"
   },
   {
    "duration": 353,
    "start_time": "2022-04-10T12:25:45.125Z"
   },
   {
    "duration": 527,
    "start_time": "2022-04-10T12:25:45.485Z"
   },
   {
    "duration": 367,
    "start_time": "2022-04-10T12:25:46.017Z"
   },
   {
    "duration": 275,
    "start_time": "2022-04-10T12:25:46.386Z"
   },
   {
    "duration": 253,
    "start_time": "2022-04-10T12:25:46.663Z"
   },
   {
    "duration": 7,
    "start_time": "2022-04-10T12:25:46.918Z"
   },
   {
    "duration": 10,
    "start_time": "2022-04-10T12:25:46.928Z"
   },
   {
    "duration": 7,
    "start_time": "2022-04-10T12:25:46.940Z"
   },
   {
    "duration": 45,
    "start_time": "2022-04-10T12:25:46.949Z"
   },
   {
    "duration": 178,
    "start_time": "2022-04-10T12:25:46.997Z"
   },
   {
    "duration": 14,
    "start_time": "2022-04-10T12:25:47.187Z"
   },
   {
    "duration": 23,
    "start_time": "2022-04-10T12:25:47.204Z"
   },
   {
    "duration": 14,
    "start_time": "2022-04-10T12:25:47.229Z"
   },
   {
    "duration": 17,
    "start_time": "2022-04-10T12:25:47.246Z"
   },
   {
    "duration": 7,
    "start_time": "2022-04-10T12:40:09.368Z"
   },
   {
    "duration": 8,
    "start_time": "2022-04-10T13:28:39.854Z"
   },
   {
    "duration": 62,
    "start_time": "2022-04-10T13:30:51.674Z"
   },
   {
    "duration": 7,
    "start_time": "2022-04-10T13:30:58.961Z"
   },
   {
    "duration": 9,
    "start_time": "2022-04-10T13:30:59.169Z"
   },
   {
    "duration": 37,
    "start_time": "2022-04-10T13:30:59.349Z"
   },
   {
    "duration": 26,
    "start_time": "2022-04-10T13:30:59.513Z"
   },
   {
    "duration": 511,
    "start_time": "2022-04-10T13:30:59.688Z"
   },
   {
    "duration": 20,
    "start_time": "2022-04-10T13:31:00.202Z"
   },
   {
    "duration": 24,
    "start_time": "2022-04-10T13:31:00.224Z"
   },
   {
    "duration": 47,
    "start_time": "2022-04-10T13:31:00.250Z"
   },
   {
    "duration": 26,
    "start_time": "2022-04-10T13:31:00.415Z"
   },
   {
    "duration": 7,
    "start_time": "2022-04-10T13:31:00.603Z"
   },
   {
    "duration": 46,
    "start_time": "2022-04-10T13:31:54.235Z"
   },
   {
    "duration": 8,
    "start_time": "2022-04-10T13:31:55.105Z"
   },
   {
    "duration": 6,
    "start_time": "2022-04-10T13:31:55.662Z"
   },
   {
    "duration": 21,
    "start_time": "2022-04-10T13:31:56.145Z"
   },
   {
    "duration": 23,
    "start_time": "2022-04-10T13:31:56.972Z"
   },
   {
    "duration": 757,
    "start_time": "2022-04-10T13:32:05.281Z"
   },
   {
    "duration": 45,
    "start_time": "2022-04-10T13:32:06.041Z"
   },
   {
    "duration": 19,
    "start_time": "2022-04-10T13:32:06.089Z"
   },
   {
    "duration": 27,
    "start_time": "2022-04-10T13:32:09.878Z"
   },
   {
    "duration": 28,
    "start_time": "2022-04-10T13:32:09.908Z"
   },
   {
    "duration": 12,
    "start_time": "2022-04-10T13:32:09.939Z"
   },
   {
    "duration": 339,
    "start_time": "2022-04-10T13:32:10.113Z"
   },
   {
    "duration": 340,
    "start_time": "2022-04-10T13:32:10.455Z"
   },
   {
    "duration": 394,
    "start_time": "2022-04-10T13:32:10.799Z"
   },
   {
    "duration": 356,
    "start_time": "2022-04-10T13:32:11.196Z"
   },
   {
    "duration": 254,
    "start_time": "2022-04-10T13:32:11.556Z"
   },
   {
    "duration": 243,
    "start_time": "2022-04-10T13:32:11.814Z"
   },
   {
    "duration": 4,
    "start_time": "2022-04-10T13:32:12.060Z"
   },
   {
    "duration": 7,
    "start_time": "2022-04-10T13:37:49.148Z"
   },
   {
    "duration": 7,
    "start_time": "2022-04-10T13:38:25.716Z"
   },
   {
    "duration": 32,
    "start_time": "2022-04-10T13:39:05.081Z"
   },
   {
    "duration": 14,
    "start_time": "2022-04-10T13:43:46.308Z"
   },
   {
    "duration": 296,
    "start_time": "2022-04-10T13:45:49.544Z"
   },
   {
    "duration": 283,
    "start_time": "2022-04-10T13:46:05.497Z"
   },
   {
    "duration": 252,
    "start_time": "2022-04-10T13:47:54.534Z"
   },
   {
    "duration": 6,
    "start_time": "2022-04-10T13:51:42.532Z"
   },
   {
    "duration": 7,
    "start_time": "2022-04-10T13:52:00.331Z"
   },
   {
    "duration": 6,
    "start_time": "2022-04-10T13:52:50.038Z"
   },
   {
    "duration": 16,
    "start_time": "2022-04-10T13:53:01.430Z"
   },
   {
    "duration": 18,
    "start_time": "2022-04-10T13:53:46.134Z"
   },
   {
    "duration": 35,
    "start_time": "2022-04-10T13:55:54.162Z"
   },
   {
    "duration": 35,
    "start_time": "2022-04-10T13:57:28.647Z"
   },
   {
    "duration": 37,
    "start_time": "2022-04-10T13:57:47.089Z"
   },
   {
    "duration": 24,
    "start_time": "2022-04-10T13:59:14.754Z"
   },
   {
    "duration": 19,
    "start_time": "2022-04-10T14:00:01.348Z"
   },
   {
    "duration": 7,
    "start_time": "2022-04-10T14:00:57.878Z"
   },
   {
    "duration": 7,
    "start_time": "2022-04-10T14:01:00.838Z"
   },
   {
    "duration": 7,
    "start_time": "2022-04-10T14:01:24.539Z"
   },
   {
    "duration": 7,
    "start_time": "2022-04-10T14:01:26.511Z"
   },
   {
    "duration": 7,
    "start_time": "2022-04-10T14:02:21.969Z"
   },
   {
    "duration": 19,
    "start_time": "2022-04-10T14:02:22.644Z"
   },
   {
    "duration": 4,
    "start_time": "2022-04-10T14:02:22.721Z"
   },
   {
    "duration": 17,
    "start_time": "2022-04-10T14:02:22.803Z"
   },
   {
    "duration": 19,
    "start_time": "2022-04-10T14:02:22.884Z"
   },
   {
    "duration": 30,
    "start_time": "2022-04-10T14:02:22.968Z"
   },
   {
    "duration": 19,
    "start_time": "2022-04-10T14:02:23.052Z"
   },
   {
    "duration": 8,
    "start_time": "2022-04-10T14:02:23.223Z"
   },
   {
    "duration": 20,
    "start_time": "2022-04-10T14:02:23.304Z"
   },
   {
    "duration": 16,
    "start_time": "2022-04-10T14:02:23.385Z"
   },
   {
    "duration": 15,
    "start_time": "2022-04-10T14:02:23.472Z"
   },
   {
    "duration": 8,
    "start_time": "2022-04-10T14:02:23.552Z"
   },
   {
    "duration": 51,
    "start_time": "2022-04-10T14:02:23.636Z"
   },
   {
    "duration": 7,
    "start_time": "2022-04-10T14:02:23.720Z"
   },
   {
    "duration": 6,
    "start_time": "2022-04-10T14:02:23.806Z"
   },
   {
    "duration": 25,
    "start_time": "2022-04-10T14:02:23.889Z"
   },
   {
    "duration": 23,
    "start_time": "2022-04-10T14:02:23.972Z"
   },
   {
    "duration": 553,
    "start_time": "2022-04-10T14:02:24.056Z"
   },
   {
    "duration": 19,
    "start_time": "2022-04-10T14:02:24.612Z"
   },
   {
    "duration": 18,
    "start_time": "2022-04-10T14:02:24.633Z"
   },
   {
    "duration": 45,
    "start_time": "2022-04-10T14:02:24.654Z"
   },
   {
    "duration": 40,
    "start_time": "2022-04-10T14:02:24.701Z"
   },
   {
    "duration": 14,
    "start_time": "2022-04-10T14:02:24.743Z"
   },
   {
    "duration": 399,
    "start_time": "2022-04-10T14:02:24.759Z"
   },
   {
    "duration": 352,
    "start_time": "2022-04-10T14:02:25.161Z"
   },
   {
    "duration": 431,
    "start_time": "2022-04-10T14:02:25.516Z"
   },
   {
    "duration": 353,
    "start_time": "2022-04-10T14:02:25.950Z"
   },
   {
    "duration": 284,
    "start_time": "2022-04-10T14:02:26.306Z"
   },
   {
    "duration": 250,
    "start_time": "2022-04-10T14:02:26.592Z"
   },
   {
    "duration": 4,
    "start_time": "2022-04-10T14:02:26.845Z"
   },
   {
    "duration": 32,
    "start_time": "2022-04-10T14:02:26.851Z"
   },
   {
    "duration": 16,
    "start_time": "2022-04-10T14:02:26.885Z"
   },
   {
    "duration": 314,
    "start_time": "2022-04-10T14:02:26.903Z"
   },
   {
    "duration": 6,
    "start_time": "2022-04-10T14:02:27.220Z"
   },
   {
    "duration": 18,
    "start_time": "2022-04-10T14:02:27.228Z"
   },
   {
    "duration": 64,
    "start_time": "2022-04-10T14:02:27.248Z"
   },
   {
    "duration": 37,
    "start_time": "2022-04-10T14:02:27.315Z"
   },
   {
    "duration": 47,
    "start_time": "2022-04-10T14:02:27.354Z"
   },
   {
    "duration": 19,
    "start_time": "2022-04-10T14:02:27.403Z"
   },
   {
    "duration": 9,
    "start_time": "2022-04-10T14:02:27.424Z"
   },
   {
    "duration": 10,
    "start_time": "2022-04-10T14:02:27.435Z"
   },
   {
    "duration": 39,
    "start_time": "2022-04-10T14:02:27.447Z"
   },
   {
    "duration": 9,
    "start_time": "2022-04-10T14:02:27.488Z"
   },
   {
    "duration": 7,
    "start_time": "2022-04-10T14:02:27.501Z"
   },
   {
    "duration": 14,
    "start_time": "2022-04-10T14:02:27.510Z"
   },
   {
    "duration": 1708,
    "start_time": "2022-04-10T14:02:27.526Z"
   },
   {
    "duration": 0,
    "start_time": "2022-04-10T14:02:29.237Z"
   },
   {
    "duration": 0,
    "start_time": "2022-04-10T14:02:29.239Z"
   },
   {
    "duration": 0,
    "start_time": "2022-04-10T14:02:29.241Z"
   },
   {
    "duration": 7,
    "start_time": "2022-04-10T14:03:08.123Z"
   },
   {
    "duration": 19,
    "start_time": "2022-04-10T14:03:08.847Z"
   },
   {
    "duration": 8,
    "start_time": "2022-04-10T14:03:12.388Z"
   },
   {
    "duration": 8,
    "start_time": "2022-04-10T14:04:23.426Z"
   },
   {
    "duration": 22,
    "start_time": "2022-04-10T14:04:35.099Z"
   },
   {
    "duration": 8,
    "start_time": "2022-04-10T14:05:05.678Z"
   },
   {
    "duration": 18,
    "start_time": "2022-04-10T14:05:31.773Z"
   },
   {
    "duration": 21,
    "start_time": "2022-04-10T14:06:02.374Z"
   },
   {
    "duration": 7,
    "start_time": "2022-04-10T14:06:39.025Z"
   },
   {
    "duration": 3,
    "start_time": "2022-04-10T14:06:39.665Z"
   },
   {
    "duration": 6,
    "start_time": "2022-04-10T14:06:40.616Z"
   },
   {
    "duration": 20,
    "start_time": "2022-04-10T14:06:41.801Z"
   },
   {
    "duration": 8,
    "start_time": "2022-04-10T14:06:42.878Z"
   },
   {
    "duration": 18,
    "start_time": "2022-04-10T14:06:44.270Z"
   },
   {
    "duration": 21,
    "start_time": "2022-04-10T14:06:45.027Z"
   },
   {
    "duration": 8,
    "start_time": "2022-04-10T14:07:47.754Z"
   },
   {
    "duration": 3,
    "start_time": "2022-04-10T14:07:48.080Z"
   },
   {
    "duration": 8,
    "start_time": "2022-04-10T14:07:48.743Z"
   },
   {
    "duration": 27,
    "start_time": "2022-04-10T14:07:48.943Z"
   },
   {
    "duration": 8,
    "start_time": "2022-04-10T14:07:49.180Z"
   },
   {
    "duration": 24,
    "start_time": "2022-04-10T14:07:49.633Z"
   },
   {
    "duration": 19,
    "start_time": "2022-04-10T14:07:49.833Z"
   },
   {
    "duration": 7,
    "start_time": "2022-04-10T14:08:10.492Z"
   },
   {
    "duration": 20,
    "start_time": "2022-04-10T14:08:11.155Z"
   },
   {
    "duration": 5,
    "start_time": "2022-04-10T14:08:11.240Z"
   },
   {
    "duration": 18,
    "start_time": "2022-04-10T14:08:11.324Z"
   },
   {
    "duration": 17,
    "start_time": "2022-04-10T14:08:11.406Z"
   },
   {
    "duration": 31,
    "start_time": "2022-04-10T14:08:11.494Z"
   },
   {
    "duration": 18,
    "start_time": "2022-04-10T14:08:11.577Z"
   },
   {
    "duration": 9,
    "start_time": "2022-04-10T14:08:11.743Z"
   },
   {
    "duration": 19,
    "start_time": "2022-04-10T14:08:11.827Z"
   },
   {
    "duration": 16,
    "start_time": "2022-04-10T14:08:11.912Z"
   },
   {
    "duration": 15,
    "start_time": "2022-04-10T14:08:11.993Z"
   },
   {
    "duration": 7,
    "start_time": "2022-04-10T14:08:12.075Z"
   },
   {
    "duration": 46,
    "start_time": "2022-04-10T14:08:12.161Z"
   },
   {
    "duration": 6,
    "start_time": "2022-04-10T14:08:12.242Z"
   },
   {
    "duration": 7,
    "start_time": "2022-04-10T14:08:12.326Z"
   },
   {
    "duration": 24,
    "start_time": "2022-04-10T14:08:12.415Z"
   },
   {
    "duration": 23,
    "start_time": "2022-04-10T14:08:12.497Z"
   },
   {
    "duration": 509,
    "start_time": "2022-04-10T14:08:12.577Z"
   },
   {
    "duration": 21,
    "start_time": "2022-04-10T14:08:13.089Z"
   },
   {
    "duration": 20,
    "start_time": "2022-04-10T14:08:13.112Z"
   },
   {
    "duration": 54,
    "start_time": "2022-04-10T14:08:13.136Z"
   },
   {
    "duration": 41,
    "start_time": "2022-04-10T14:08:13.193Z"
   },
   {
    "duration": 10,
    "start_time": "2022-04-10T14:08:13.237Z"
   },
   {
    "duration": 575,
    "start_time": "2022-04-10T14:08:13.251Z"
   },
   {
    "duration": 345,
    "start_time": "2022-04-10T14:08:13.828Z"
   },
   {
    "duration": 417,
    "start_time": "2022-04-10T14:08:14.183Z"
   },
   {
    "duration": 356,
    "start_time": "2022-04-10T14:08:14.603Z"
   },
   {
    "duration": 271,
    "start_time": "2022-04-10T14:08:14.961Z"
   },
   {
    "duration": 253,
    "start_time": "2022-04-10T14:08:15.234Z"
   },
   {
    "duration": 3,
    "start_time": "2022-04-10T14:08:15.489Z"
   },
   {
    "duration": 15,
    "start_time": "2022-04-10T14:08:15.496Z"
   },
   {
    "duration": 17,
    "start_time": "2022-04-10T14:08:15.513Z"
   },
   {
    "duration": 328,
    "start_time": "2022-04-10T14:08:15.533Z"
   },
   {
    "duration": 6,
    "start_time": "2022-04-10T14:08:15.864Z"
   },
   {
    "duration": 17,
    "start_time": "2022-04-10T14:08:15.884Z"
   },
   {
    "duration": 39,
    "start_time": "2022-04-10T14:08:15.903Z"
   },
   {
    "duration": 61,
    "start_time": "2022-04-10T14:08:15.945Z"
   },
   {
    "duration": 26,
    "start_time": "2022-04-10T14:08:16.009Z"
   },
   {
    "duration": 20,
    "start_time": "2022-04-10T14:08:16.037Z"
   },
   {
    "duration": 6,
    "start_time": "2022-04-10T14:08:16.084Z"
   },
   {
    "duration": 9,
    "start_time": "2022-04-10T14:08:16.092Z"
   },
   {
    "duration": 8,
    "start_time": "2022-04-10T14:08:16.103Z"
   },
   {
    "duration": 14,
    "start_time": "2022-04-10T14:08:16.113Z"
   },
   {
    "duration": 8,
    "start_time": "2022-04-10T14:08:16.129Z"
   },
   {
    "duration": 9,
    "start_time": "2022-04-10T14:08:16.139Z"
   },
   {
    "duration": 7,
    "start_time": "2022-04-10T14:08:16.185Z"
   },
   {
    "duration": 24,
    "start_time": "2022-04-10T14:08:16.194Z"
   },
   {
    "duration": 14,
    "start_time": "2022-04-10T14:08:16.220Z"
   },
   {
    "duration": 22,
    "start_time": "2022-04-10T14:08:16.236Z"
   },
   {
    "duration": 21,
    "start_time": "2022-04-10T14:08:16.286Z"
   },
   {
    "duration": 18,
    "start_time": "2022-04-10T14:08:28.876Z"
   },
   {
    "duration": 19,
    "start_time": "2022-04-10T14:08:37.898Z"
   },
   {
    "duration": 7,
    "start_time": "2022-04-10T14:09:03.809Z"
   },
   {
    "duration": 3,
    "start_time": "2022-04-10T14:09:04.346Z"
   },
   {
    "duration": 6,
    "start_time": "2022-04-10T14:09:05.614Z"
   },
   {
    "duration": 20,
    "start_time": "2022-04-10T14:09:06.269Z"
   },
   {
    "duration": 8,
    "start_time": "2022-04-10T14:09:06.829Z"
   },
   {
    "duration": 17,
    "start_time": "2022-04-10T14:09:07.677Z"
   },
   {
    "duration": 8,
    "start_time": "2022-04-10T14:09:08.387Z"
   },
   {
    "duration": 6,
    "start_time": "2022-04-10T14:09:32.922Z"
   },
   {
    "duration": 6,
    "start_time": "2022-04-10T14:09:37.346Z"
   },
   {
    "duration": 6,
    "start_time": "2022-04-10T14:09:42.983Z"
   },
   {
    "duration": 2039,
    "start_time": "2022-04-10T14:12:01.252Z"
   },
   {
    "duration": 16,
    "start_time": "2022-04-10T14:12:29.833Z"
   },
   {
    "duration": 6,
    "start_time": "2022-04-10T14:12:56.942Z"
   },
   {
    "duration": 8,
    "start_time": "2022-04-10T14:12:57.478Z"
   },
   {
    "duration": 6,
    "start_time": "2022-04-10T14:14:11.675Z"
   },
   {
    "duration": 11,
    "start_time": "2022-04-10T14:15:51.767Z"
   },
   {
    "duration": 263,
    "start_time": "2022-04-10T14:16:42.861Z"
   },
   {
    "duration": 3,
    "start_time": "2022-04-10T14:20:52.738Z"
   },
   {
    "duration": 3,
    "start_time": "2022-04-10T14:20:59.738Z"
   },
   {
    "duration": 19,
    "start_time": "2022-04-10T14:21:06.405Z"
   },
   {
    "duration": 21,
    "start_time": "2022-04-10T14:21:19.736Z"
   },
   {
    "duration": 66,
    "start_time": "2022-04-10T14:21:47.157Z"
   },
   {
    "duration": 6,
    "start_time": "2022-04-10T14:22:14.973Z"
   },
   {
    "duration": 15,
    "start_time": "2022-04-10T14:22:22.693Z"
   },
   {
    "duration": 18,
    "start_time": "2022-04-10T14:22:51.735Z"
   },
   {
    "duration": 491,
    "start_time": "2022-04-10T14:23:04.643Z"
   },
   {
    "duration": 49,
    "start_time": "2022-04-10T14:24:54.699Z"
   },
   {
    "duration": 20,
    "start_time": "2022-04-10T14:25:19.119Z"
   },
   {
    "duration": 34,
    "start_time": "2022-04-10T14:27:53.963Z"
   },
   {
    "duration": 239,
    "start_time": "2022-04-10T14:30:28.125Z"
   },
   {
    "duration": 234,
    "start_time": "2022-04-10T14:31:23.804Z"
   },
   {
    "duration": 222,
    "start_time": "2022-04-10T14:31:35.834Z"
   },
   {
    "duration": 247,
    "start_time": "2022-04-10T14:31:42.797Z"
   },
   {
    "duration": 2054,
    "start_time": "2022-04-12T09:30:08.859Z"
   },
   {
    "duration": 1432,
    "start_time": "2022-04-12T09:31:53.145Z"
   },
   {
    "duration": 156,
    "start_time": "2022-04-12T09:42:40.931Z"
   },
   {
    "duration": 46,
    "start_time": "2022-04-12T09:42:45.461Z"
   },
   {
    "duration": 17,
    "start_time": "2022-04-12T09:42:46.345Z"
   },
   {
    "duration": 10,
    "start_time": "2022-04-12T09:43:00.333Z"
   },
   {
    "duration": 33,
    "start_time": "2022-04-12T09:43:02.640Z"
   },
   {
    "duration": 15,
    "start_time": "2022-04-12T09:43:02.997Z"
   },
   {
    "duration": 10,
    "start_time": "2022-04-12T09:43:08.393Z"
   },
   {
    "duration": 17,
    "start_time": "2022-04-12T09:46:09.091Z"
   },
   {
    "duration": 15,
    "start_time": "2022-04-12T09:46:12.045Z"
   },
   {
    "duration": 17,
    "start_time": "2022-04-12T09:46:12.428Z"
   },
   {
    "duration": 24,
    "start_time": "2022-04-12T09:46:15.580Z"
   },
   {
    "duration": 16,
    "start_time": "2022-04-12T09:46:16.397Z"
   },
   {
    "duration": 21,
    "start_time": "2022-04-12T09:46:16.868Z"
   },
   {
    "duration": 67,
    "start_time": "2022-04-12T09:46:17.466Z"
   },
   {
    "duration": 14,
    "start_time": "2022-04-12T09:47:53.086Z"
   },
   {
    "duration": 6,
    "start_time": "2022-04-12T09:47:55.836Z"
   },
   {
    "duration": 7,
    "start_time": "2022-04-12T09:47:56.358Z"
   },
   {
    "duration": 36,
    "start_time": "2022-04-12T09:47:56.732Z"
   },
   {
    "duration": 24,
    "start_time": "2022-04-12T09:47:57.785Z"
   },
   {
    "duration": 65,
    "start_time": "2022-04-12T09:48:24.357Z"
   },
   {
    "duration": 6,
    "start_time": "2022-04-12T09:48:25.312Z"
   },
   {
    "duration": 6,
    "start_time": "2022-04-12T09:48:25.606Z"
   },
   {
    "duration": 24,
    "start_time": "2022-04-12T09:48:25.825Z"
   },
   {
    "duration": 23,
    "start_time": "2022-04-12T09:48:27.606Z"
   },
   {
    "duration": 11,
    "start_time": "2022-04-12T09:52:06.252Z"
   },
   {
    "duration": 455,
    "start_time": "2022-04-12T09:52:08.938Z"
   },
   {
    "duration": 17,
    "start_time": "2022-04-12T09:52:09.555Z"
   },
   {
    "duration": 28,
    "start_time": "2022-04-12T09:52:15.258Z"
   },
   {
    "duration": 32,
    "start_time": "2022-04-12T09:55:43.561Z"
   },
   {
    "duration": 7,
    "start_time": "2022-04-12T09:55:51.643Z"
   },
   {
    "duration": 19,
    "start_time": "2022-04-12T09:55:52.173Z"
   },
   {
    "duration": 4,
    "start_time": "2022-04-12T09:55:52.358Z"
   },
   {
    "duration": 15,
    "start_time": "2022-04-12T09:55:52.516Z"
   },
   {
    "duration": 15,
    "start_time": "2022-04-12T09:55:52.692Z"
   },
   {
    "duration": 29,
    "start_time": "2022-04-12T09:55:53.360Z"
   },
   {
    "duration": 15,
    "start_time": "2022-04-12T09:55:53.974Z"
   },
   {
    "duration": 18,
    "start_time": "2022-04-12T09:55:54.342Z"
   },
   {
    "duration": 15,
    "start_time": "2022-04-12T09:55:54.662Z"
   },
   {
    "duration": 9,
    "start_time": "2022-04-12T09:55:55.395Z"
   },
   {
    "duration": 18,
    "start_time": "2022-04-12T09:55:55.785Z"
   },
   {
    "duration": 16,
    "start_time": "2022-04-12T09:55:56.009Z"
   },
   {
    "duration": 15,
    "start_time": "2022-04-12T09:55:56.247Z"
   },
   {
    "duration": 62,
    "start_time": "2022-04-12T09:55:56.680Z"
   },
   {
    "duration": 7,
    "start_time": "2022-04-12T09:55:57.725Z"
   },
   {
    "duration": 6,
    "start_time": "2022-04-12T09:55:59.091Z"
   },
   {
    "duration": 25,
    "start_time": "2022-04-12T09:55:59.736Z"
   },
   {
    "duration": 24,
    "start_time": "2022-04-12T09:56:02.469Z"
   },
   {
    "duration": 479,
    "start_time": "2022-04-12T09:56:04.305Z"
   },
   {
    "duration": 16,
    "start_time": "2022-04-12T09:56:13.607Z"
   },
   {
    "duration": 26,
    "start_time": "2022-04-12T09:56:15.961Z"
   },
   {
    "duration": 7,
    "start_time": "2022-04-12T09:57:32.227Z"
   },
   {
    "duration": 24,
    "start_time": "2022-04-12T09:57:32.237Z"
   },
   {
    "duration": 12,
    "start_time": "2022-04-12T09:57:32.263Z"
   },
   {
    "duration": 20,
    "start_time": "2022-04-12T09:57:32.278Z"
   },
   {
    "duration": 18,
    "start_time": "2022-04-12T09:57:32.301Z"
   },
   {
    "duration": 30,
    "start_time": "2022-04-12T09:57:34.913Z"
   },
   {
    "duration": 15,
    "start_time": "2022-04-12T09:57:34.945Z"
   },
   {
    "duration": 18,
    "start_time": "2022-04-12T09:57:36.815Z"
   },
   {
    "duration": 15,
    "start_time": "2022-04-12T09:57:36.836Z"
   },
   {
    "duration": 20,
    "start_time": "2022-04-12T09:57:36.853Z"
   },
   {
    "duration": 19,
    "start_time": "2022-04-12T09:57:36.987Z"
   },
   {
    "duration": 15,
    "start_time": "2022-04-12T09:57:37.154Z"
   },
   {
    "duration": 16,
    "start_time": "2022-04-12T09:57:37.322Z"
   },
   {
    "duration": 64,
    "start_time": "2022-04-12T09:57:37.486Z"
   },
   {
    "duration": 6,
    "start_time": "2022-04-12T09:57:37.656Z"
   },
   {
    "duration": 6,
    "start_time": "2022-04-12T09:57:37.802Z"
   },
   {
    "duration": 24,
    "start_time": "2022-04-12T09:57:37.963Z"
   },
   {
    "duration": 24,
    "start_time": "2022-04-12T09:57:38.137Z"
   },
   {
    "duration": 483,
    "start_time": "2022-04-12T09:57:38.561Z"
   },
   {
    "duration": 24,
    "start_time": "2022-04-12T09:57:39.046Z"
   },
   {
    "duration": 26,
    "start_time": "2022-04-12T09:57:39.963Z"
   },
   {
    "duration": 7,
    "start_time": "2022-04-12T09:57:40.655Z"
   },
   {
    "duration": 501,
    "start_time": "2022-04-12T09:57:42.969Z"
   },
   {
    "duration": 325,
    "start_time": "2022-04-12T09:57:43.748Z"
   },
   {
    "duration": 424,
    "start_time": "2022-04-12T09:57:44.871Z"
   },
   {
    "duration": 341,
    "start_time": "2022-04-12T09:57:47.408Z"
   },
   {
    "duration": 257,
    "start_time": "2022-04-12T09:57:48.697Z"
   },
   {
    "duration": 7,
    "start_time": "2022-04-12T09:58:14.021Z"
   },
   {
    "duration": 19,
    "start_time": "2022-04-12T09:58:14.684Z"
   },
   {
    "duration": 5,
    "start_time": "2022-04-12T09:58:14.763Z"
   },
   {
    "duration": 17,
    "start_time": "2022-04-12T09:58:14.852Z"
   },
   {
    "duration": 15,
    "start_time": "2022-04-12T09:58:14.933Z"
   },
   {
    "duration": 29,
    "start_time": "2022-04-12T09:58:15.267Z"
   },
   {
    "duration": 16,
    "start_time": "2022-04-12T09:58:15.779Z"
   },
   {
    "duration": 18,
    "start_time": "2022-04-12T09:58:15.977Z"
   },
   {
    "duration": 15,
    "start_time": "2022-04-12T09:58:16.155Z"
   },
   {
    "duration": 9,
    "start_time": "2022-04-12T09:58:16.327Z"
   },
   {
    "duration": 19,
    "start_time": "2022-04-12T09:58:16.497Z"
   },
   {
    "duration": 15,
    "start_time": "2022-04-12T09:58:16.682Z"
   },
   {
    "duration": 14,
    "start_time": "2022-04-12T09:58:16.867Z"
   },
   {
    "duration": 132,
    "start_time": "2022-04-12T09:58:17.279Z"
   },
   {
    "duration": 6,
    "start_time": "2022-04-12T09:58:18.348Z"
   },
   {
    "duration": 6,
    "start_time": "2022-04-12T09:58:18.946Z"
   },
   {
    "duration": 24,
    "start_time": "2022-04-12T09:58:19.269Z"
   },
   {
    "duration": 24,
    "start_time": "2022-04-12T09:58:19.696Z"
   },
   {
    "duration": 2366,
    "start_time": "2022-04-12T09:58:21.497Z"
   },
   {
    "duration": 0,
    "start_time": "2022-04-12T09:58:23.865Z"
   },
   {
    "duration": 455,
    "start_time": "2022-04-12T09:58:58.389Z"
   },
   {
    "duration": 17,
    "start_time": "2022-04-12T09:59:00.115Z"
   },
   {
    "duration": 12,
    "start_time": "2022-04-12T09:59:15.909Z"
   },
   {
    "duration": 18,
    "start_time": "2022-04-12T09:59:50.587Z"
   },
   {
    "duration": 27,
    "start_time": "2022-04-12T09:59:52.205Z"
   },
   {
    "duration": 19,
    "start_time": "2022-04-12T10:00:11.979Z"
   },
   {
    "duration": 9,
    "start_time": "2022-04-12T10:01:10.032Z"
   },
   {
    "duration": 7,
    "start_time": "2022-04-12T10:01:14.429Z"
   },
   {
    "duration": 5,
    "start_time": "2022-04-12T10:01:14.767Z"
   },
   {
    "duration": 26,
    "start_time": "2022-04-12T10:01:15.107Z"
   },
   {
    "duration": 16,
    "start_time": "2022-04-12T10:01:20.152Z"
   },
   {
    "duration": 464,
    "start_time": "2022-04-12T10:01:20.738Z"
   },
   {
    "duration": 19,
    "start_time": "2022-04-12T10:01:41.467Z"
   },
   {
    "duration": 5,
    "start_time": "2022-04-12T10:01:41.967Z"
   },
   {
    "duration": 19,
    "start_time": "2022-04-12T10:01:42.051Z"
   },
   {
    "duration": 19,
    "start_time": "2022-04-12T10:01:42.132Z"
   },
   {
    "duration": 32,
    "start_time": "2022-04-12T10:01:42.470Z"
   },
   {
    "duration": 15,
    "start_time": "2022-04-12T10:01:42.555Z"
   },
   {
    "duration": 18,
    "start_time": "2022-04-12T10:01:42.635Z"
   },
   {
    "duration": 15,
    "start_time": "2022-04-12T10:01:42.722Z"
   },
   {
    "duration": 8,
    "start_time": "2022-04-12T10:01:42.802Z"
   },
   {
    "duration": 20,
    "start_time": "2022-04-12T10:01:42.891Z"
   },
   {
    "duration": 15,
    "start_time": "2022-04-12T10:01:42.971Z"
   },
   {
    "duration": 16,
    "start_time": "2022-04-12T10:01:43.517Z"
   },
   {
    "duration": 65,
    "start_time": "2022-04-12T10:01:43.731Z"
   },
   {
    "duration": 11,
    "start_time": "2022-04-12T10:01:43.923Z"
   },
   {
    "duration": 8,
    "start_time": "2022-04-12T10:01:44.111Z"
   },
   {
    "duration": 24,
    "start_time": "2022-04-12T10:01:44.296Z"
   },
   {
    "duration": 497,
    "start_time": "2022-04-12T10:01:47.727Z"
   },
   {
    "duration": 13,
    "start_time": "2022-04-12T10:01:48.227Z"
   },
   {
    "duration": 17,
    "start_time": "2022-04-12T10:01:48.562Z"
   },
   {
    "duration": 20,
    "start_time": "2022-04-12T10:01:49.206Z"
   },
   {
    "duration": 28,
    "start_time": "2022-04-12T10:01:50.202Z"
   },
   {
    "duration": 1717,
    "start_time": "2022-04-12T10:03:11.645Z"
   },
   {
    "duration": 7,
    "start_time": "2022-04-12T10:05:38.718Z"
   },
   {
    "duration": 35,
    "start_time": "2022-04-12T10:05:39.206Z"
   },
   {
    "duration": 331,
    "start_time": "2022-04-12T10:05:39.736Z"
   },
   {
    "duration": 19,
    "start_time": "2022-04-12T10:14:39.602Z"
   },
   {
    "duration": 18,
    "start_time": "2022-04-12T10:14:50.145Z"
   },
   {
    "duration": 13,
    "start_time": "2022-04-12T10:15:30.039Z"
   },
   {
    "duration": 19,
    "start_time": "2022-04-12T10:15:41.515Z"
   },
   {
    "duration": 19,
    "start_time": "2022-04-12T10:16:00.725Z"
   },
   {
    "duration": 21,
    "start_time": "2022-04-12T10:16:11.621Z"
   },
   {
    "duration": 21,
    "start_time": "2022-04-12T10:16:19.180Z"
   },
   {
    "duration": 19,
    "start_time": "2022-04-12T10:16:32.420Z"
   },
   {
    "duration": 18,
    "start_time": "2022-04-12T10:16:37.362Z"
   },
   {
    "duration": 18,
    "start_time": "2022-04-12T10:17:00.387Z"
   },
   {
    "duration": 20,
    "start_time": "2022-04-12T10:19:44.035Z"
   },
   {
    "duration": 28,
    "start_time": "2022-04-12T10:19:58.823Z"
   },
   {
    "duration": 21,
    "start_time": "2022-04-12T10:20:12.096Z"
   },
   {
    "duration": 17,
    "start_time": "2022-04-12T10:20:21.827Z"
   },
   {
    "duration": 25,
    "start_time": "2022-04-12T10:20:36.676Z"
   },
   {
    "duration": 33,
    "start_time": "2022-04-12T10:20:43.988Z"
   },
   {
    "duration": 26,
    "start_time": "2022-04-12T10:20:52.692Z"
   },
   {
    "duration": 18,
    "start_time": "2022-04-12T10:20:57.899Z"
   },
   {
    "duration": 8,
    "start_time": "2022-04-12T10:22:07.249Z"
   },
   {
    "duration": 426,
    "start_time": "2022-04-12T10:40:16.999Z"
   },
   {
    "duration": 533,
    "start_time": "2022-04-12T10:49:35.890Z"
   },
   {
    "duration": 18,
    "start_time": "2022-04-12T10:49:36.428Z"
   },
   {
    "duration": 30,
    "start_time": "2022-04-12T10:49:36.471Z"
   },
   {
    "duration": 11,
    "start_time": "2022-04-12T10:49:36.556Z"
   },
   {
    "duration": 37,
    "start_time": "2022-04-12T10:49:36.640Z"
   },
   {
    "duration": 521,
    "start_time": "2022-04-12T10:49:36.723Z"
   },
   {
    "duration": 534,
    "start_time": "2022-04-12T10:49:37.248Z"
   },
   {
    "duration": 576,
    "start_time": "2022-04-12T10:49:37.785Z"
   },
   {
    "duration": 1823,
    "start_time": "2022-04-12T10:49:38.365Z"
   },
   {
    "duration": 0,
    "start_time": "2022-04-12T10:49:40.192Z"
   },
   {
    "duration": 0,
    "start_time": "2022-04-12T10:49:40.195Z"
   },
   {
    "duration": 1,
    "start_time": "2022-04-12T10:49:40.197Z"
   },
   {
    "duration": 9,
    "start_time": "2022-04-12T10:49:40.507Z"
   },
   {
    "duration": 19,
    "start_time": "2022-04-12T10:49:40.881Z"
   },
   {
    "duration": 293,
    "start_time": "2022-04-12T10:49:41.724Z"
   },
   {
    "duration": 7,
    "start_time": "2022-04-12T10:49:42.797Z"
   },
   {
    "duration": 21,
    "start_time": "2022-04-12T10:49:43.473Z"
   },
   {
    "duration": 299,
    "start_time": "2022-04-12T10:56:45.025Z"
   },
   {
    "duration": 226,
    "start_time": "2022-04-12T10:57:10.005Z"
   },
   {
    "duration": 245,
    "start_time": "2022-04-12T10:58:41.456Z"
   },
   {
    "duration": 6,
    "start_time": "2022-04-12T11:02:19.710Z"
   },
   {
    "duration": 252,
    "start_time": "2022-04-12T11:02:25.790Z"
   },
   {
    "duration": 308,
    "start_time": "2022-04-12T11:49:03.629Z"
   },
   {
    "duration": 377,
    "start_time": "2022-04-12T11:49:17.146Z"
   },
   {
    "duration": 360,
    "start_time": "2022-04-12T11:49:26.617Z"
   },
   {
    "duration": 286,
    "start_time": "2022-04-12T11:53:03.585Z"
   },
   {
    "duration": 302,
    "start_time": "2022-04-12T11:53:06.183Z"
   },
   {
    "duration": 280,
    "start_time": "2022-04-12T11:53:14.553Z"
   },
   {
    "duration": 279,
    "start_time": "2022-04-12T11:53:17.368Z"
   },
   {
    "duration": 279,
    "start_time": "2022-04-12T11:54:06.845Z"
   },
   {
    "duration": 12,
    "start_time": "2022-04-12T11:55:16.587Z"
   },
   {
    "duration": 21,
    "start_time": "2022-04-12T11:55:17.349Z"
   },
   {
    "duration": 5,
    "start_time": "2022-04-12T11:55:17.375Z"
   },
   {
    "duration": 19,
    "start_time": "2022-04-12T11:55:17.555Z"
   },
   {
    "duration": 18,
    "start_time": "2022-04-12T11:55:17.576Z"
   },
   {
    "duration": 79,
    "start_time": "2022-04-12T11:55:17.965Z"
   },
   {
    "duration": 22,
    "start_time": "2022-04-12T11:55:18.048Z"
   },
   {
    "duration": 27,
    "start_time": "2022-04-12T11:55:18.073Z"
   },
   {
    "duration": 19,
    "start_time": "2022-04-12T11:55:18.614Z"
   },
   {
    "duration": 12,
    "start_time": "2022-04-12T11:55:18.636Z"
   },
   {
    "duration": 22,
    "start_time": "2022-04-12T11:55:18.651Z"
   },
   {
    "duration": 16,
    "start_time": "2022-04-12T11:55:18.676Z"
   },
   {
    "duration": 22,
    "start_time": "2022-04-12T11:55:18.694Z"
   },
   {
    "duration": 98,
    "start_time": "2022-04-12T11:55:18.718Z"
   },
   {
    "duration": 9,
    "start_time": "2022-04-12T11:55:18.819Z"
   },
   {
    "duration": 480,
    "start_time": "2022-04-12T11:55:19.263Z"
   },
   {
    "duration": 15,
    "start_time": "2022-04-12T11:55:19.746Z"
   },
   {
    "duration": 40,
    "start_time": "2022-04-12T11:55:19.764Z"
   },
   {
    "duration": 1573,
    "start_time": "2022-04-12T11:55:19.807Z"
   },
   {
    "duration": 0,
    "start_time": "2022-04-12T11:55:21.382Z"
   },
   {
    "duration": 0,
    "start_time": "2022-04-12T11:55:21.384Z"
   },
   {
    "duration": 0,
    "start_time": "2022-04-12T11:55:21.386Z"
   },
   {
    "duration": 0,
    "start_time": "2022-04-12T11:55:21.387Z"
   },
   {
    "duration": 0,
    "start_time": "2022-04-12T11:55:21.388Z"
   },
   {
    "duration": 353,
    "start_time": "2022-04-12T11:55:31.368Z"
   },
   {
    "duration": 496,
    "start_time": "2022-04-12T11:56:09.887Z"
   },
   {
    "duration": 16,
    "start_time": "2022-04-12T11:56:10.699Z"
   },
   {
    "duration": 28,
    "start_time": "2022-04-12T11:56:12.338Z"
   },
   {
    "duration": 10,
    "start_time": "2022-04-12T11:56:12.839Z"
   },
   {
    "duration": 35,
    "start_time": "2022-04-12T11:56:12.932Z"
   },
   {
    "duration": 345,
    "start_time": "2022-04-12T11:56:13.004Z"
   },
   {
    "duration": 349,
    "start_time": "2022-04-12T11:56:13.352Z"
   },
   {
    "duration": 416,
    "start_time": "2022-04-12T11:56:13.704Z"
   },
   {
    "duration": 563,
    "start_time": "2022-04-12T11:56:14.123Z"
   },
   {
    "duration": 254,
    "start_time": "2022-04-12T11:56:14.688Z"
   },
   {
    "duration": 7,
    "start_time": "2022-04-12T11:57:01.731Z"
   },
   {
    "duration": 25,
    "start_time": "2022-04-12T11:57:02.510Z"
   },
   {
    "duration": 6,
    "start_time": "2022-04-12T11:57:02.741Z"
   },
   {
    "duration": 22,
    "start_time": "2022-04-12T11:57:03.147Z"
   },
   {
    "duration": 21,
    "start_time": "2022-04-12T11:57:03.412Z"
   },
   {
    "duration": 30,
    "start_time": "2022-04-12T11:57:04.217Z"
   },
   {
    "duration": 17,
    "start_time": "2022-04-12T11:57:04.411Z"
   },
   {
    "duration": 18,
    "start_time": "2022-04-12T11:57:04.606Z"
   },
   {
    "duration": 16,
    "start_time": "2022-04-12T11:57:04.955Z"
   },
   {
    "duration": 8,
    "start_time": "2022-04-12T11:57:05.382Z"
   },
   {
    "duration": 19,
    "start_time": "2022-04-12T11:57:05.716Z"
   },
   {
    "duration": 21,
    "start_time": "2022-04-12T11:57:06.678Z"
   },
   {
    "duration": 23,
    "start_time": "2022-04-12T11:57:07.493Z"
   },
   {
    "duration": 64,
    "start_time": "2022-04-12T11:57:08.344Z"
   },
   {
    "duration": 9,
    "start_time": "2022-04-12T11:57:10.822Z"
   },
   {
    "duration": 823,
    "start_time": "2022-04-12T11:57:13.339Z"
   },
   {
    "duration": 34,
    "start_time": "2022-04-12T11:57:14.166Z"
   },
   {
    "duration": 29,
    "start_time": "2022-04-12T11:57:17.069Z"
   },
   {
    "duration": 8,
    "start_time": "2022-04-12T11:57:28.115Z"
   },
   {
    "duration": 36,
    "start_time": "2022-04-12T11:57:29.929Z"
   },
   {
    "duration": 345,
    "start_time": "2022-04-12T11:57:47.014Z"
   },
   {
    "duration": 335,
    "start_time": "2022-04-12T11:57:54.512Z"
   },
   {
    "duration": 427,
    "start_time": "2022-04-12T11:58:03.344Z"
   },
   {
    "duration": 334,
    "start_time": "2022-04-12T11:58:05.663Z"
   },
   {
    "duration": 5,
    "start_time": "2022-04-12T12:01:41.421Z"
   },
   {
    "duration": 1862,
    "start_time": "2022-04-12T12:02:19.100Z"
   },
   {
    "duration": 39,
    "start_time": "2022-04-12T12:02:28.363Z"
   },
   {
    "duration": 9,
    "start_time": "2022-04-12T12:02:37.202Z"
   },
   {
    "duration": 54,
    "start_time": "2022-04-12T12:02:37.462Z"
   },
   {
    "duration": 419,
    "start_time": "2022-04-12T12:02:42.916Z"
   },
   {
    "duration": 24,
    "start_time": "2022-04-12T12:07:30.544Z"
   },
   {
    "duration": 499,
    "start_time": "2022-04-12T12:09:33.552Z"
   },
   {
    "duration": 18,
    "start_time": "2022-04-12T12:09:34.675Z"
   },
   {
    "duration": 47,
    "start_time": "2022-04-12T12:09:40.168Z"
   },
   {
    "duration": 6,
    "start_time": "2022-04-12T12:09:40.560Z"
   },
   {
    "duration": 8,
    "start_time": "2022-04-12T12:09:41.612Z"
   },
   {
    "duration": 35,
    "start_time": "2022-04-12T12:09:41.624Z"
   },
   {
    "duration": 503,
    "start_time": "2022-04-12T12:09:41.662Z"
   },
   {
    "duration": 373,
    "start_time": "2022-04-12T12:09:42.169Z"
   },
   {
    "duration": 488,
    "start_time": "2022-04-12T12:09:42.607Z"
   },
   {
    "duration": 319,
    "start_time": "2022-04-12T12:09:45.200Z"
   },
   {
    "duration": 4,
    "start_time": "2022-04-12T12:10:27.178Z"
   },
   {
    "duration": 6,
    "start_time": "2022-04-12T12:10:54.404Z"
   },
   {
    "duration": 29,
    "start_time": "2022-04-12T12:10:55.069Z"
   },
   {
    "duration": 4,
    "start_time": "2022-04-12T12:10:55.147Z"
   },
   {
    "duration": 17,
    "start_time": "2022-04-12T12:10:55.231Z"
   },
   {
    "duration": 17,
    "start_time": "2022-04-12T12:10:55.316Z"
   },
   {
    "duration": 30,
    "start_time": "2022-04-12T12:10:55.651Z"
   },
   {
    "duration": 16,
    "start_time": "2022-04-12T12:10:55.735Z"
   },
   {
    "duration": 18,
    "start_time": "2022-04-12T12:10:55.819Z"
   },
   {
    "duration": 16,
    "start_time": "2022-04-12T12:10:55.900Z"
   },
   {
    "duration": 9,
    "start_time": "2022-04-12T12:10:55.995Z"
   },
   {
    "duration": 24,
    "start_time": "2022-04-12T12:10:56.070Z"
   },
   {
    "duration": 16,
    "start_time": "2022-04-12T12:10:56.154Z"
   },
   {
    "duration": 16,
    "start_time": "2022-04-12T12:10:56.245Z"
   },
   {
    "duration": 70,
    "start_time": "2022-04-12T12:10:56.325Z"
   },
   {
    "duration": 9,
    "start_time": "2022-04-12T12:10:56.413Z"
   },
   {
    "duration": 492,
    "start_time": "2022-04-12T12:10:57.280Z"
   },
   {
    "duration": 25,
    "start_time": "2022-04-12T12:10:57.775Z"
   },
   {
    "duration": 26,
    "start_time": "2022-04-12T12:10:57.803Z"
   },
   {
    "duration": 5,
    "start_time": "2022-04-12T12:10:57.850Z"
   },
   {
    "duration": 7,
    "start_time": "2022-04-12T12:10:58.040Z"
   },
   {
    "duration": 24,
    "start_time": "2022-04-12T12:10:58.212Z"
   },
   {
    "duration": 330,
    "start_time": "2022-04-12T12:10:58.419Z"
   },
   {
    "duration": 306,
    "start_time": "2022-04-12T12:10:58.808Z"
   },
   {
    "duration": 422,
    "start_time": "2022-04-12T12:10:59.256Z"
   },
   {
    "duration": 355,
    "start_time": "2022-04-12T12:10:59.995Z"
   },
   {
    "duration": 480,
    "start_time": "2022-04-12T12:12:27.331Z"
   },
   {
    "duration": 17,
    "start_time": "2022-04-12T12:12:27.814Z"
   },
   {
    "duration": 30,
    "start_time": "2022-04-12T12:12:30.270Z"
   },
   {
    "duration": 6,
    "start_time": "2022-04-12T12:12:30.621Z"
   },
   {
    "duration": 7,
    "start_time": "2022-04-12T12:12:31.035Z"
   },
   {
    "duration": 25,
    "start_time": "2022-04-12T12:12:31.303Z"
   },
   {
    "duration": 342,
    "start_time": "2022-04-12T12:12:31.524Z"
   },
   {
    "duration": 454,
    "start_time": "2022-04-12T12:12:32.081Z"
   },
   {
    "duration": 418,
    "start_time": "2022-04-12T12:12:32.857Z"
   },
   {
    "duration": 328,
    "start_time": "2022-04-12T12:12:34.211Z"
   },
   {
    "duration": 325,
    "start_time": "2022-04-12T12:12:34.820Z"
   },
   {
    "duration": 279,
    "start_time": "2022-04-12T12:12:39.107Z"
   },
   {
    "duration": 224,
    "start_time": "2022-04-12T12:12:39.425Z"
   },
   {
    "duration": 37,
    "start_time": "2022-04-12T12:17:29.931Z"
   },
   {
    "duration": 41,
    "start_time": "2022-04-12T12:17:30.973Z"
   },
   {
    "duration": 27,
    "start_time": "2022-04-12T12:17:41.569Z"
   },
   {
    "duration": 36,
    "start_time": "2022-04-12T12:19:16.934Z"
   },
   {
    "duration": 29,
    "start_time": "2022-04-12T12:19:17.797Z"
   },
   {
    "duration": 6,
    "start_time": "2022-04-12T12:19:27.745Z"
   },
   {
    "duration": 19,
    "start_time": "2022-04-12T12:19:27.973Z"
   },
   {
    "duration": 42,
    "start_time": "2022-04-12T12:19:28.169Z"
   },
   {
    "duration": 49,
    "start_time": "2022-04-12T12:19:28.354Z"
   },
   {
    "duration": 28,
    "start_time": "2022-04-12T12:19:28.516Z"
   },
   {
    "duration": 21,
    "start_time": "2022-04-12T12:19:28.700Z"
   },
   {
    "duration": 6,
    "start_time": "2022-04-12T12:21:03.669Z"
   },
   {
    "duration": 7,
    "start_time": "2022-04-12T12:21:07.394Z"
   },
   {
    "duration": 7,
    "start_time": "2022-04-12T12:21:08.287Z"
   },
   {
    "duration": 9,
    "start_time": "2022-04-12T12:25:35.362Z"
   },
   {
    "duration": 24,
    "start_time": "2022-04-12T12:25:36.034Z"
   },
   {
    "duration": 5,
    "start_time": "2022-04-12T12:25:36.103Z"
   },
   {
    "duration": 28,
    "start_time": "2022-04-12T12:25:36.188Z"
   },
   {
    "duration": 17,
    "start_time": "2022-04-12T12:25:36.272Z"
   },
   {
    "duration": 38,
    "start_time": "2022-04-12T12:25:36.608Z"
   },
   {
    "duration": 22,
    "start_time": "2022-04-12T12:25:36.698Z"
   },
   {
    "duration": 26,
    "start_time": "2022-04-12T12:25:36.773Z"
   },
   {
    "duration": 16,
    "start_time": "2022-04-12T12:25:36.856Z"
   },
   {
    "duration": 8,
    "start_time": "2022-04-12T12:25:36.944Z"
   },
   {
    "duration": 20,
    "start_time": "2022-04-12T12:25:37.028Z"
   },
   {
    "duration": 17,
    "start_time": "2022-04-12T12:25:37.107Z"
   },
   {
    "duration": 19,
    "start_time": "2022-04-12T12:25:37.200Z"
   },
   {
    "duration": 67,
    "start_time": "2022-04-12T12:25:37.282Z"
   },
   {
    "duration": 23,
    "start_time": "2022-04-12T12:25:37.361Z"
   },
   {
    "duration": 518,
    "start_time": "2022-04-12T12:25:37.525Z"
   },
   {
    "duration": 18,
    "start_time": "2022-04-12T12:25:38.046Z"
   },
   {
    "duration": 45,
    "start_time": "2022-04-12T12:25:38.067Z"
   },
   {
    "duration": 6,
    "start_time": "2022-04-12T12:25:38.115Z"
   },
   {
    "duration": 13,
    "start_time": "2022-04-12T12:25:38.124Z"
   },
   {
    "duration": 29,
    "start_time": "2022-04-12T12:25:38.384Z"
   },
   {
    "duration": 359,
    "start_time": "2022-04-12T12:25:39.113Z"
   },
   {
    "duration": 431,
    "start_time": "2022-04-12T12:25:39.605Z"
   },
   {
    "duration": 467,
    "start_time": "2022-04-12T12:25:40.039Z"
   },
   {
    "duration": 339,
    "start_time": "2022-04-12T12:25:40.898Z"
   },
   {
    "duration": 491,
    "start_time": "2022-04-12T12:25:41.680Z"
   },
   {
    "duration": 249,
    "start_time": "2022-04-12T12:25:44.471Z"
   },
   {
    "duration": 322,
    "start_time": "2022-04-12T12:25:45.812Z"
   },
   {
    "duration": 290,
    "start_time": "2022-04-12T12:25:47.483Z"
   },
   {
    "duration": 13,
    "start_time": "2022-04-12T12:25:47.776Z"
   },
   {
    "duration": 269,
    "start_time": "2022-04-12T12:25:48.450Z"
   },
   {
    "duration": 6,
    "start_time": "2022-04-12T12:25:48.931Z"
   },
   {
    "duration": 21,
    "start_time": "2022-04-12T12:25:49.671Z"
   },
   {
    "duration": 36,
    "start_time": "2022-04-12T12:25:50.418Z"
   },
   {
    "duration": 507,
    "start_time": "2022-04-12T12:28:51.364Z"
   },
   {
    "duration": 16,
    "start_time": "2022-04-12T12:28:52.342Z"
   },
   {
    "duration": 36,
    "start_time": "2022-04-12T12:28:57.663Z"
   },
   {
    "duration": 8,
    "start_time": "2022-04-12T12:28:58.102Z"
   },
   {
    "duration": 10,
    "start_time": "2022-04-12T12:28:58.857Z"
   },
   {
    "duration": 61,
    "start_time": "2022-04-12T12:30:32.103Z"
   },
   {
    "duration": 10,
    "start_time": "2022-04-12T12:30:36.010Z"
   },
   {
    "duration": 507,
    "start_time": "2022-04-12T12:30:36.862Z"
   },
   {
    "duration": 17,
    "start_time": "2022-04-12T12:30:37.515Z"
   },
   {
    "duration": 32,
    "start_time": "2022-04-12T12:30:38.200Z"
   },
   {
    "duration": 6,
    "start_time": "2022-04-12T12:30:38.843Z"
   },
   {
    "duration": 517,
    "start_time": "2022-04-12T12:31:38.355Z"
   },
   {
    "duration": 20,
    "start_time": "2022-04-12T12:31:38.943Z"
   },
   {
    "duration": 28,
    "start_time": "2022-04-12T12:31:40.243Z"
   },
   {
    "duration": 74,
    "start_time": "2022-04-12T12:33:13.875Z"
   },
   {
    "duration": 63,
    "start_time": "2022-04-12T12:33:33.622Z"
   },
   {
    "duration": 99,
    "start_time": "2022-04-12T12:33:44.370Z"
   },
   {
    "duration": 7,
    "start_time": "2022-04-12T12:34:33.765Z"
   },
   {
    "duration": 8,
    "start_time": "2022-04-12T12:34:38.809Z"
   },
   {
    "duration": 7,
    "start_time": "2022-04-12T12:34:44.851Z"
   },
   {
    "duration": 6,
    "start_time": "2022-04-12T12:34:55.245Z"
   },
   {
    "duration": 7,
    "start_time": "2022-04-12T12:34:57.612Z"
   },
   {
    "duration": 7,
    "start_time": "2022-04-12T12:35:01.545Z"
   },
   {
    "duration": 7,
    "start_time": "2022-04-12T12:35:07.640Z"
   },
   {
    "duration": 6,
    "start_time": "2022-04-12T12:35:20.652Z"
   },
   {
    "duration": 8,
    "start_time": "2022-04-12T12:35:25.030Z"
   },
   {
    "duration": 6,
    "start_time": "2022-04-12T12:35:25.798Z"
   },
   {
    "duration": 10,
    "start_time": "2022-04-12T12:55:26.052Z"
   },
   {
    "duration": 7,
    "start_time": "2022-04-12T12:55:48.116Z"
   },
   {
    "duration": 13,
    "start_time": "2022-04-12T12:56:23.536Z"
   },
   {
    "duration": 32,
    "start_time": "2022-04-12T12:56:31.697Z"
   },
   {
    "duration": 13,
    "start_time": "2022-04-12T12:56:56.693Z"
   },
   {
    "duration": 31,
    "start_time": "2022-04-12T13:00:01.944Z"
   },
   {
    "duration": 48,
    "start_time": "2022-04-12T13:00:20.532Z"
   },
   {
    "duration": 29,
    "start_time": "2022-04-12T13:00:25.157Z"
   },
   {
    "duration": 39,
    "start_time": "2022-04-12T13:00:30.678Z"
   },
   {
    "duration": 18,
    "start_time": "2022-04-12T13:03:12.019Z"
   },
   {
    "duration": 14,
    "start_time": "2022-04-12T13:03:28.099Z"
   },
   {
    "duration": 38,
    "start_time": "2022-04-12T13:04:08.586Z"
   },
   {
    "duration": 407,
    "start_time": "2022-04-12T13:16:59.815Z"
   },
   {
    "duration": 11,
    "start_time": "2022-04-12T13:17:02.340Z"
   },
   {
    "duration": 51,
    "start_time": "2022-04-12T13:17:03.102Z"
   },
   {
    "duration": 14,
    "start_time": "2022-04-12T13:17:17.422Z"
   },
   {
    "duration": 39,
    "start_time": "2022-04-12T13:17:18.271Z"
   },
   {
    "duration": 14,
    "start_time": "2022-04-12T13:20:12.618Z"
   },
   {
    "duration": 78,
    "start_time": "2022-04-12T13:24:07.644Z"
   },
   {
    "duration": 23,
    "start_time": "2022-04-12T13:24:10.562Z"
   },
   {
    "duration": 428,
    "start_time": "2022-04-12T13:27:59.657Z"
   },
   {
    "duration": 355,
    "start_time": "2022-04-12T13:28:00.088Z"
   },
   {
    "duration": 499,
    "start_time": "2022-04-12T13:28:00.445Z"
   },
   {
    "duration": 401,
    "start_time": "2022-04-12T13:28:00.947Z"
   },
   {
    "duration": 343,
    "start_time": "2022-04-12T13:28:01.353Z"
   },
   {
    "duration": 287,
    "start_time": "2022-04-12T13:28:01.699Z"
   },
   {
    "duration": 8,
    "start_time": "2022-04-12T13:28:01.994Z"
   },
   {
    "duration": 283,
    "start_time": "2022-04-12T13:28:02.005Z"
   },
   {
    "duration": 15,
    "start_time": "2022-04-12T13:28:02.291Z"
   },
   {
    "duration": 33,
    "start_time": "2022-04-12T13:28:02.308Z"
   },
   {
    "duration": 49,
    "start_time": "2022-04-12T13:28:02.343Z"
   },
   {
    "duration": 44,
    "start_time": "2022-04-12T13:28:02.395Z"
   },
   {
    "duration": 17,
    "start_time": "2022-04-12T13:28:02.441Z"
   },
   {
    "duration": 95,
    "start_time": "2022-04-12T13:28:02.470Z"
   },
   {
    "duration": 9,
    "start_time": "2022-04-12T13:28:02.583Z"
   },
   {
    "duration": 23,
    "start_time": "2022-04-12T13:28:02.594Z"
   },
   {
    "duration": 6,
    "start_time": "2022-04-12T13:28:09.397Z"
   },
   {
    "duration": 12,
    "start_time": "2022-04-12T13:28:10.007Z"
   },
   {
    "duration": 79,
    "start_time": "2022-04-12T13:29:41.552Z"
   },
   {
    "duration": 7,
    "start_time": "2022-04-12T13:29:43.520Z"
   },
   {
    "duration": 10,
    "start_time": "2022-04-12T13:29:44.109Z"
   },
   {
    "duration": 6,
    "start_time": "2022-04-12T13:29:45.022Z"
   },
   {
    "duration": 11,
    "start_time": "2022-04-12T13:29:45.453Z"
   },
   {
    "duration": 15,
    "start_time": "2022-04-12T13:32:02.715Z"
   },
   {
    "duration": 1696,
    "start_time": "2022-04-12T13:32:40.581Z"
   },
   {
    "duration": 8,
    "start_time": "2022-04-12T13:33:09.770Z"
   },
   {
    "duration": 7,
    "start_time": "2022-04-12T13:34:45.275Z"
   },
   {
    "duration": 6,
    "start_time": "2022-04-12T13:34:53.759Z"
   },
   {
    "duration": 7,
    "start_time": "2022-04-12T13:34:55.572Z"
   },
   {
    "duration": 7,
    "start_time": "2022-04-12T13:37:34.525Z"
   },
   {
    "duration": 8,
    "start_time": "2022-04-12T13:37:35.180Z"
   },
   {
    "duration": 8,
    "start_time": "2022-04-12T13:37:59.077Z"
   },
   {
    "duration": 8,
    "start_time": "2022-04-12T13:38:00.211Z"
   },
   {
    "duration": 20,
    "start_time": "2022-04-12T13:38:51.063Z"
   },
   {
    "duration": 9,
    "start_time": "2022-04-12T13:38:51.548Z"
   },
   {
    "duration": 8,
    "start_time": "2022-04-12T13:39:24.818Z"
   },
   {
    "duration": 24,
    "start_time": "2022-04-12T13:39:25.338Z"
   },
   {
    "duration": 7,
    "start_time": "2022-04-12T13:39:30.673Z"
   },
   {
    "duration": 6,
    "start_time": "2022-04-12T13:39:31.356Z"
   },
   {
    "duration": 16,
    "start_time": "2022-04-12T13:43:30.968Z"
   },
   {
    "duration": 15,
    "start_time": "2022-04-12T13:43:31.567Z"
   },
   {
    "duration": 31,
    "start_time": "2022-04-12T13:43:31.829Z"
   },
   {
    "duration": 16,
    "start_time": "2022-04-12T13:43:31.913Z"
   },
   {
    "duration": 19,
    "start_time": "2022-04-12T13:43:32.088Z"
   },
   {
    "duration": 18,
    "start_time": "2022-04-12T13:43:32.109Z"
   },
   {
    "duration": 19,
    "start_time": "2022-04-12T13:43:32.130Z"
   },
   {
    "duration": 20,
    "start_time": "2022-04-12T13:43:32.223Z"
   },
   {
    "duration": 17,
    "start_time": "2022-04-12T13:43:32.364Z"
   },
   {
    "duration": 20,
    "start_time": "2022-04-12T13:43:32.389Z"
   },
   {
    "duration": 62,
    "start_time": "2022-04-12T13:43:32.545Z"
   },
   {
    "duration": 9,
    "start_time": "2022-04-12T13:43:32.610Z"
   },
   {
    "duration": 495,
    "start_time": "2022-04-12T13:43:32.725Z"
   },
   {
    "duration": 17,
    "start_time": "2022-04-12T13:43:33.223Z"
   },
   {
    "duration": 47,
    "start_time": "2022-04-12T13:43:33.242Z"
   },
   {
    "duration": 5,
    "start_time": "2022-04-12T13:43:33.293Z"
   },
   {
    "duration": 14,
    "start_time": "2022-04-12T13:43:33.300Z"
   },
   {
    "duration": 32,
    "start_time": "2022-04-12T13:43:33.317Z"
   },
   {
    "duration": 357,
    "start_time": "2022-04-12T13:43:33.351Z"
   },
   {
    "duration": 339,
    "start_time": "2022-04-12T13:43:33.711Z"
   },
   {
    "duration": 438,
    "start_time": "2022-04-12T13:43:34.053Z"
   },
   {
    "duration": 354,
    "start_time": "2022-04-12T13:43:34.494Z"
   },
   {
    "duration": 367,
    "start_time": "2022-04-12T13:43:34.850Z"
   },
   {
    "duration": 292,
    "start_time": "2022-04-12T13:43:35.220Z"
   },
   {
    "duration": 247,
    "start_time": "2022-04-12T13:43:35.514Z"
   },
   {
    "duration": 273,
    "start_time": "2022-04-12T13:43:35.763Z"
   },
   {
    "duration": 7,
    "start_time": "2022-04-12T13:43:36.041Z"
   },
   {
    "duration": 455,
    "start_time": "2022-04-12T13:43:36.051Z"
   },
   {
    "duration": 14,
    "start_time": "2022-04-12T13:43:36.508Z"
   },
   {
    "duration": 11,
    "start_time": "2022-04-12T13:43:36.525Z"
   },
   {
    "duration": 10,
    "start_time": "2022-04-12T13:43:36.539Z"
   },
   {
    "duration": 8,
    "start_time": "2022-04-12T13:43:36.583Z"
   },
   {
    "duration": 11,
    "start_time": "2022-04-12T13:43:36.594Z"
   },
   {
    "duration": 16,
    "start_time": "2022-04-12T13:43:36.607Z"
   },
   {
    "duration": 63,
    "start_time": "2022-04-12T13:43:36.625Z"
   },
   {
    "duration": 14,
    "start_time": "2022-04-12T13:43:36.690Z"
   },
   {
    "duration": 23,
    "start_time": "2022-04-12T13:43:36.709Z"
   },
   {
    "duration": 82,
    "start_time": "2022-04-12T13:43:36.735Z"
   },
   {
    "duration": 76,
    "start_time": "2022-04-12T13:43:36.820Z"
   },
   {
    "duration": 36,
    "start_time": "2022-04-12T13:43:36.899Z"
   },
   {
    "duration": 14,
    "start_time": "2022-04-12T13:43:36.938Z"
   },
   {
    "duration": 33,
    "start_time": "2022-04-12T13:43:36.954Z"
   },
   {
    "duration": 10,
    "start_time": "2022-04-12T13:43:36.992Z"
   },
   {
    "duration": 16,
    "start_time": "2022-04-12T13:43:37.005Z"
   },
   {
    "duration": 116,
    "start_time": "2022-04-12T14:01:17.186Z"
   },
   {
    "duration": 125,
    "start_time": "2022-04-12T14:01:44.020Z"
   },
   {
    "duration": 207,
    "start_time": "2022-04-12T14:02:12.137Z"
   },
   {
    "duration": 516,
    "start_time": "2022-04-12T14:02:27.045Z"
   },
   {
    "duration": 417,
    "start_time": "2022-04-12T14:04:33.837Z"
   },
   {
    "duration": 72,
    "start_time": "2022-04-13T09:28:02.243Z"
   },
   {
    "duration": 9,
    "start_time": "2022-04-13T09:28:02.738Z"
   },
   {
    "duration": 10,
    "start_time": "2022-04-13T09:28:02.822Z"
   },
   {
    "duration": 9,
    "start_time": "2022-04-13T09:28:02.901Z"
   },
   {
    "duration": 10,
    "start_time": "2022-04-13T09:28:03.239Z"
   },
   {
    "duration": 9,
    "start_time": "2022-04-13T09:28:03.320Z"
   },
   {
    "duration": 10,
    "start_time": "2022-04-13T09:28:03.407Z"
   },
   {
    "duration": 2536,
    "start_time": "2022-04-13T09:28:06.080Z"
   },
   {
    "duration": 35,
    "start_time": "2022-04-13T09:28:08.619Z"
   },
   {
    "duration": 5,
    "start_time": "2022-04-13T09:28:08.657Z"
   },
   {
    "duration": 25,
    "start_time": "2022-04-13T09:28:08.665Z"
   },
   {
    "duration": 19,
    "start_time": "2022-04-13T09:28:08.693Z"
   },
   {
    "duration": 35,
    "start_time": "2022-04-13T09:28:09.942Z"
   },
   {
    "duration": 20,
    "start_time": "2022-04-13T09:28:10.017Z"
   },
   {
    "duration": 22,
    "start_time": "2022-04-13T09:28:10.101Z"
   },
   {
    "duration": 20,
    "start_time": "2022-04-13T09:28:10.184Z"
   },
   {
    "duration": 8,
    "start_time": "2022-04-13T09:28:10.275Z"
   },
   {
    "duration": 18,
    "start_time": "2022-04-13T09:28:10.362Z"
   },
   {
    "duration": 15,
    "start_time": "2022-04-13T09:28:10.435Z"
   },
   {
    "duration": 15,
    "start_time": "2022-04-13T09:28:10.530Z"
   },
   {
    "duration": 62,
    "start_time": "2022-04-13T09:28:10.606Z"
   },
   {
    "duration": 9,
    "start_time": "2022-04-13T09:28:10.700Z"
   },
   {
    "duration": 478,
    "start_time": "2022-04-13T09:28:10.853Z"
   },
   {
    "duration": 16,
    "start_time": "2022-04-13T09:28:11.334Z"
   },
   {
    "duration": 44,
    "start_time": "2022-04-13T09:28:11.352Z"
   },
   {
    "duration": 5,
    "start_time": "2022-04-13T09:28:11.400Z"
   },
   {
    "duration": 11,
    "start_time": "2022-04-13T09:28:11.407Z"
   },
   {
    "duration": 29,
    "start_time": "2022-04-13T09:28:11.420Z"
   },
   {
    "duration": 474,
    "start_time": "2022-04-13T09:28:11.452Z"
   },
   {
    "duration": 327,
    "start_time": "2022-04-13T09:28:11.929Z"
   },
   {
    "duration": 454,
    "start_time": "2022-04-13T09:28:12.258Z"
   },
   {
    "duration": 443,
    "start_time": "2022-04-13T09:28:12.715Z"
   },
   {
    "duration": 313,
    "start_time": "2022-04-13T09:28:13.161Z"
   },
   {
    "duration": 474,
    "start_time": "2022-04-13T09:28:13.476Z"
   },
   {
    "duration": 283,
    "start_time": "2022-04-13T09:28:13.952Z"
   },
   {
    "duration": 257,
    "start_time": "2022-04-13T09:28:14.237Z"
   },
   {
    "duration": 288,
    "start_time": "2022-04-13T09:28:14.500Z"
   },
   {
    "duration": 8,
    "start_time": "2022-04-13T09:28:14.790Z"
   },
   {
    "duration": 293,
    "start_time": "2022-04-13T09:28:14.800Z"
   },
   {
    "duration": 10,
    "start_time": "2022-04-13T09:28:15.095Z"
   },
   {
    "duration": 11,
    "start_time": "2022-04-13T09:28:15.108Z"
   },
   {
    "duration": 12,
    "start_time": "2022-04-13T09:28:15.121Z"
   },
   {
    "duration": 10,
    "start_time": "2022-04-13T09:28:15.135Z"
   },
   {
    "duration": 43,
    "start_time": "2022-04-13T09:28:15.147Z"
   },
   {
    "duration": 13,
    "start_time": "2022-04-13T09:28:15.193Z"
   },
   {
    "duration": 32,
    "start_time": "2022-04-13T09:28:15.209Z"
   },
   {
    "duration": 16,
    "start_time": "2022-04-13T09:28:15.486Z"
   },
   {
    "duration": 20,
    "start_time": "2022-04-13T09:28:16.146Z"
   },
   {
    "duration": 36,
    "start_time": "2022-04-13T09:28:16.228Z"
   },
   {
    "duration": 36,
    "start_time": "2022-04-13T09:28:16.313Z"
   },
   {
    "duration": 34,
    "start_time": "2022-04-13T09:28:16.401Z"
   },
   {
    "duration": 7,
    "start_time": "2022-04-13T09:28:16.563Z"
   },
   {
    "duration": 7,
    "start_time": "2022-04-13T09:28:16.738Z"
   },
   {
    "duration": 9,
    "start_time": "2022-04-13T09:28:16.815Z"
   },
   {
    "duration": 12,
    "start_time": "2022-04-13T09:28:16.900Z"
   },
   {
    "duration": 9,
    "start_time": "2022-04-13T09:34:49.505Z"
   },
   {
    "duration": 9,
    "start_time": "2022-04-13T09:35:18.018Z"
   },
   {
    "duration": 7,
    "start_time": "2022-04-13T09:36:01.195Z"
   },
   {
    "duration": 7,
    "start_time": "2022-04-13T09:48:54.595Z"
   },
   {
    "duration": 19,
    "start_time": "2022-04-13T09:48:56.239Z"
   },
   {
    "duration": 5,
    "start_time": "2022-04-13T09:48:56.650Z"
   },
   {
    "duration": 17,
    "start_time": "2022-04-13T09:48:57.328Z"
   },
   {
    "duration": 21,
    "start_time": "2022-04-13T09:48:57.753Z"
   },
   {
    "duration": 30,
    "start_time": "2022-04-13T09:49:06.257Z"
   },
   {
    "duration": 18,
    "start_time": "2022-04-13T09:49:06.805Z"
   },
   {
    "duration": 31,
    "start_time": "2022-04-13T09:49:07.381Z"
   },
   {
    "duration": 15,
    "start_time": "2022-04-13T09:49:08.407Z"
   },
   {
    "duration": 8,
    "start_time": "2022-04-13T09:49:09.048Z"
   },
   {
    "duration": 25,
    "start_time": "2022-04-13T09:49:13.295Z"
   },
   {
    "duration": 18,
    "start_time": "2022-04-13T09:49:13.886Z"
   },
   {
    "duration": 18,
    "start_time": "2022-04-13T09:49:14.584Z"
   },
   {
    "duration": 81,
    "start_time": "2022-04-13T09:49:19.800Z"
   },
   {
    "duration": 10,
    "start_time": "2022-04-13T09:49:20.209Z"
   },
   {
    "duration": 10,
    "start_time": "2022-04-13T09:49:26.220Z"
   },
   {
    "duration": 520,
    "start_time": "2022-04-13T09:49:29.819Z"
   },
   {
    "duration": 31,
    "start_time": "2022-04-13T09:49:30.587Z"
   },
   {
    "duration": 32,
    "start_time": "2022-04-13T09:49:32.535Z"
   },
   {
    "duration": 120,
    "start_time": "2022-04-13T09:49:34.999Z"
   },
   {
    "duration": 8,
    "start_time": "2022-04-13T09:49:35.463Z"
   },
   {
    "duration": 28,
    "start_time": "2022-04-13T09:49:52.290Z"
   },
   {
    "duration": 5,
    "start_time": "2022-04-13T09:49:52.807Z"
   },
   {
    "duration": 22,
    "start_time": "2022-04-13T09:49:52.869Z"
   },
   {
    "duration": 17,
    "start_time": "2022-04-13T09:49:52.952Z"
   },
   {
    "duration": 31,
    "start_time": "2022-04-13T09:49:53.206Z"
   },
   {
    "duration": 26,
    "start_time": "2022-04-13T09:49:53.292Z"
   },
   {
    "duration": 21,
    "start_time": "2022-04-13T09:49:53.371Z"
   },
   {
    "duration": 13,
    "start_time": "2022-04-13T09:49:53.464Z"
   },
   {
    "duration": 8,
    "start_time": "2022-04-13T09:49:53.540Z"
   },
   {
    "duration": 23,
    "start_time": "2022-04-13T09:49:53.625Z"
   },
   {
    "duration": 17,
    "start_time": "2022-04-13T09:49:53.708Z"
   },
   {
    "duration": 15,
    "start_time": "2022-04-13T09:49:53.811Z"
   },
   {
    "duration": 81,
    "start_time": "2022-04-13T09:49:53.872Z"
   },
   {
    "duration": 10,
    "start_time": "2022-04-13T09:50:02.432Z"
   },
   {
    "duration": 488,
    "start_time": "2022-04-13T09:50:02.859Z"
   },
   {
    "duration": 16,
    "start_time": "2022-04-13T09:50:03.349Z"
   },
   {
    "duration": 28,
    "start_time": "2022-04-13T09:50:03.383Z"
   },
   {
    "duration": 6,
    "start_time": "2022-04-13T09:50:03.641Z"
   },
   {
    "duration": 7,
    "start_time": "2022-04-13T09:50:07.024Z"
   },
   {
    "duration": 23,
    "start_time": "2022-04-13T09:50:07.595Z"
   },
   {
    "duration": 341,
    "start_time": "2022-04-13T09:50:08.303Z"
   },
   {
    "duration": 338,
    "start_time": "2022-04-13T09:50:16.197Z"
   },
   {
    "duration": 473,
    "start_time": "2022-04-13T09:51:15.044Z"
   },
   {
    "duration": 419,
    "start_time": "2022-04-13T09:51:22.277Z"
   },
   {
    "duration": 366,
    "start_time": "2022-04-13T09:51:26.123Z"
   },
   {
    "duration": 395,
    "start_time": "2022-04-13T09:51:30.609Z"
   },
   {
    "duration": 255,
    "start_time": "2022-04-13T09:51:38.718Z"
   },
   {
    "duration": 256,
    "start_time": "2022-04-13T09:51:39.852Z"
   },
   {
    "duration": 289,
    "start_time": "2022-04-13T09:51:44.015Z"
   },
   {
    "duration": 11,
    "start_time": "2022-04-13T09:51:46.085Z"
   },
   {
    "duration": 267,
    "start_time": "2022-04-13T09:51:50.574Z"
   },
   {
    "duration": 10,
    "start_time": "2022-04-13T09:51:57.823Z"
   },
   {
    "duration": 11,
    "start_time": "2022-04-13T09:51:57.837Z"
   },
   {
    "duration": 6,
    "start_time": "2022-04-13T09:51:57.944Z"
   },
   {
    "duration": 22,
    "start_time": "2022-04-13T09:52:01.110Z"
   },
   {
    "duration": 37,
    "start_time": "2022-04-13T09:52:01.335Z"
   },
   {
    "duration": 48,
    "start_time": "2022-04-13T09:52:01.599Z"
   },
   {
    "duration": 31,
    "start_time": "2022-04-13T09:52:02.270Z"
   },
   {
    "duration": 11,
    "start_time": "2022-04-13T09:52:02.711Z"
   },
   {
    "duration": 8,
    "start_time": "2022-04-13T09:52:03.109Z"
   },
   {
    "duration": 7,
    "start_time": "2022-04-13T09:52:04.217Z"
   },
   {
    "duration": 8,
    "start_time": "2022-04-13T09:52:05.079Z"
   },
   {
    "duration": 9,
    "start_time": "2022-04-13T09:52:05.407Z"
   },
   {
    "duration": 11,
    "start_time": "2022-04-13T09:52:05.762Z"
   },
   {
    "duration": 162,
    "start_time": "2022-04-13T21:15:33.648Z"
   },
   {
    "duration": 2060,
    "start_time": "2022-04-13T21:15:40.279Z"
   },
   {
    "duration": 76,
    "start_time": "2022-04-13T21:15:42.340Z"
   },
   {
    "duration": 3,
    "start_time": "2022-04-13T21:15:42.418Z"
   },
   {
    "duration": 16,
    "start_time": "2022-04-13T21:15:42.423Z"
   },
   {
    "duration": 11,
    "start_time": "2022-04-13T21:15:42.441Z"
   },
   {
    "duration": 153,
    "start_time": "2022-04-13T21:15:42.454Z"
   },
   {
    "duration": 12,
    "start_time": "2022-04-13T21:15:42.609Z"
   },
   {
    "duration": 62,
    "start_time": "2022-04-13T21:15:42.623Z"
   },
   {
    "duration": 11,
    "start_time": "2022-04-13T21:15:42.687Z"
   },
   {
    "duration": 7,
    "start_time": "2022-04-13T21:15:42.701Z"
   },
   {
    "duration": 15,
    "start_time": "2022-04-13T21:15:42.709Z"
   },
   {
    "duration": 11,
    "start_time": "2022-04-13T21:15:42.726Z"
   },
   {
    "duration": 12,
    "start_time": "2022-04-13T21:15:42.739Z"
   },
   {
    "duration": 38,
    "start_time": "2022-04-13T21:15:42.752Z"
   },
   {
    "duration": 7,
    "start_time": "2022-04-13T21:15:42.791Z"
   },
   {
    "duration": 325,
    "start_time": "2022-04-13T21:15:42.800Z"
   },
   {
    "duration": 12,
    "start_time": "2022-04-13T21:15:43.126Z"
   },
   {
    "duration": 21,
    "start_time": "2022-04-13T21:15:43.140Z"
   },
   {
    "duration": 4,
    "start_time": "2022-04-13T21:15:43.163Z"
   },
   {
    "duration": 8,
    "start_time": "2022-04-13T21:15:43.169Z"
   },
   {
    "duration": 21,
    "start_time": "2022-04-13T21:15:43.179Z"
   },
   {
    "duration": 332,
    "start_time": "2022-04-13T21:15:43.202Z"
   },
   {
    "duration": 217,
    "start_time": "2022-04-13T21:15:43.536Z"
   },
   {
    "duration": 305,
    "start_time": "2022-04-13T21:15:43.755Z"
   },
   {
    "duration": 227,
    "start_time": "2022-04-13T21:15:44.061Z"
   },
   {
    "duration": 220,
    "start_time": "2022-04-13T21:15:44.290Z"
   },
   {
    "duration": 359,
    "start_time": "2022-04-13T21:15:44.512Z"
   },
   {
    "duration": 135,
    "start_time": "2022-04-13T21:15:44.875Z"
   },
   {
    "duration": 157,
    "start_time": "2022-04-13T21:15:45.012Z"
   },
   {
    "duration": 173,
    "start_time": "2022-04-13T21:15:45.171Z"
   },
   {
    "duration": 4,
    "start_time": "2022-04-13T21:15:45.346Z"
   },
   {
    "duration": 153,
    "start_time": "2022-04-13T21:15:45.352Z"
   },
   {
    "duration": 6,
    "start_time": "2022-04-13T21:15:45.507Z"
   },
   {
    "duration": 5,
    "start_time": "2022-04-13T21:15:45.534Z"
   },
   {
    "duration": 10,
    "start_time": "2022-04-13T21:15:45.541Z"
   },
   {
    "duration": 15,
    "start_time": "2022-04-13T21:15:45.553Z"
   },
   {
    "duration": 24,
    "start_time": "2022-04-13T21:15:45.570Z"
   },
   {
    "duration": 50,
    "start_time": "2022-04-13T21:15:45.596Z"
   },
   {
    "duration": 19,
    "start_time": "2022-04-13T21:15:45.648Z"
   },
   {
    "duration": 10,
    "start_time": "2022-04-13T21:15:45.669Z"
   },
   {
    "duration": 8,
    "start_time": "2022-04-13T21:15:45.681Z"
   },
   {
    "duration": 7,
    "start_time": "2022-04-13T21:15:45.690Z"
   },
   {
    "duration": 10,
    "start_time": "2022-04-13T21:15:45.698Z"
   },
   {
    "duration": 9,
    "start_time": "2022-04-13T21:15:45.734Z"
   },
   {
    "duration": 11,
    "start_time": "2022-04-13T21:15:45.744Z"
   },
   {
    "duration": 1509,
    "start_time": "2022-04-15T14:53:22.583Z"
   },
   {
    "duration": 31,
    "start_time": "2022-04-15T14:53:24.148Z"
   },
   {
    "duration": 16,
    "start_time": "2022-04-15T14:54:13.617Z"
   },
   {
    "duration": 15,
    "start_time": "2022-04-15T14:54:20.969Z"
   },
   {
    "duration": 25,
    "start_time": "2022-04-15T14:54:51.591Z"
   },
   {
    "duration": 15,
    "start_time": "2022-04-15T14:54:55.829Z"
   },
   {
    "duration": 16,
    "start_time": "2022-04-15T14:55:35.023Z"
   },
   {
    "duration": 11,
    "start_time": "2022-04-15T14:55:37.287Z"
   },
   {
    "duration": 10,
    "start_time": "2022-04-15T14:55:39.762Z"
   },
   {
    "duration": 19,
    "start_time": "2022-04-15T14:57:44.269Z"
   },
   {
    "duration": 160,
    "start_time": "2022-04-15T14:58:05.512Z"
   },
   {
    "duration": 21,
    "start_time": "2022-04-15T14:58:20.469Z"
   },
   {
    "duration": 16,
    "start_time": "2022-04-15T14:58:47.708Z"
   },
   {
    "duration": 21,
    "start_time": "2022-04-15T14:58:52.113Z"
   },
   {
    "duration": 16,
    "start_time": "2022-04-15T14:59:30.991Z"
   },
   {
    "duration": 2021,
    "start_time": "2022-04-16T10:20:08.104Z"
   },
   {
    "duration": 44,
    "start_time": "2022-04-16T10:20:20.782Z"
   },
   {
    "duration": 4,
    "start_time": "2022-04-16T10:20:25.881Z"
   },
   {
    "duration": 20,
    "start_time": "2022-04-16T10:20:26.201Z"
   },
   {
    "duration": 15,
    "start_time": "2022-04-16T10:20:26.443Z"
   },
   {
    "duration": 46,
    "start_time": "2022-04-16T10:20:27.486Z"
   },
   {
    "duration": 17,
    "start_time": "2022-04-16T10:20:27.741Z"
   },
   {
    "duration": 33,
    "start_time": "2022-04-16T10:20:27.974Z"
   },
   {
    "duration": 15,
    "start_time": "2022-04-16T10:20:28.204Z"
   },
   {
    "duration": 8,
    "start_time": "2022-04-16T10:20:28.420Z"
   },
   {
    "duration": 19,
    "start_time": "2022-04-16T10:20:28.639Z"
   },
   {
    "duration": 22,
    "start_time": "2022-04-16T10:20:28.858Z"
   },
   {
    "duration": 15,
    "start_time": "2022-04-16T10:20:29.071Z"
   },
   {
    "duration": 61,
    "start_time": "2022-04-16T10:20:29.818Z"
   },
   {
    "duration": 10,
    "start_time": "2022-04-16T10:20:29.881Z"
   },
   {
    "duration": 553,
    "start_time": "2022-04-16T10:20:32.898Z"
   },
   {
    "duration": 16,
    "start_time": "2022-04-16T10:20:33.454Z"
   },
   {
    "duration": 27,
    "start_time": "2022-04-16T10:20:33.472Z"
   },
   {
    "duration": 5,
    "start_time": "2022-04-16T10:20:33.500Z"
   },
   {
    "duration": 8,
    "start_time": "2022-04-16T10:20:33.508Z"
   },
   {
    "duration": 24,
    "start_time": "2022-04-16T10:20:33.552Z"
   },
   {
    "duration": 525,
    "start_time": "2022-04-16T10:20:33.578Z"
   },
   {
    "duration": 395,
    "start_time": "2022-04-16T10:20:34.105Z"
   },
   {
    "duration": 487,
    "start_time": "2022-04-16T10:20:34.503Z"
   },
   {
    "duration": 399,
    "start_time": "2022-04-16T10:20:35.062Z"
   },
   {
    "duration": 365,
    "start_time": "2022-04-16T10:20:35.506Z"
   },
   {
    "duration": 473,
    "start_time": "2022-04-16T10:20:36.133Z"
   },
   {
    "duration": 418,
    "start_time": "2022-04-16T10:21:03.626Z"
   },
   {
    "duration": 255,
    "start_time": "2022-04-16T10:21:04.404Z"
   },
   {
    "duration": 239,
    "start_time": "2022-04-16T10:21:07.174Z"
   },
   {
    "duration": 250,
    "start_time": "2022-04-16T10:21:07.768Z"
   },
   {
    "duration": 7,
    "start_time": "2022-04-16T10:21:08.166Z"
   },
   {
    "duration": 261,
    "start_time": "2022-04-16T10:21:08.798Z"
   },
   {
    "duration": 331,
    "start_time": "2022-04-16T10:22:08.165Z"
   },
   {
    "duration": 249,
    "start_time": "2022-04-16T10:22:08.602Z"
   },
   {
    "duration": 272,
    "start_time": "2022-04-16T10:22:08.988Z"
   },
   {
    "duration": 6,
    "start_time": "2022-04-16T10:22:09.356Z"
   },
   {
    "duration": 280,
    "start_time": "2022-04-16T10:22:09.918Z"
   },
   {
    "duration": 8,
    "start_time": "2022-04-16T10:22:10.468Z"
   },
   {
    "duration": 7,
    "start_time": "2022-04-16T10:22:10.653Z"
   },
   {
    "duration": 158,
    "start_time": "2022-04-16T11:16:02.076Z"
   },
   {
    "duration": 8,
    "start_time": "2022-04-16T11:16:23.183Z"
   },
   {
    "duration": 7,
    "start_time": "2022-04-16T11:22:45.602Z"
   },
   {
    "duration": 91,
    "start_time": "2022-04-16T11:23:11.750Z"
   },
   {
    "duration": 9,
    "start_time": "2022-04-16T11:23:16.199Z"
   },
   {
    "duration": 4,
    "start_time": "2022-04-16T11:26:07.074Z"
   },
   {
    "duration": 107,
    "start_time": "2022-04-16T11:26:17.661Z"
   },
   {
    "duration": 5,
    "start_time": "2022-04-16T11:26:26.289Z"
   },
   {
    "duration": 10,
    "start_time": "2022-04-16T11:29:47.849Z"
   },
   {
    "duration": 12,
    "start_time": "2022-04-16T11:37:50.326Z"
   },
   {
    "duration": 18,
    "start_time": "2022-04-16T11:37:59.401Z"
   },
   {
    "duration": 36,
    "start_time": "2022-04-16T11:37:59.700Z"
   },
   {
    "duration": 36,
    "start_time": "2022-04-16T11:37:59.964Z"
   },
   {
    "duration": 25,
    "start_time": "2022-04-16T11:38:00.228Z"
   },
   {
    "duration": 7,
    "start_time": "2022-04-16T11:38:00.482Z"
   },
   {
    "duration": 16,
    "start_time": "2022-04-16T11:38:26.794Z"
   },
   {
    "duration": 9,
    "start_time": "2022-04-16T11:42:29.012Z"
   },
   {
    "duration": 9,
    "start_time": "2022-04-16T11:42:47.402Z"
   },
   {
    "duration": 20,
    "start_time": "2022-04-16T11:43:30.497Z"
   },
   {
    "duration": 9,
    "start_time": "2022-04-16T11:51:09.406Z"
   },
   {
    "duration": 9,
    "start_time": "2022-04-16T11:51:16.996Z"
   },
   {
    "duration": 75,
    "start_time": "2022-04-17T12:18:31.909Z"
   },
   {
    "duration": 2049,
    "start_time": "2022-04-17T12:18:41.870Z"
   },
   {
    "duration": 25,
    "start_time": "2022-04-17T12:18:43.922Z"
   },
   {
    "duration": 6,
    "start_time": "2022-04-17T12:18:43.950Z"
   },
   {
    "duration": 24,
    "start_time": "2022-04-17T12:18:43.960Z"
   },
   {
    "duration": 20,
    "start_time": "2022-04-17T12:18:43.986Z"
   },
   {
    "duration": 53,
    "start_time": "2022-04-17T12:18:44.008Z"
   },
   {
    "duration": 17,
    "start_time": "2022-04-17T12:18:44.063Z"
   },
   {
    "duration": 25,
    "start_time": "2022-04-17T12:18:44.082Z"
   },
   {
    "duration": 51,
    "start_time": "2022-04-17T12:18:44.111Z"
   },
   {
    "duration": 8,
    "start_time": "2022-04-17T12:18:44.195Z"
   },
   {
    "duration": 25,
    "start_time": "2022-04-17T12:18:44.380Z"
   },
   {
    "duration": 20,
    "start_time": "2022-04-17T12:18:44.561Z"
   },
   {
    "duration": 22,
    "start_time": "2022-04-17T12:18:44.719Z"
   },
   {
    "duration": 63,
    "start_time": "2022-04-17T12:18:45.052Z"
   },
   {
    "duration": 11,
    "start_time": "2022-04-17T12:18:45.220Z"
   },
   {
    "duration": 483,
    "start_time": "2022-04-17T12:18:46.317Z"
   },
   {
    "duration": 15,
    "start_time": "2022-04-17T12:18:46.803Z"
   },
   {
    "duration": 50,
    "start_time": "2022-04-17T12:18:46.820Z"
   },
   {
    "duration": 7,
    "start_time": "2022-04-17T12:18:46.978Z"
   },
   {
    "duration": 8,
    "start_time": "2022-04-17T12:18:47.054Z"
   },
   {
    "duration": 25,
    "start_time": "2022-04-17T12:18:47.231Z"
   },
   {
    "duration": 476,
    "start_time": "2022-04-17T12:18:47.434Z"
   },
   {
    "duration": 316,
    "start_time": "2022-04-17T12:18:51.588Z"
   },
   {
    "duration": 479,
    "start_time": "2022-04-17T12:18:56.405Z"
   },
   {
    "duration": 340,
    "start_time": "2022-04-17T12:18:57.117Z"
   },
   {
    "duration": 456,
    "start_time": "2022-04-17T12:18:58.935Z"
   },
   {
    "duration": 541,
    "start_time": "2022-04-17T12:20:03.323Z"
   },
   {
    "duration": 446,
    "start_time": "2022-04-17T12:20:40.803Z"
   },
   {
    "duration": 324,
    "start_time": "2022-04-17T12:20:42.030Z"
   },
   {
    "duration": 294,
    "start_time": "2022-04-17T12:20:54.178Z"
   },
   {
    "duration": 289,
    "start_time": "2022-04-17T12:21:04.045Z"
   },
   {
    "duration": 6,
    "start_time": "2022-04-17T12:21:04.496Z"
   },
   {
    "duration": 7,
    "start_time": "2022-04-17T12:22:50.620Z"
   },
   {
    "duration": 385,
    "start_time": "2022-04-17T12:23:54.318Z"
   },
   {
    "duration": 102,
    "start_time": "2022-04-17T12:24:05.675Z"
   },
   {
    "duration": 548,
    "start_time": "2022-04-17T12:24:08.472Z"
   },
   {
    "duration": 443,
    "start_time": "2022-04-17T12:24:18.668Z"
   },
   {
    "duration": 5,
    "start_time": "2022-04-17T12:24:35.091Z"
   },
   {
    "duration": 263,
    "start_time": "2022-04-17T12:25:14.542Z"
   },
   {
    "duration": 10,
    "start_time": "2022-04-17T12:25:21.353Z"
   },
   {
    "duration": 18,
    "start_time": "2022-04-17T12:25:30.660Z"
   },
   {
    "duration": 36,
    "start_time": "2022-04-17T12:25:30.896Z"
   },
   {
    "duration": 38,
    "start_time": "2022-04-17T12:25:31.112Z"
   },
   {
    "duration": 26,
    "start_time": "2022-04-17T12:25:31.347Z"
   },
   {
    "duration": 19,
    "start_time": "2022-04-17T12:25:31.675Z"
   },
   {
    "duration": 10,
    "start_time": "2022-04-17T12:25:32.680Z"
   },
   {
    "duration": 326,
    "start_time": "2022-04-17T12:29:27.918Z"
   },
   {
    "duration": 291,
    "start_time": "2022-04-17T12:29:54.081Z"
   },
   {
    "duration": 242,
    "start_time": "2022-04-17T12:30:26.916Z"
   },
   {
    "duration": 217,
    "start_time": "2022-04-17T12:30:39.296Z"
   },
   {
    "duration": 224,
    "start_time": "2022-04-17T12:30:59.398Z"
   },
   {
    "duration": 235,
    "start_time": "2022-04-17T12:32:17.569Z"
   },
   {
    "duration": 51,
    "start_time": "2022-04-17T12:34:41.418Z"
   },
   {
    "duration": 284,
    "start_time": "2022-04-17T12:36:00.213Z"
   },
   {
    "duration": 13,
    "start_time": "2022-04-17T12:36:25.480Z"
   },
   {
    "duration": 588,
    "start_time": "2022-04-17T12:36:40.900Z"
   },
   {
    "duration": 98,
    "start_time": "2022-04-17T12:38:28.155Z"
   },
   {
    "duration": 61,
    "start_time": "2022-04-17T12:38:33.368Z"
   },
   {
    "duration": 598,
    "start_time": "2022-04-17T12:38:45.805Z"
   },
   {
    "duration": 246,
    "start_time": "2022-04-17T12:38:54.926Z"
   },
   {
    "duration": 240,
    "start_time": "2022-04-17T12:40:54.658Z"
   },
   {
    "duration": 272,
    "start_time": "2022-04-17T12:41:05.726Z"
   },
   {
    "duration": 265,
    "start_time": "2022-04-17T12:41:32.547Z"
   },
   {
    "duration": 88,
    "start_time": "2022-04-17T12:41:46.134Z"
   },
   {
    "duration": 240,
    "start_time": "2022-04-17T12:41:53.795Z"
   },
   {
    "duration": 247,
    "start_time": "2022-04-17T12:42:04.835Z"
   },
   {
    "duration": 327,
    "start_time": "2022-04-17T12:43:11.401Z"
   },
   {
    "duration": 240,
    "start_time": "2022-04-17T12:43:25.075Z"
   },
   {
    "duration": 8,
    "start_time": "2022-04-17T12:43:25.738Z"
   },
   {
    "duration": 10,
    "start_time": "2022-04-17T12:44:35.484Z"
   },
   {
    "duration": 7,
    "start_time": "2022-04-17T12:44:38.357Z"
   },
   {
    "duration": 11,
    "start_time": "2022-04-17T12:53:17.185Z"
   },
   {
    "duration": 9,
    "start_time": "2022-04-17T12:53:18.310Z"
   },
   {
    "duration": 10,
    "start_time": "2022-04-17T12:53:19.068Z"
   },
   {
    "duration": 14,
    "start_time": "2022-04-17T12:53:29.426Z"
   },
   {
    "duration": 7,
    "start_time": "2022-04-17T12:54:29.802Z"
   },
   {
    "duration": 7,
    "start_time": "2022-04-17T12:54:30.748Z"
   },
   {
    "duration": 10,
    "start_time": "2022-04-17T12:54:31.379Z"
   },
   {
    "duration": 13,
    "start_time": "2022-04-17T12:54:32.595Z"
   },
   {
    "duration": 534,
    "start_time": "2022-04-17T12:55:50.336Z"
   },
   {
    "duration": 129,
    "start_time": "2022-04-17T12:56:00.478Z"
   },
   {
    "duration": 434,
    "start_time": "2022-04-17T12:56:02.963Z"
   }
  ],
  "kernelspec": {
   "display_name": "Python 3",
   "language": "python",
   "name": "python3"
  },
  "language_info": {
   "codemirror_mode": {
    "name": "ipython",
    "version": 3
   },
   "file_extension": ".py",
   "mimetype": "text/x-python",
   "name": "python",
   "nbconvert_exporter": "python",
   "pygments_lexer": "ipython3",
   "version": "3.8.8"
  },
  "toc": {
   "base_numbering": 1,
   "nav_menu": {},
   "number_sections": true,
   "sideBar": true,
   "skip_h1_title": true,
   "title_cell": "Table of Contents",
   "title_sidebar": "Contents",
   "toc_cell": false,
   "toc_position": {
    "height": "calc(100% - 180px)",
    "left": "10px",
    "top": "150px",
    "width": "269.119px"
   },
   "toc_section_display": true,
   "toc_window_display": true
  }
 },
 "nbformat": 4,
 "nbformat_minor": 2
}
